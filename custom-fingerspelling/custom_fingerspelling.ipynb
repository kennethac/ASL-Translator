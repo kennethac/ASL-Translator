{
  "nbformat": 4,
  "nbformat_minor": 0,
  "metadata": {
    "colab": {
      "name": "Kaggle ASL Alphabet",
      "provenance": []
    },
    "kernelspec": {
      "name": "python3",
      "display_name": "Python 3"
    },
    "accelerator": "GPU"
  },
  "cells": [
    {
      "cell_type": "markdown",
      "metadata": {
        "id": "xDwJO9lsbuTv",
        "colab_type": "text"
      },
      "source": [
        "The data for this notebook comes from our propriety fingerspelling image collection, which per our privacy statement _**should not**_ be seen by anyone but those directly working on this project."
      ]
    },
    {
      "cell_type": "code",
      "metadata": {
        "id": "4Vhw70_FbDcp",
        "colab_type": "code",
        "outputId": "c8db634f-a04c-470e-e856-f7ec56ddb95b",
        "colab": {
          "base_uri": "https://localhost:8080/",
          "height": 127
        }
      },
      "source": [
        "\"\"\"\n",
        "  1. Mount Google Drive (no need to check if already mounted, it does that for you)\n",
        "  2. \n",
        "\"\"\"\n",
        "from google.colab import drive\n",
        "drive.mount('/content/gdrive')\n",
        "\n"
      ],
      "execution_count": 2,
      "outputs": [
        {
          "output_type": "stream",
          "text": [
            "Go to this URL in a browser: https://accounts.google.com/o/oauth2/auth?client_id=947318989803-6bn6qk8qdgf4n4g3pfee6491hc0brc4i.apps.googleusercontent.com&redirect_uri=urn%3aietf%3awg%3aoauth%3a2.0%3aoob&response_type=code&scope=email%20https%3a%2f%2fwww.googleapis.com%2fauth%2fdocs.test%20https%3a%2f%2fwww.googleapis.com%2fauth%2fdrive%20https%3a%2f%2fwww.googleapis.com%2fauth%2fdrive.photos.readonly%20https%3a%2f%2fwww.googleapis.com%2fauth%2fpeopleapi.readonly\n",
            "\n",
            "Enter your authorization code:\n",
            "··········\n",
            "Mounted at /content/gdrive\n"
          ],
          "name": "stdout"
        }
      ]
    },
    {
      "cell_type": "code",
      "metadata": {
        "id": "O8KaspYaCf8k",
        "colab_type": "code",
        "colab": {}
      },
      "source": [
        "!rm -rf \"/content/fingerspelling\"\n",
        "!unzip \"/content/gdrive/My Drive/CS474 Final Project/CustomFingerspelling/360.zip\" > /dev/null"
      ],
      "execution_count": 0,
      "outputs": []
    },
    {
      "cell_type": "code",
      "metadata": {
        "id": "RAeEDSw1DsSU",
        "colab_type": "code",
        "colab": {}
      },
      "source": [
        "root_dir = \"/content/fingerspelling\""
      ],
      "execution_count": 0,
      "outputs": []
    },
    {
      "cell_type": "code",
      "metadata": {
        "id": "Ak1Cqg7cP-kF",
        "colab_type": "code",
        "outputId": "339171a0-c013-4ae6-c28c-730ad626fb2b",
        "colab": {
          "base_uri": "https://localhost:8080/",
          "height": 199
        }
      },
      "source": [
        "!pip3 install torch\n",
        "!pip3 install torchvision\n",
        "!pip3 install tqdm\n",
        "\n",
        "import torch\n",
        "import torch.nn as nn\n",
        "import torch.nn.functional as F\n",
        "import torch.optim as optim\n",
        "from torch.utils.data import Dataset, DataLoader\n",
        "import numpy as np\n",
        "import matplotlib.pyplot as plt\n",
        "from torchvision import transforms, utils, datasets\n",
        "from tqdm import tqdm\n",
        "from torch.nn.parameter import Parameter\n",
        "import pdb\n",
        "import torchvision\n",
        "import os\n",
        "import gzip\n",
        "import tarfile\n",
        "import gc\n",
        "from IPython.core.ultratb import AutoFormattedTB\n",
        "from torch.utils.data.sampler import SubsetRandomSampler\n",
        "\n",
        "__ITB__ = AutoFormattedTB(mode = 'Verbose',color_scheme='LightBg', tb_offset = 1)\n",
        "\n",
        "assert torch.cuda.is_available(), \"You need to request a GPU from Runtime > Change Runtime\""
      ],
      "execution_count": 5,
      "outputs": [
        {
          "output_type": "stream",
          "text": [
            "Requirement already satisfied: torch in /usr/local/lib/python3.6/dist-packages (1.3.1)\n",
            "Requirement already satisfied: numpy in /usr/local/lib/python3.6/dist-packages (from torch) (1.17.4)\n",
            "Requirement already satisfied: torchvision in /usr/local/lib/python3.6/dist-packages (0.4.2)\n",
            "Requirement already satisfied: numpy in /usr/local/lib/python3.6/dist-packages (from torchvision) (1.17.4)\n",
            "Requirement already satisfied: six in /usr/local/lib/python3.6/dist-packages (from torchvision) (1.12.0)\n",
            "Requirement already satisfied: torch==1.3.1 in /usr/local/lib/python3.6/dist-packages (from torchvision) (1.3.1)\n",
            "Requirement already satisfied: pillow>=4.1.1 in /usr/local/lib/python3.6/dist-packages (from torchvision) (4.3.0)\n",
            "Requirement already satisfied: olefile in /usr/local/lib/python3.6/dist-packages (from pillow>=4.1.1->torchvision) (0.46)\n",
            "Requirement already satisfied: tqdm in /usr/local/lib/python3.6/dist-packages (4.28.1)\n"
          ],
          "name": "stdout"
        }
      ]
    },
    {
      "cell_type": "code",
      "metadata": {
        "id": "Tb5vda7aQSwm",
        "colab_type": "code",
        "colab": {}
      },
      "source": [
        "dataset = torchvision.datasets.ImageFolder(\n",
        "          root_dir,\n",
        "          transform = transforms.Compose(\n",
        "              [\n",
        "               transforms.RandomGrayscale(0.4),\n",
        "               transforms.Resize(360), # Make it so we know where we're looking at least\n",
        "               transforms.RandomResizedCrop(224, (0.5, 1)),\n",
        "               transforms.RandomHorizontalFlip(),\n",
        "               transforms.RandomChoice([\n",
        "                 transforms.RandomPerspective(distortion_scale=0.2, p=0.75),\n",
        "                 transforms.RandomPerspective(distortion_scale=0.4, p=0.75),\n",
        "                 transforms.RandomPerspective(distortion_scale=0.6, p=0.75)]\n",
        "               ),\n",
        "               transforms.ToTensor(),\n",
        "               transforms.Normalize(mean=[0.485, 0.456, 0.406],\n",
        "                                 std=[0.229, 0.224, 0.225])\n",
        "               ]))"
      ],
      "execution_count": 0,
      "outputs": []
    },
    {
      "cell_type": "code",
      "metadata": {
        "id": "K6SgLCfRGwwB",
        "colab_type": "code",
        "colab": {}
      },
      "source": [
        "def imshow(inp, title=None):\n",
        "    \"\"\"Imshow for Tensor.\"\"\"\n",
        "    inp = inp.numpy().transpose((1, 2, 0))\n",
        "    mean = np.array([0.485, 0.456, 0.406])\n",
        "    std = np.array([0.229, 0.224, 0.225])\n",
        "    inp = std * inp + mean\n",
        "    inp = np.clip(inp, 0, 1)\n",
        "    plt.imshow(inp)\n",
        "    if title is not None:\n",
        "        plt.title(title)\n",
        "    plt.pause(0.001)  # pause a bit so that plots are updated\n"
      ],
      "execution_count": 0,
      "outputs": []
    },
    {
      "cell_type": "code",
      "metadata": {
        "id": "AIkN49dZD_hP",
        "colab_type": "code",
        "colab": {}
      },
      "source": [
        "batch_size = 15\n",
        "validation_split = 0.08 # Gives roughly 26 in validation\n",
        "shuffle_dataset = True\n",
        "random_seed = 2019\n",
        "\n",
        "# Creating data indices for training and validation splits:\n",
        "dataset_size = len(dataset)\n",
        "indices = list(range(dataset_size))\n",
        "split = int(np.floor(validation_split * dataset_size))\n",
        "if shuffle_dataset:\n",
        "    np.random.seed(random_seed)\n",
        "    np.random.shuffle(indices)\n",
        "train_indices, val_indices = indices[split:], indices[:split]\n",
        "\n",
        "# Creating PT data samplers and loaders:\n",
        "train_sampler = SubsetRandomSampler(train_indices)\n",
        "valid_sampler = SubsetRandomSampler(val_indices)\n",
        "\n",
        "train_loader = DataLoader(dataset, batch_size=batch_size, \n",
        "                                           sampler=train_sampler)\n",
        "validation_loader = DataLoader(dataset, batch_size=batch_size,\n",
        "                                                sampler=valid_sampler)"
      ],
      "execution_count": 0,
      "outputs": []
    },
    {
      "cell_type": "code",
      "metadata": {
        "id": "_vB7v78BHWiP",
        "colab_type": "code",
        "colab": {}
      },
      "source": [
        "for x, y in train_loader:\n",
        "  for i, j in zip(x, y.tolist()):\n",
        "    print(dataset.classes[j])\n",
        "    imshow(i)\n",
        "  break"
      ],
      "execution_count": 0,
      "outputs": []
    },
    {
      "cell_type": "code",
      "metadata": {
        "id": "lwJtylU7NSpc",
        "colab_type": "code",
        "colab": {}
      },
      "source": [
        "[dataset.classes[c] for imgs, batch in validation_loader for c in batch ]"
      ],
      "execution_count": 0,
      "outputs": []
    },
    {
      "cell_type": "code",
      "metadata": {
        "id": "Vi4kQXjELNPK",
        "colab_type": "code",
        "outputId": "0c273d98-5734-4ae2-d51a-fa171d7a2e17",
        "colab": {
          "base_uri": "https://localhost:8080/",
          "height": 53
        }
      },
      "source": [
        "print(\"Number in the train sampler: {}\".format(len(train_indices)))\n",
        "print(\"Number in the validate sampler: {}\".format(len(val_indices)))"
      ],
      "execution_count": 9,
      "outputs": [
        {
          "output_type": "stream",
          "text": [
            "Number in the train sampler: 332\n",
            "Number in the validate sampler: 28\n"
          ],
          "name": "stdout"
        }
      ]
    },
    {
      "cell_type": "code",
      "metadata": {
        "id": "HOurZtneWHxI",
        "colab_type": "code",
        "outputId": "fd4c1082-9ab4-4539-b66c-5d7325207a24",
        "colab": {
          "base_uri": "https://localhost:8080/",
          "height": 73
        }
      },
      "source": [
        "# Initialize Model\n",
        "model = torchvision.models.resnet50(pretrained=True)\n",
        "num_f = model.fc.in_features\n",
        "model.fc = nn.Linear(num_f, len(dataset.classes))\n",
        "\n",
        "model = model.cuda() #use GPU\n",
        "\n",
        "# Initialize Objective and Optimizer and other parameters\n",
        "objective = nn.CrossEntropyLoss()\n",
        "optimizer = optim.Adam(model.parameters(), lr=0.00001)"
      ],
      "execution_count": 10,
      "outputs": [
        {
          "output_type": "stream",
          "text": [
            "Downloading: \"https://download.pytorch.org/models/resnet50-19c8e357.pth\" to /root/.cache/torch/checkpoints/resnet50-19c8e357.pth\n",
            "100%|██████████| 97.8M/97.8M [00:00<00:00, 375MB/s]\n"
          ],
          "name": "stderr"
        }
      ]
    },
    {
      "cell_type": "code",
      "metadata": {
        "id": "yG-MDzwWpi3u",
        "colab_type": "code",
        "colab": {}
      },
      "source": [
        "import matplotlib.pyplot as plt\n"
      ],
      "execution_count": 0,
      "outputs": []
    },
    {
      "cell_type": "code",
      "metadata": {
        "id": "jKvaGpQVRFfH",
        "colab_type": "code",
        "colab": {}
      },
      "source": [
        "# This is what was talked about in the video for memory management\n",
        "num_epochs = 200\n",
        "valid_frequency = 1\n",
        "\n",
        "saved_epoch = -1\n",
        "\n",
        "train_losses = []\n",
        "validation_losses = []\n",
        "train_acc = []\n",
        "valid_acc = []\n",
        "\n",
        "def scope():\n",
        "  model_directory = \"/content/gdrive/My Drive/CS474 Final Project/CustomFingerspelling/Models3\"\n",
        "  best_loss = float(\"inf\")\n",
        "\n",
        "  try:\n",
        "    #your code for calling dataset and dataloader\n",
        "    gc.collect()\n",
        "    torch.cuda.empty_cache()\n",
        "\n",
        "    loop = tqdm(\n",
        "        total=(len(train_loader) * num_epochs) +\n",
        "          (len(validation_loader) * (num_epochs // valid_frequency))\n",
        "        , position = 0)\n",
        "\n",
        "    for epoch in range(num_epochs):\n",
        "      sum_loss = 0\n",
        "      count_loss = 0\n",
        "      sum_acc = 0\n",
        "      count_acc = 0\n",
        "\n",
        "      for batch_i, (x, y_truth) in enumerate(train_loader):\n",
        "        x, y_truth = x.cuda(async=True), y_truth.cuda(async=True)\n",
        "        optimizer.zero_grad()\n",
        "        y_hat = model(x)\n",
        "        y_long = y_truth.long()\n",
        "\n",
        "        # print(\"\\n\\n-----------\\ny_hat: {}, y_long: {}\\n-----------\\n\\n\".format(y_hat.size(), y_long.size()))\n",
        "        loss = objective(y_hat, y_long)\n",
        "        sum_loss += loss.item()\n",
        "        count_loss += 1\n",
        "\n",
        "        accuracy = 1- (torch.nonzero(torch.argmax(y_hat, 1) - y_truth).size(0) / len(y_truth))\n",
        "        sum_acc += accuracy\n",
        "        count_acc += 1\n",
        "\n",
        "        loop.set_description(\"epoch:{}, loss:{:.4f}, accuracy:{:.4f}\".format(epoch, loss.item(), accuracy))\n",
        "        loop.update(1)\n",
        "        loss.backward()\n",
        "        optimizer.step()\n",
        "\n",
        "        # Save model out if it's the new lowest loss.\n",
        "        if loss.item() < best_loss:\n",
        "          best_loss = loss.item()\n",
        "          state = {\n",
        "              'epoch': epoch,\n",
        "              'batch_i': batch_i,\n",
        "              'state': model.state_dict(),\n",
        "              'optim': optimizer.state_dict(),\n",
        "              'train_losses': train_losses,\n",
        "              'train_acc': train_acc,\n",
        "              'valid_losses': validation_losses,\n",
        "              'valid_acc': valid_acc,\n",
        "              'current_loss': loss.item()\n",
        "          }\n",
        "          model_file = os.path.join(model_directory, \"resnet50.mod\")\n",
        "          torch.save(state, model_file)\n",
        "\n",
        "      epoch_loss = sum_loss / count_loss\n",
        "      train_losses.append( (epoch, epoch_loss) )\n",
        "      epoch_acc = sum_acc / count_acc\n",
        "      train_acc.append( ( epoch, epoch_acc ) )\n",
        "      \n",
        "      if epoch % valid_frequency == 0:\n",
        "        sum_loss = 0\n",
        "        count_loss = 0\n",
        "        sum_acc = 0\n",
        "        count_acc = 0\n",
        "        with torch.no_grad():\n",
        "          for x, y_truth in validation_loader:\n",
        "            x, y_truth = x.cuda(async=True), y_truth.cuda(async=True)\n",
        "            y_hat = model(x)\n",
        "            loss = objective(y_hat, y_truth.long())\n",
        "            sum_loss += loss.item()\n",
        "            count_loss += 1       \n",
        "            accuracy = 1- (torch.nonzero(torch.argmax(y_hat, 1) - y_truth).size(0) / len(y_truth))\n",
        "            sum_acc += accuracy\n",
        "            count_acc += 1\n",
        "          \n",
        "          valid_acc.append((epoch, sum_acc / count_acc))\n",
        "          validation_losses.append((epoch, sum_loss / count_loss))\n",
        "      # Plot stuff.\n",
        "      # plt.plot(*zip(*train_losses), label=\"Training\")\n",
        "      # plt.plot(*zip(*validation_losses), label=\"Validation\")\n",
        "      # plt.draw() \n",
        "      # plt.pause(0.01)\n",
        "  except:\n",
        "    __ITB__()\n",
        "    raise"
      ],
      "execution_count": 0,
      "outputs": []
    },
    {
      "cell_type": "code",
      "metadata": {
        "id": "DrPdgy_QtIFU",
        "colab_type": "code",
        "outputId": "f6a4a681-fcfa-4d0c-ad2d-90a8b9e275fe",
        "colab": {
          "base_uri": "https://localhost:8080/",
          "height": 35
        }
      },
      "source": [
        "scope()"
      ],
      "execution_count": 12,
      "outputs": [
        {
          "output_type": "stream",
          "text": [
            "epoch:199, loss:0.9326, accuracy:1.0000:  92%|█████████▏| 4600/5000 [46:59<02:58,  2.24it/s]"
          ],
          "name": "stderr"
        }
      ]
    },
    {
      "cell_type": "code",
      "metadata": {
        "id": "4X4xaP2EIFLB",
        "colab_type": "code",
        "colab": {
          "base_uri": "https://localhost:8080/",
          "height": 73
        },
        "outputId": "ebc541e4-91a1-49c6-c704-3862bf68ffa9"
      },
      "source": [
        "print(train_losses)\n",
        "print(validation_losses)"
      ],
      "execution_count": 13,
      "outputs": [
        {
          "output_type": "stream",
          "text": [
            "[(0, 3.364232011463331), (1, 3.3317567991173784), (2, 3.297061775041663), (3, 3.2817957401275635), (4, 3.2853529349617334), (5, 3.270494450693545), (6, 3.2450412149014682), (7, 3.2371721786001455), (8, 3.2290968687637993), (9, 3.2011967845585034), (10, 3.1913302255713423), (11, 3.1581574108289634), (12, 3.1054301054581352), (13, 3.078651749569437), (14, 3.061947190243265), (15, 2.989921642386395), (16, 2.9503473509912905), (17, 2.887723611748737), (18, 2.8699439815852954), (19, 2.741601093955662), (20, 2.731615512267403), (21, 2.6566319465637207), (22, 2.592499525650688), (23, 2.504028797149658), (24, 2.446163405542788), (25, 2.3654811485953955), (26, 2.2987408430679985), (27, 2.2262789373812466), (28, 2.1342673042546147), (29, 2.1540027701336406), (30, 2.037486967833146), (31, 2.0160455340924472), (32, 1.8867738195087598), (33, 1.9473122824793276), (34, 1.8212717356889143), (35, 1.8198101313217827), (36, 1.7083268839380015), (37, 1.7112610599269038), (38, 1.688453373701676), (39, 1.6352071243783701), (40, 1.5221236011256343), (41, 1.639047104379405), (42, 1.5277010979859724), (43, 1.4011850771696672), (44, 1.4254126341446587), (45, 1.4373629818791929), (46, 1.4179062998813132), (47, 1.2788574151370837), (48, 1.2346298642780469), (49, 1.2096350426259248), (50, 1.2585543031277864), (51, 1.2269718724748362), (52, 1.136175362960152), (53, 1.1482050004212752), (54, 1.1383962968121404), (55, 1.1090807655583257), (56, 1.0685927401418271), (57, 1.116061990675719), (58, 1.0017321161601855), (59, 1.1373410535895305), (60, 1.0153375112492105), (61, 1.018119778322137), (62, 0.9584522739700649), (63, 0.9877060340798419), (64, 0.9331247158672499), (65, 0.92762600209402), (66, 0.9762082955111628), (67, 0.8891443908214569), (68, 0.8113744194092958), (69, 0.8718725650206857), (70, 0.8517489847929581), (71, 0.9145709716755411), (72, 0.7954268779443658), (73, 0.8075567263623943), (74, 0.7934308868387471), (75, 0.7469736117383708), (76, 0.8397612779036813), (77, 0.7758869127086971), (78, 0.828120117602141), (79, 0.8355868912261465), (80, 0.6416094607633093), (81, 0.5996935574904733), (82, 0.7775153997151748), (83, 0.7585985725340636), (84, 0.6764159669046816), (85, 0.742645330403162), (86, 0.7364304778368577), (87, 0.7397057219691898), (88, 0.7395975576794666), (89, 0.6811474198880403), (90, 0.6956786461498426), (91, 0.6982737060474313), (92, 0.6755927833526031), (93, 0.6482294162978297), (94, 0.6383228787909383), (95, 0.6417646200760551), (96, 0.5839564567026885), (97, 0.6359478883121324), (98, 0.6874604724023653), (99, 0.5984568226596584), (100, 0.628996126677679), (101, 0.6173430162927379), (102, 0.5318282985168955), (103, 0.5535427817831868), (104, 0.5534290140089781), (105, 0.5947583492683328), (106, 0.5676942768952121), (107, 0.4664795839268228), (108, 0.5498424114092536), (109, 0.648155073756757), (110, 0.502486552881158), (111, 0.6454945686070815), (112, 0.5269678500683411), (113, 0.4677310809493065), (114, 0.5102276886286943), (115, 0.49304286260967667), (116, 0.4663907568091932), (117, 0.4384570435985275), (118, 0.4838513754632162), (119, 0.5678148836545323), (120, 0.7060292930058811), (121, 0.46756818890571594), (122, 0.5622808525095815), (123, 0.4728826167790786), (124, 0.5536687694813894), (125, 0.5143368976271671), (126, 0.5133338382710582), (127, 0.5194702504769616), (128, 0.4522238853185073), (129, 0.44252801135830255), (130, 0.49385321399439935), (131, 0.5790904786275781), (132, 0.44006770622471103), (133, 0.5040692133100136), (134, 0.45117075433549675), (135, 0.5314935400434162), (136, 0.5570368112429328), (137, 0.6052590556766676), (138, 0.4071901599350183), (139, 0.40298775259567343), (140, 0.44818305872056796), (141, 0.42683263544155203), (142, 0.4562745338872723), (143, 0.472207468488942), (144, 0.45106145577586215), (145, 0.43181412618445314), (146, 0.4326144809956136), (147, 0.40796459045099176), (148, 0.4373810294529666), (149, 0.4294784094976342), (150, 0.3673621524611245), (151, 0.4130804414010566), (152, 0.3927958052119483), (153, 0.41746813949683437), (154, 0.3888377176354761), (155, 0.3523675075367741), (156, 0.4534214537428773), (157, 0.3746930412624193), (158, 0.3635561560159144), (159, 0.399052730559007), (160, 0.43218076747396716), (161, 0.44941432855051494), (162, 0.44682413404402527), (163, 0.38911817093258316), (164, 0.3745260970747989), (165, 0.3761359172994676), (166, 0.41178568630762724), (167, 0.39867144061819365), (168, 0.3577866988337558), (169, 0.397093613024639), (170, 0.4687170629268107), (171, 0.38975592799808667), (172, 0.4296567660310994), (173, 0.38217768834336946), (174, 0.483318530023098), (175, 0.3746283294066139), (176, 0.3397927606559318), (177, 0.3873255907193474), (178, 0.44551532116273174), (179, 0.34563887232671614), (180, 0.44959259713473526), (181, 0.35980539185845334), (182, 0.35026456512834714), (183, 0.36511837043192075), (184, 0.38618537945591885), (185, 0.3852718007629332), (186, 0.33480955384995625), (187, 0.3841574924147647), (188, 0.24976700382388156), (189, 0.3806483424876047), (190, 0.385999311733505), (191, 0.366824218760366), (192, 0.4691411248691704), (193, 0.39545560741554137), (194, 0.37713684821906296), (195, 0.3676589662614076), (196, 0.39825144717874733), (197, 0.4258109970909098), (198, 0.438655446243027), (199, 0.350101536868707)]\n",
            "[(0, 3.3166698217391968), (1, 3.3541457653045654), (2, 3.3516799211502075), (3, 3.382292151451111), (4, 3.3694536685943604), (5, 3.382475733757019), (6, 3.35521137714386), (7, 3.3889987468719482), (8, 3.417481541633606), (9, 3.4440726041793823), (10, 3.3493881225585938), (11, 3.3587486743927), (12, 3.301259160041809), (13, 3.295034408569336), (14, 3.290235757827759), (15, 3.231613516807556), (16, 3.1742578744888306), (17, 3.236536741256714), (18, 3.122326970100403), (19, 3.0052446126937866), (20, 3.046200752258301), (21, 2.9482853412628174), (22, 2.8512624502182007), (23, 2.8731623888015747), (24, 2.9146052598953247), (25, 2.6496697664260864), (26, 2.883180618286133), (27, 2.8098033666610718), (28, 2.495455503463745), (29, 2.475948929786682), (30, 2.364462971687317), (31, 2.3274080753326416), (32, 2.3216830492019653), (33, 2.4265040159225464), (34, 2.026998460292816), (35, 2.07302463054657), (36, 2.283804714679718), (37, 2.271200656890869), (38, 2.2363110780715942), (39, 1.8404565453529358), (40, 1.809443712234497), (41, 2.098349392414093), (42, 1.999365508556366), (43, 1.7994276285171509), (44, 2.034254014492035), (45, 1.7900325655937195), (46, 2.082035720348358), (47, 1.7379613518714905), (48, 1.7755061984062195), (49, 1.8168122172355652), (50, 1.6065267324447632), (51, 1.8375776410102844), (52, 1.699726641178131), (53, 2.0658085346221924), (54, 1.6010850667953491), (55, 1.9910377264022827), (56, 1.7186240553855896), (57, 1.5691586136817932), (58, 1.4349145889282227), (59, 1.4770089387893677), (60, 1.486919105052948), (61, 1.689649760723114), (62, 1.5742374658584595), (63, 1.7538198232650757), (64, 1.383603036403656), (65, 1.7440626621246338), (66, 1.799829125404358), (67, 1.3444724082946777), (68, 1.6487542390823364), (69, 1.6188877820968628), (70, 1.1251035928726196), (71, 1.640180766582489), (72, 1.7018277645111084), (73, 1.4483833312988281), (74, 1.4202595949172974), (75, 1.5606399178504944), (76, 1.7577130198478699), (77, 1.4794807434082031), (78, 1.2642513513565063), (79, 1.4527755379676819), (80, 1.4684568643569946), (81, 1.2934827208518982), (82, 1.6954347491264343), (83, 1.4200941920280457), (84, 1.7570685148239136), (85, 1.3423560857772827), (86, 1.5753583312034607), (87, 1.6829777956008911), (88, 1.5977283120155334), (89, 1.4246256351470947), (90, 1.5601838827133179), (91, 1.8524419069290161), (92, 1.3894672393798828), (93, 1.7433213591575623), (94, 1.448511779308319), (95, 1.4167602956295013), (96, 1.4758805632591248), (97, 1.6244773864746094), (98, 1.7759818732738495), (99, 1.4387478828430176), (100, 1.4889119863510132), (101, 1.7949024438858032), (102, 1.6262896656990051), (103, 1.526050329208374), (104, 1.1833611726760864), (105, 1.8586196899414062), (106, 1.407321810722351), (107, 1.7976398468017578), (108, 1.9101524353027344), (109, 1.8655356168746948), (110, 1.4664674699306488), (111, 1.5019738674163818), (112, 1.5402714014053345), (113, 1.141884207725525), (114, 1.1874386668205261), (115, 1.4403294622898102), (116, 1.2115135490894318), (117, 1.264558583498001), (118, 1.8801394701004028), (119, 1.6165902614593506), (120, 1.1991367638111115), (121, 1.433206021785736), (122, 1.7804438471794128), (123, 1.4496840834617615), (124, 1.8476118445396423), (125, 1.2655114233493805), (126, 1.5574090480804443), (127, 1.5580850839614868), (128, 1.7099640369415283), (129, 1.3872609734535217), (130, 1.5958182215690613), (131, 1.6200793385505676), (132, 2.0926371812820435), (133, 1.2400413155555725), (134, 1.606252908706665), (135, 1.2427179515361786), (136, 1.6006240844726562), (137, 1.240106225013733), (138, 1.5183043479919434), (139, 1.6650923490524292), (140, 1.4576760232448578), (141, 1.8015757203102112), (142, 1.5751526951789856), (143, 1.457360863685608), (144, 1.4186608791351318), (145, 1.511481761932373), (146, 1.6936168670654297), (147, 1.553223192691803), (148, 1.8445289134979248), (149, 1.9936150908470154), (150, 1.8915679454803467), (151, 1.5119722783565521), (152, 1.436090737581253), (153, 1.3718676567077637), (154, 1.5029956102371216), (155, 1.6665825247764587), (156, 1.661745846271515), (157, 1.81532883644104), (158, 1.4835877418518066), (159, 1.6711592078208923), (160, 1.2874737679958344), (161, 1.7951993346214294), (162, 1.6544249653816223), (163, 1.3415865898132324), (164, 1.2332645058631897), (165, 1.2988783419132233), (166, 1.238128900527954), (167, 1.5408579409122467), (168, 1.6499703228473663), (169, 1.759308934211731), (170, 1.4808072447776794), (171, 1.71721750497818), (172, 1.8235468864440918), (173, 1.4210591316223145), (174, 1.3366929292678833), (175, 1.8850462436676025), (176, 1.4998127818107605), (177, 1.0403799414634705), (178, 1.3877971172332764), (179, 2.0412663221359253), (180, 1.832854151725769), (181, 1.487635850906372), (182, 1.607097089290619), (183, 1.5051491260528564), (184, 1.6903398633003235), (185, 1.963056743144989), (186, 1.6653329730033875), (187, 1.3115990161895752), (188, 1.7472161054611206), (189, 1.2895291447639465), (190, 1.8127825260162354), (191, 1.4366685450077057), (192, 1.6704476475715637), (193, 1.7338664531707764), (194, 1.9623697400093079), (195, 1.763860285282135), (196, 1.7096335887908936), (197, 1.7072336077690125), (198, 1.4286351799964905), (199, 1.6301386952400208)]\n"
          ],
          "name": "stdout"
        }
      ]
    },
    {
      "cell_type": "code",
      "metadata": {
        "id": "CMeJFfEJWW6G",
        "colab_type": "code",
        "outputId": "52bfd076-4cdb-4da1-dedc-4f618642339e",
        "colab": {
          "base_uri": "https://localhost:8080/",
          "height": 545
        }
      },
      "source": [
        "plt.title(\"Losses\")\n",
        "plt.plot(*zip(*train_losses), label=\"Training\")\n",
        "plt.plot(*zip(*validation_losses), label=\"Validation\")\n",
        "plt.legend(loc=\"upper right\")\n",
        "plt.show()\n",
        "\n",
        "plt.plot(*zip(*train_acc), label=\"Training\")\n",
        "plt.plot(*zip(*valid_acc), label=\"Validation\")\n",
        "plt.title(\"Training accuracies\")\n",
        "plt.show()"
      ],
      "execution_count": 14,
      "outputs": [
        {
          "output_type": "display_data",
          "data": {
            "image/png": "[encoded data removed]",
            "text/plain": [
              "<Figure size 432x288 with 1 Axes>"
            ]
          },
          "metadata": {
            "tags": []
          }
        },
        {
          "output_type": "display_data",
          "data": {
            "image/png": "[encoded data removed]",
            "text/plain": [
              "<Figure size 432x288 with 1 Axes>"
            ]
          },
          "metadata": {
            "tags": []
          }
        }
      ]
    },
    {
      "cell_type": "code",
      "metadata": {
        "id": "g_76-Gznx55J",
        "colab_type": "code",
        "colab": {}
      },
      "source": [
        "# Save that model out.\n",
        "torch.save(model.state_dict(), \"/content/gdrive/My Drive/CS474 Final Project/CustomFingerspelling/Models3/resnet50_end200.mod\")\n"
      ],
      "execution_count": 0,
      "outputs": []
    },
    {
      "cell_type": "markdown",
      "metadata": {
        "id": "8WGAvb0e4bRM",
        "colab_type": "text"
      },
      "source": [
        "# Validate Transfer Learning"
      ]
    },
    {
      "cell_type": "code",
      "metadata": {
        "id": "IWCHOL2i2fuw",
        "colab_type": "code",
        "colab": {}
      },
      "source": [
        "\"\"\"\n",
        "  1. Mount Google Drive (no need to check if already mounted, it does that for you)\n",
        "  2. \n",
        "\"\"\"\n",
        "from google.colab import drive\n",
        "drive.mount('/content/gdrive')\n",
        "\n",
        "root_dir = \"/content/gdrive/My Drive/models/\""
      ],
      "execution_count": 0,
      "outputs": []
    },
    {
      "cell_type": "code",
      "metadata": {
        "id": "QOUDNWPRVGu_",
        "colab_type": "code",
        "colab": {}
      },
      "source": [
        "model_file = \"/content/gdrive/My Drive/CS474 Final Project/Kaggle ASL Alphabet/loss_0.0304_epoch_4.mod\"\n",
        "loaded = torch.load(model_file)\n",
        "# print(loaded)\n",
        "model.load_state_dict(loaded)\n"
      ],
      "execution_count": 0,
      "outputs": []
    },
    {
      "cell_type": "code",
      "metadata": {
        "id": "PbyILXQ4qAzR",
        "colab_type": "code",
        "colab": {}
      },
      "source": [
        "model_file = \"/content/gdrive/My Drive/CS474 Final Project/Kaggle ASL Alphabet/loss_0.0304_epoch_4.mod\"\n",
        "\n",
        "model = ConvNetwork(3, len(dataset.dataset_folder.classes), dimensions=128).cuda()\n",
        "model.load_state_dict(torch.load(model_file))"
      ],
      "execution_count": 0,
      "outputs": []
    },
    {
      "cell_type": "code",
      "metadata": {
        "id": "PDh-TxqKrp1n",
        "colab_type": "code",
        "colab": {}
      },
      "source": [
        "# !cd \"/content/gdrive/My Drive/CS474 Final Project/Kaggle ASL Alphabet/\" && unzip Photos.zip\n",
        "!#mkdir \"/content/gdrive/My Drive/CS474 Final Project/Kaggle ASL Alphabet/Michelle\"\n",
        "#!mkdir \"/content/gdrive/My Drive/CS474 Final Project/Kaggle ASL Alphabet/Michelle/name\"\n",
        "\n",
        "!ls \"/content/gdrive/My Drive/CS474 Final Project/Kaggle ASL Alphabet/Michelle/name\""
      ],
      "execution_count": 0,
      "outputs": []
    },
    {
      "cell_type": "code",
      "metadata": {
        "id": "BTatz_AWss_b",
        "colab_type": "code",
        "colab": {}
      },
      "source": [
        "# michelle_set = ASLDataset(\"/content/gdrive/My Drive/CS474 Final Project/Kaggle ASL Alphabet\", \"Michelle\", size=224)\n",
        "michelle_set = torchvision.datasets.ImageFolder(\n",
        "          \"/content/gdrive/My Drive/CS474 Final Project/Kaggle ASL Alphabet/Michelle\",\n",
        "          transform = transforms.Compose(\n",
        "              [\n",
        "               transforms.Resize(224),\n",
        "               transforms.CenterCrop(224), # Make it so we know where we're looking at least\n",
        "              #  transforms.RandomResizedCrop(224, (0.8, 1)),\n",
        "               transforms.ToTensor(),\n",
        "               transforms.Normalize(mean=[0.485, 0.456, 0.406],\n",
        "                                 std=[0.229, 0.224, 0.225])\n",
        "               ]))\n",
        "\n",
        "michelle_loader = DataLoader(michelle_set, batch_size=10)"
      ],
      "execution_count": 0,
      "outputs": []
    },
    {
      "cell_type": "code",
      "metadata": {
        "id": "_h33lcSKs-V2",
        "colab_type": "code",
        "colab": {}
      },
      "source": [
        "print(len(michelle_set))\n",
        "print(len(michelle_loader))"
      ],
      "execution_count": 0,
      "outputs": []
    },
    {
      "cell_type": "code",
      "metadata": {
        "id": "8-kj-xYVw47K",
        "colab_type": "code",
        "colab": {}
      },
      "source": [
        "michelle_set.classes"
      ],
      "execution_count": 0,
      "outputs": []
    },
    {
      "cell_type": "code",
      "metadata": {
        "id": "ssLPZw_BtBP3",
        "colab_type": "code",
        "colab": {}
      },
      "source": [
        "batches = [model(i.cuda()) for i, j in michelle_loader]\n",
        "\"\".join([dataset.classes[torch.argmax(item)] for batch in batches for item in batch])"
      ],
      "execution_count": 0,
      "outputs": []
    },
    {
      "cell_type": "code",
      "metadata": {
        "id": "a_2ePX5sAuIR",
        "colab_type": "code",
        "colab": {}
      },
      "source": [
        "sum = 0\n",
        "for i, j in michelle_loader:\n",
        "  sum += 1\n",
        "  res = model(i.cuda())\n",
        "  chosen = torch.argmax(res, dim=1)\n",
        "  print(chosen)\n",
        "  actual = [dataset.classes[a] for a in j.tolist()]\n",
        "  solved = [dataset.classes[a] for a in chosen.tolist()]\n",
        "  for c, v in enumerate(zip(actual, solved)):\n",
        "    a, s = v\n",
        "    print(\"Actual: {} Guess: {}\".format(a, s))\n",
        "    try:\n",
        "      imshow(i[c])\n",
        "    except:\n",
        "      pass\n",
        "\n",
        "  if sum > 0:\n",
        "    break"
      ],
      "execution_count": 0,
      "outputs": []
    },
    {
      "cell_type": "code",
      "metadata": {
        "id": "drUvyXDJ5FGm",
        "colab_type": "code",
        "colab": {}
      },
      "source": [
        "sum = 0\n",
        "for i, j in validation_loader:\n",
        "  sum += 1\n",
        "  res = model(i.cuda())\n",
        "  chosen = torch.argmax(res, dim=1)\n",
        "  print(chosen)\n",
        "  actual = [dataset.dataset_folder.classes[a] for a in j.tolist()]\n",
        "  solved = [dataset.dataset_folder.classes[a] for a in chosen.tolist()]\n",
        "  for c, v in enumerate(zip(actual, solved)):\n",
        "    a, s = v\n",
        "    print(\"Actual: {} Guess: {}\".format(a, s))\n",
        "    try:\n",
        "      imshow(i[c])\n",
        "    except:\n",
        "      pass\n",
        "\n",
        "  if sum > 0:\n",
        "    break"
      ],
      "execution_count": 0,
      "outputs": []
    },
    {
      "cell_type": "code",
      "metadata": {
        "id": "D0S28sLOxKBn",
        "colab_type": "code",
        "colab": {}
      },
      "source": [
        "import matplotlib.pyplot as plt\n",
        "import torchvision.utils as vutils\n"
      ],
      "execution_count": 0,
      "outputs": []
    },
    {
      "cell_type": "code",
      "metadata": {
        "id": "QIiRthPsxsW5",
        "colab_type": "code",
        "colab": {}
      },
      "source": [
        "def show_imgs(x, new_fig=True):\n",
        "    grid = vutils.make_grid(x.detach().cpu(), nrow=8, normalize=True, pad_value=0.3)\n",
        "    grid = grid.transpose(0,2).transpose(0,1) # channels as last dimension\n",
        "    if new_fig:\n",
        "        plt.figure()\n",
        "    plt.imshow(grid.numpy())"
      ],
      "execution_count": 0,
      "outputs": []
    },
    {
      "cell_type": "code",
      "metadata": {
        "id": "OmznQylmxTQV",
        "colab_type": "code",
        "colab": {}
      },
      "source": [
        "for x, y in michelle_loader:\n",
        "  show_imgs(x)\n"
      ],
      "execution_count": 0,
      "outputs": []
    },
    {
      "cell_type": "markdown",
      "metadata": {
        "id": "8gNj0-7ePcRF",
        "colab_type": "text"
      },
      "source": [
        "# SSH Access\n",
        "\n",
        "If ssh_connect is True, an ssh server will be set up on the hosting server. Ergo power."
      ]
    },
    {
      "cell_type": "code",
      "metadata": {
        "id": "NmJosbn3c0i_",
        "colab_type": "code",
        "colab": {}
      },
      "source": [
        "ssh_connect = False\n",
        "if ssh_connect:\n",
        "  import random, string, getpass\n",
        "\n",
        "  password = ''.join(random.choice(string.ascii_letters + string.digits) for i in range(20))\n",
        "  alias = ''.join(random.choice(string.ascii_letters + string.digits) for i in range(8))\n",
        "  ! echo root:$password | chpasswd\n",
        "\n",
        "  ! apt-get install -qq -o=Dpkg::Use-Pty=0 openssh-server pwgen > /dev/null\n",
        "  ! mkdir -p /var/run/sshd\n",
        "  ! echo \"PermitRootLogin yes\" >> /etc/ssh/sshd_config && echo \"PasswordAuthentication yes\" >> /etc/ssh/sshd_config\n",
        "  ! echo \"LD_LIBRARY_PATH=/usr/lib64-nvidia\" >> /root/.bashrc && echo \"export LD_LIBRARY_PATH\" >> /root/.bashrc\n",
        "  get_ipython().system_raw('/usr/sbin/sshd -D &')\n",
        "\n",
        "  print('sshpass -p {} ssh -o \"StrictHostKeyChecking no\" -J serveo.net root@{}'.format(password, alias))\n",
        "  ! ssh -o \"StrictHostKeyChecking no\" -R $alias:22:localhost:22 serveo.net"
      ],
      "execution_count": 0,
      "outputs": []
    }
  ]
}