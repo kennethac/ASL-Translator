{
  "nbformat": 4,
  "nbformat_minor": 0,
  "metadata": {
    "colab": {
      "name": "Kaggle ASL Alphabet",
      "provenance": []
    },
    "kernelspec": {
      "name": "python3",
      "display_name": "Python 3"
    },
    "accelerator": "GPU"
  },
  "cells": [
    {
      "cell_type": "markdown",
      "metadata": {
        "id": "xDwJO9lsbuTv",
        "colab_type": "text"
      },
      "source": [
        "The data for this notebook comes from our propriety fingerspelling image collection, which per our privacy statement _**should not**_ be seen by anyone but those directly working on this project."
      ]
    },
    {
      "cell_type": "code",
      "metadata": {
        "id": "4Vhw70_FbDcp",
        "colab_type": "code",
        "outputId": "c8db634f-a04c-470e-e856-f7ec56ddb95b",
        "colab": {
          "base_uri": "https://localhost:8080/",
          "height": 127
        }
      },
      "source": [
        "\"\"\"\n",
        "  1. Mount Google Drive (no need to check if already mounted, it does that for you)\n",
        "  2. \n",
        "\"\"\"\n",
        "from google.colab import drive\n",
        "drive.mount('/content/gdrive')\n",
        "\n"
      ],
      "execution_count": 2,
      "outputs": [
        {
          "output_type": "stream",
          "text": [
            "Go to this URL in a browser: https://accounts.google.com/o/oauth2/auth?client_id=947318989803-6bn6qk8qdgf4n4g3pfee6491hc0brc4i.apps.googleusercontent.com&redirect_uri=urn%3aietf%3awg%3aoauth%3a2.0%3aoob&response_type=code&scope=email%20https%3a%2f%2fwww.googleapis.com%2fauth%2fdocs.test%20https%3a%2f%2fwww.googleapis.com%2fauth%2fdrive%20https%3a%2f%2fwww.googleapis.com%2fauth%2fdrive.photos.readonly%20https%3a%2f%2fwww.googleapis.com%2fauth%2fpeopleapi.readonly\n",
            "\n",
            "Enter your authorization code:\n",
            "··········\n",
            "Mounted at /content/gdrive\n"
          ],
          "name": "stdout"
        }
      ]
    },
    {
      "cell_type": "code",
      "metadata": {
        "id": "O8KaspYaCf8k",
        "colab_type": "code",
        "colab": {}
      },
      "source": [
        "!rm -rf \"/content/fingerspelling\"\n",
        "!unzip \"/content/gdrive/My Drive/CS474 Final Project/CustomFingerspelling/360.zip\" > /dev/null"
      ],
      "execution_count": 0,
      "outputs": []
    },
    {
      "cell_type": "code",
      "metadata": {
        "id": "RAeEDSw1DsSU",
        "colab_type": "code",
        "colab": {}
      },
      "source": [
        "root_dir = \"/content/fingerspelling\""
      ],
      "execution_count": 0,
      "outputs": []
    },
    {
      "cell_type": "code",
      "metadata": {
        "id": "Ak1Cqg7cP-kF",
        "colab_type": "code",
        "outputId": "339171a0-c013-4ae6-c28c-730ad626fb2b",
        "colab": {
          "base_uri": "https://localhost:8080/",
          "height": 199
        }
      },
      "source": [
        "!pip3 install torch\n",
        "!pip3 install torchvision\n",
        "!pip3 install tqdm\n",
        "\n",
        "import torch\n",
        "import torch.nn as nn\n",
        "import torch.nn.functional as F\n",
        "import torch.optim as optim\n",
        "from torch.utils.data import Dataset, DataLoader\n",
        "import numpy as np\n",
        "import matplotlib.pyplot as plt\n",
        "from torchvision import transforms, utils, datasets\n",
        "from tqdm import tqdm\n",
        "from torch.nn.parameter import Parameter\n",
        "import pdb\n",
        "import torchvision\n",
        "import os\n",
        "import gzip\n",
        "import tarfile\n",
        "import gc\n",
        "from IPython.core.ultratb import AutoFormattedTB\n",
        "from torch.utils.data.sampler import SubsetRandomSampler\n",
        "\n",
        "__ITB__ = AutoFormattedTB(mode = 'Verbose',color_scheme='LightBg', tb_offset = 1)\n",
        "\n",
        "assert torch.cuda.is_available(), \"You need to request a GPU from Runtime > Change Runtime\""
      ],
      "execution_count": 5,
      "outputs": [
        {
          "output_type": "stream",
          "text": [
            "Requirement already satisfied: torch in /usr/local/lib/python3.6/dist-packages (1.3.1)\n",
            "Requirement already satisfied: numpy in /usr/local/lib/python3.6/dist-packages (from torch) (1.17.4)\n",
            "Requirement already satisfied: torchvision in /usr/local/lib/python3.6/dist-packages (0.4.2)\n",
            "Requirement already satisfied: numpy in /usr/local/lib/python3.6/dist-packages (from torchvision) (1.17.4)\n",
            "Requirement already satisfied: six in /usr/local/lib/python3.6/dist-packages (from torchvision) (1.12.0)\n",
            "Requirement already satisfied: torch==1.3.1 in /usr/local/lib/python3.6/dist-packages (from torchvision) (1.3.1)\n",
            "Requirement already satisfied: pillow>=4.1.1 in /usr/local/lib/python3.6/dist-packages (from torchvision) (4.3.0)\n",
            "Requirement already satisfied: olefile in /usr/local/lib/python3.6/dist-packages (from pillow>=4.1.1->torchvision) (0.46)\n",
            "Requirement already satisfied: tqdm in /usr/local/lib/python3.6/dist-packages (4.28.1)\n"
          ],
          "name": "stdout"
        }
      ]
    },
    {
      "cell_type": "code",
      "metadata": {
        "id": "Tb5vda7aQSwm",
        "colab_type": "code",
        "colab": {}
      },
      "source": [
        "dataset = torchvision.datasets.ImageFolder(\n",
        "          root_dir,\n",
        "          transform = transforms.Compose(\n",
        "              [\n",
        "               transforms.RandomGrayscale(0.4),\n",
        "               transforms.Resize(360), # Make it so we know where we're looking at least\n",
        "               transforms.RandomResizedCrop(224, (0.5, 1)),\n",
        "               transforms.RandomHorizontalFlip(),\n",
        "               transforms.RandomChoice([\n",
        "                 transforms.RandomPerspective(distortion_scale=0.2, p=0.75),\n",
        "                 transforms.RandomPerspective(distortion_scale=0.4, p=0.75),\n",
        "                 transforms.RandomPerspective(distortion_scale=0.6, p=0.75)]\n",
        "               ),\n",
        "               transforms.ToTensor(),\n",
        "               transforms.Normalize(mean=[0.485, 0.456, 0.406],\n",
        "                                 std=[0.229, 0.224, 0.225])\n",
        "               ]))"
      ],
      "execution_count": 0,
      "outputs": []
    },
    {
      "cell_type": "code",
      "metadata": {
        "id": "K6SgLCfRGwwB",
        "colab_type": "code",
        "colab": {}
      },
      "source": [
        "def imshow(inp, title=None):\n",
        "    \"\"\"Imshow for Tensor.\"\"\"\n",
        "    inp = inp.numpy().transpose((1, 2, 0))\n",
        "    mean = np.array([0.485, 0.456, 0.406])\n",
        "    std = np.array([0.229, 0.224, 0.225])\n",
        "    inp = std * inp + mean\n",
        "    inp = np.clip(inp, 0, 1)\n",
        "    plt.imshow(inp)\n",
        "    if title is not None:\n",
        "        plt.title(title)\n",
        "    plt.pause(0.001)  # pause a bit so that plots are updated\n"
      ],
      "execution_count": 0,
      "outputs": []
    },
    {
      "cell_type": "code",
      "metadata": {
        "id": "AIkN49dZD_hP",
        "colab_type": "code",
        "colab": {}
      },
      "source": [
        "batch_size = 15\n",
        "validation_split = 0.08 # Gives roughly 26 in validation\n",
        "shuffle_dataset = True\n",
        "random_seed = 2019\n",
        "\n",
        "# Creating data indices for training and validation splits:\n",
        "dataset_size = len(dataset)\n",
        "indices = list(range(dataset_size))\n",
        "split = int(np.floor(validation_split * dataset_size))\n",
        "if shuffle_dataset:\n",
        "    np.random.seed(random_seed)\n",
        "    np.random.shuffle(indices)\n",
        "train_indices, val_indices = indices[split:], indices[:split]\n",
        "\n",
        "# Creating PT data samplers and loaders:\n",
        "train_sampler = SubsetRandomSampler(train_indices)\n",
        "valid_sampler = SubsetRandomSampler(val_indices)\n",
        "\n",
        "train_loader = DataLoader(dataset, batch_size=batch_size, \n",
        "                                           sampler=train_sampler)\n",
        "validation_loader = DataLoader(dataset, batch_size=batch_size,\n",
        "                                                sampler=valid_sampler)"
      ],
      "execution_count": 0,
      "outputs": []
    },
    {
      "cell_type": "code",
      "metadata": {
        "id": "_vB7v78BHWiP",
        "colab_type": "code",
        "colab": {}
      },
      "source": [
        "for x, y in train_loader:\n",
        "  for i, j in zip(x, y.tolist()):\n",
        "    print(dataset.classes[j])\n",
        "    imshow(i)\n",
        "  break"
      ],
      "execution_count": 0,
      "outputs": []
    },
    {
      "cell_type": "code",
      "metadata": {
        "id": "lwJtylU7NSpc",
        "colab_type": "code",
        "colab": {}
      },
      "source": [
        "[dataset.classes[c] for imgs, batch in validation_loader for c in batch ]"
      ],
      "execution_count": 0,
      "outputs": []
    },
    {
      "cell_type": "code",
      "metadata": {
        "id": "Vi4kQXjELNPK",
        "colab_type": "code",
        "outputId": "0c273d98-5734-4ae2-d51a-fa171d7a2e17",
        "colab": {
          "base_uri": "https://localhost:8080/",
          "height": 53
        }
      },
      "source": [
        "print(\"Number in the train sampler: {}\".format(len(train_indices)))\n",
        "print(\"Number in the validate sampler: {}\".format(len(val_indices)))"
      ],
      "execution_count": 9,
      "outputs": [
        {
          "output_type": "stream",
          "text": [
            "Number in the train sampler: 332\n",
            "Number in the validate sampler: 28\n"
          ],
          "name": "stdout"
        }
      ]
    },
    {
      "cell_type": "code",
      "metadata": {
        "id": "HOurZtneWHxI",
        "colab_type": "code",
        "outputId": "dafeb1c2-b7bb-4c1a-d429-39fb27bb7589",
        "colab": {
          "base_uri": "https://localhost:8080/",
          "height": 73
        }
      },
      "source": [
        "# Initialize Model\n",
        "model = torchvision.models.resnet34(pretrained=True)\n",
        "num_f = model.fc.in_features\n",
        "model.fc = nn.Linear(num_f, len(dataset.classes))\n",
        "\n",
        "model = model.cuda() #use GPU\n",
        "\n",
        "# Initialize Objective and Optimizer and other parameters\n",
        "objective = nn.CrossEntropyLoss()\n",
        "optimizer = optim.Adam(model.parameters(), lr=0.00001)"
      ],
      "execution_count": 12,
      "outputs": [
        {
          "output_type": "stream",
          "text": [
            "Downloading: \"https://download.pytorch.org/models/resnet34-333f7ec4.pth\" to /root/.cache/torch/checkpoints/resnet34-333f7ec4.pth\n",
            "100%|██████████| 83.3M/83.3M [00:01<00:00, 44.6MB/s]\n"
          ],
          "name": "stderr"
        }
      ]
    },
    {
      "cell_type": "code",
      "metadata": {
        "id": "yG-MDzwWpi3u",
        "colab_type": "code",
        "colab": {}
      },
      "source": [
        "import matplotlib.pyplot as plt\n"
      ],
      "execution_count": 0,
      "outputs": []
    },
    {
      "cell_type": "code",
      "metadata": {
        "id": "jKvaGpQVRFfH",
        "colab_type": "code",
        "colab": {}
      },
      "source": [
        "# This is what was talked about in the video for memory management\n",
        "num_epochs = 200\n",
        "valid_frequency = 1\n",
        "\n",
        "saved_epoch = -1\n",
        "\n",
        "train_losses = []\n",
        "validation_losses = []\n",
        "train_acc = []\n",
        "valid_acc = []\n",
        "\n",
        "def scope():\n",
        "  model_directory = \"/content/gdrive/My Drive/CS474 Final Project/CustomFingerspelling/Models2\"\n",
        "  best_loss = float(\"inf\")\n",
        "\n",
        "  try:\n",
        "    #your code for calling dataset and dataloader\n",
        "    gc.collect()\n",
        "    torch.cuda.empty_cache()\n",
        "\n",
        "    loop = tqdm(\n",
        "        total=(len(train_loader) * num_epochs) +\n",
        "          (len(validation_loader) * (num_epochs // valid_frequency))\n",
        "        , position = 0)\n",
        "\n",
        "    for epoch in range(num_epochs):\n",
        "      sum_loss = 0\n",
        "      count_loss = 0\n",
        "      sum_acc = 0\n",
        "      count_acc = 0\n",
        "\n",
        "      for batch_i, (x, y_truth) in enumerate(train_loader):\n",
        "        x, y_truth = x.cuda(async=True), y_truth.cuda(async=True)\n",
        "        optimizer.zero_grad()\n",
        "        y_hat = model(x)\n",
        "        y_long = y_truth.long()\n",
        "\n",
        "        # print(\"\\n\\n-----------\\ny_hat: {}, y_long: {}\\n-----------\\n\\n\".format(y_hat.size(), y_long.size()))\n",
        "        loss = objective(y_hat, y_long)\n",
        "        sum_loss += loss.item()\n",
        "        count_loss += 1\n",
        "\n",
        "        accuracy = 1- (torch.nonzero(torch.argmax(y_hat, 1) - y_truth).size(0) / len(y_truth))\n",
        "        sum_acc += accuracy\n",
        "        count_acc += 1\n",
        "\n",
        "        loop.set_description(\"epoch:{}, loss:{:.4f}, accuracy:{:.4f}\".format(epoch, loss.item(), accuracy))\n",
        "        loop.update(1)\n",
        "        loss.backward()\n",
        "        optimizer.step()\n",
        "\n",
        "        # Save model out if it's the new lowest loss.\n",
        "        if loss.item() < best_loss:\n",
        "          best_loss = loss.item()\n",
        "          state = {\n",
        "              'epoch': epoch,\n",
        "              'batch_i': batch_i,\n",
        "              'state': model.state_dict(),\n",
        "              'optim': optimizer.state_dict(),\n",
        "              'train_losses': train_losses,\n",
        "              'train_acc': train_acc,\n",
        "              'valid_losses': validation_losses,\n",
        "              'valid_acc': valid_acc,\n",
        "              'current_loss': loss.item()\n",
        "          }\n",
        "          model_file = os.path.join(model_directory, \"resnet34.mod\")\n",
        "          torch.save(state, model_file)\n",
        "\n",
        "      epoch_loss = sum_loss / count_loss\n",
        "      train_losses.append( (epoch, epoch_loss) )\n",
        "      epoch_acc = sum_acc / count_acc\n",
        "      train_acc.append( ( epoch, epoch_acc ) )\n",
        "      \n",
        "      if epoch % valid_frequency == 0:\n",
        "        sum_loss = 0\n",
        "        count_loss = 0\n",
        "        sum_acc = 0\n",
        "        count_acc = 0\n",
        "        with torch.no_grad():\n",
        "          for x, y_truth in validation_loader:\n",
        "            x, y_truth = x.cuda(async=True), y_truth.cuda(async=True)\n",
        "            y_hat = model(x)\n",
        "            loss = objective(y_hat, y_truth.long())\n",
        "            sum_loss += loss.item()\n",
        "            count_loss += 1       \n",
        "            accuracy = 1- (torch.nonzero(torch.argmax(y_hat, 1) - y_truth).size(0) / len(y_truth))\n",
        "            sum_acc += accuracy\n",
        "            count_acc += 1\n",
        "          \n",
        "          valid_acc.append((epoch, sum_acc / count_acc))\n",
        "          validation_losses.append((epoch, sum_loss / count_loss))\n",
        "      # Plot stuff.\n",
        "      # plt.plot(*zip(*train_losses), label=\"Training\")\n",
        "      # plt.plot(*zip(*validation_losses), label=\"Validation\")\n",
        "      # plt.draw() \n",
        "      # plt.pause(0.01)\n",
        "  except:\n",
        "    __ITB__()\n",
        "    raise"
      ],
      "execution_count": 0,
      "outputs": []
    },
    {
      "cell_type": "code",
      "metadata": {
        "id": "DrPdgy_QtIFU",
        "colab_type": "code",
        "outputId": "3b99be27-e2a5-472d-fe02-b0ea07589c75",
        "colab": {
          "base_uri": "https://localhost:8080/",
          "height": 35
        }
      },
      "source": [
        "scope()"
      ],
      "execution_count": 14,
      "outputs": [
        {
          "output_type": "stream",
          "text": [
            "epoch:199, loss:2.3162, accuracy:0.5000:  92%|█████████▏| 4599/5000 [34:31<02:34,  2.59it/s]"
          ],
          "name": "stderr"
        }
      ]
    },
    {
      "cell_type": "code",
      "metadata": {
        "id": "4X4xaP2EIFLB",
        "colab_type": "code",
        "colab": {
          "base_uri": "https://localhost:8080/",
          "height": 73
        },
        "outputId": "24acb014-31d8-4d49-c6b3-f155b9d5d663"
      },
      "source": [
        "print(train_losses)\n",
        "print(validation_losses)"
      ],
      "execution_count": 15,
      "outputs": [
        {
          "output_type": "stream",
          "text": [
            "[(0, 3.4613332748413086), (1, 3.4306615228238315), (2, 3.3615663051605225), (3, 3.315449559170267), (4, 3.358685586763465), (5, 3.3204218719316567), (6, 3.272203528362772), (7, 3.2704497834910518), (8, 3.249075931051503), (9, 3.2059388989987583), (10, 3.201164162677267), (11, 3.1245095626167627), (12, 3.1044276278951894), (13, 3.0813044154125713), (14, 2.9934026469355044), (15, 3.0059653883394986), (16, 2.9156401468359907), (17, 2.8672225060670273), (18, 2.8330274353856626), (19, 2.780262345853059), (20, 2.7220575083856997), (21, 2.6640824649644936), (22, 2.6221724178480064), (23, 2.5704705196878184), (24, 2.5306494339652685), (25, 2.4790759915890903), (26, 2.4136068250821983), (27, 2.3420929494111435), (28, 2.256574853606846), (29, 2.25644792681155), (30, 2.2758538204690684), (31, 2.113963007926941), (32, 2.0725625546082207), (33, 2.071425401646158), (34, 1.9588266040967859), (35, 1.9105972051620483), (36, 1.8638956702273826), (37, 1.8757496709408967), (38, 1.8101726200269617), (39, 1.831446191538935), (40, 1.8069929558297861), (41, 1.6618955342665962), (42, 1.6343042695004006), (43, 1.6593461244002632), (44, 1.5360485211662624), (45, 1.559477088244065), (46, 1.5081919017045393), (47, 1.5322212084479954), (48, 1.4916479639385058), (49, 1.4338307173355767), (50, 1.3820555391518965), (51, 1.3434094397918037), (52, 1.3178628475769707), (53, 1.3500106127365776), (54, 1.3175379659818567), (55, 1.2543007938758186), (56, 1.2855599652165952), (57, 1.2010784201000049), (58, 1.2953394236771956), (59, 1.1442578357198965), (60, 1.2169110075287197), (61, 1.213108399639959), (62, 1.1281056870584902), (63, 1.12758149271426), (64, 1.0976253696109937), (65, 1.080605615740237), (66, 1.104818325975667), (67, 1.0718041684316553), (68, 1.1033611789993618), (69, 1.0642072480657827), (70, 0.9534745527350384), (71, 1.0280146572900855), (72, 0.9598931851594344), (73, 0.9515111161314923), (74, 0.949276636476102), (75, 1.027328786642655), (76, 0.914879138055055), (77, 0.9225429218748341), (78, 0.9392024239768153), (79, 0.8892091253529424), (80, 0.9482520702092544), (81, 0.8416157429632933), (82, 0.8802028816679249), (83, 0.8509275589300238), (84, 0.8795288231061853), (85, 0.9256868543832198), (86, 0.8048047630683236), (87, 0.8450103764948638), (88, 0.9281362515428792), (89, 0.919000365163969), (90, 0.7362089377382527), (91, 0.7890680782172991), (92, 0.786078709623088), (93, 0.8695874330790146), (94, 0.7892461341360341), (95, 0.6823102358890616), (96, 0.7213351026825283), (97, 0.7015802277171094), (98, 0.7165930711704752), (99, 0.7373014429341191), (100, 0.7457681894302368), (101, 0.693792576375215), (102, 0.7465290459601776), (103, 0.7259463719699694), (104, 0.7043950447569722), (105, 0.6461015654646832), (106, 0.6550283619891042), (107, 0.7027739338252855), (108, 0.6464871440244757), (109, 0.5659358015526896), (110, 0.6601149776707524), (111, 0.5863467234632244), (112, 0.6507881400377854), (113, 0.6983988868153613), (114, 0.6155741830234942), (115, 0.69541987452818), (116, 0.6109177956114644), (117, 0.6967255486094434), (118, 0.5567124434139418), (119, 0.6906551291113314), (120, 0.614521927807642), (121, 0.6076519256052764), (122, 0.6048781275749207), (123, 0.5603870432014051), (124, 0.6319139826556911), (125, 0.6210188561159632), (126, 0.5803045682285143), (127, 0.48323716352815216), (128, 0.5452825563109439), (129, 0.5388482018657352), (130, 0.5878636746302895), (131, 0.48880658201549365), (132, 0.568023774286975), (133, 0.5405156048743621), (134, 0.5965095855619597), (135, 0.48493988617606787), (136, 0.6031728296176248), (137, 0.5305719181247379), (138, 0.5491997233551481), (139, 0.5400516002074532), (140, 0.6116600694215816), (141, 0.5160963885162188), (142, 0.5206262320280075), (143, 0.5577660857335381), (144, 0.4857211022273354), (145, 0.5462435153515443), (146, 0.5785543354957), (147, 0.47900937238465185), (148, 0.5801362816406332), (149, 0.5218031322178633), (150, 0.5151829797288646), (151, 0.5842525499022525), (152, 0.5687087136118308), (153, 0.4571283657265746), (154, 0.4314837640394335), (155, 0.5942571947108144), (156, 0.49207879052214), (157, 0.48394637814034586), (158, 0.3894068773673928), (159, 0.5174929817085681), (160, 0.5380756278400836), (161, 0.4427935947542605), (162, 0.513493898122207), (163, 0.5923950931300288), (164, 0.5599784313336663), (165, 0.41562600433826447), (166, 0.46500690281391144), (167, 0.4886604560458142), (168, 0.4988334541735442), (169, 0.45187359691961954), (170, 0.49742774632961856), (171, 0.46743098484433215), (172, 0.5444847125074138), (173, 0.3438428501072137), (174, 0.42723721298186673), (175, 0.4552659266020941), (176, 0.44588522094747296), (177, 0.49025107515246974), (178, 0.40858028893885406), (179, 0.47847533711920615), (180, 0.3897697753880335), (181, 0.4347538280746211), (182, 0.33776449800833414), (183, 0.45883897691965103), (184, 0.5026547952514627), (185, 0.3849382223966329), (186, 0.40359379480714386), (187, 0.46546003028102545), (188, 0.36337127957655035), (189, 0.3866041360989861), (190, 0.48093644173248956), (191, 0.4831086419846701), (192, 0.3761627262701159), (193, 0.3700058155733606), (194, 0.38724300119539967), (195, 0.4228333477740702), (196, 0.4399602639934291), (197, 0.40594521618407703), (198, 0.36453069163405377), (199, 0.4696116139707358)]\n",
            "[(0, 3.563589930534363), (1, 3.6370314359664917), (2, 3.709979295730591), (3, 3.6670515537261963), (4, 3.7095545530319214), (5, 3.585113525390625), (6, 3.5437477827072144), (7, 3.6041676998138428), (8, 3.5149264335632324), (9, 3.5574426651000977), (10, 3.5362002849578857), (11, 3.498662233352661), (12, 3.369171142578125), (13, 3.3845263719558716), (14, 3.3978538513183594), (15, 3.3555843830108643), (16, 3.533408999443054), (17, 3.463153839111328), (18, 3.360633134841919), (19, 3.1896990537643433), (20, 3.102178454399109), (21, 3.1642593145370483), (22, 3.1161926984786987), (23, 3.020251154899597), (24, 3.031988263130188), (25, 2.8530094623565674), (26, 2.985548257827759), (27, 2.7762688398361206), (28, 2.6482040882110596), (29, 2.744787335395813), (30, 2.673633575439453), (31, 2.600286602973938), (32, 2.6067233085632324), (33, 2.4330549240112305), (34, 2.5507761240005493), (35, 2.377891421318054), (36, 2.4910587072372437), (37, 2.4359917640686035), (38, 2.384060263633728), (39, 2.2701326608657837), (40, 2.2389025688171387), (41, 2.3958518505096436), (42, 2.374927282333374), (43, 2.1480181217193604), (44, 2.2892733812332153), (45, 1.9486327171325684), (46, 2.1432374119758606), (47, 2.0094704627990723), (48, 2.0702584981918335), (49, 2.309289813041687), (50, 1.9622381329536438), (51, 2.227824330329895), (52, 2.0882515907287598), (53, 2.0600101947784424), (54, 2.0493112802505493), (55, 1.8834164142608643), (56, 2.0037574768066406), (57, 1.9395620822906494), (58, 2.166964054107666), (59, 1.9078381061553955), (60, 1.9411372542381287), (61, 1.9390798807144165), (62, 2.1217801570892334), (63, 2.0743108987808228), (64, 1.8783652782440186), (65, 2.232150077819824), (66, 1.8955588936805725), (67, 1.9992371797561646), (68, 2.2462151646614075), (69, 1.7305096983909607), (70, 2.064935088157654), (71, 1.8274834156036377), (72, 2.06627881526947), (73, 1.6984446048736572), (74, 1.8582826852798462), (75, 1.7879883646965027), (76, 1.6481602787971497), (77, 1.9881036877632141), (78, 1.6494052410125732), (79, 1.8759660720825195), (80, 1.9366372227668762), (81, 1.711069107055664), (82, 2.0222331285476685), (83, 1.6239507794380188), (84, 1.807601511478424), (85, 1.9397074580192566), (86, 1.6787459254264832), (87, 1.8983435034751892), (88, 2.134016692638397), (89, 1.6443581581115723), (90, 1.9508426785469055), (91, 1.736375093460083), (92, 2.015617549419403), (93, 1.7437233924865723), (94, 1.9402694702148438), (95, 2.239177405834198), (96, 1.8548200130462646), (97, 1.8828415274620056), (98, 2.0447962880134583), (99, 1.8384712934494019), (100, 1.957930564880371), (101, 1.9745858311653137), (102, 1.716570258140564), (103, 1.697856366634369), (104, 1.9101333618164062), (105, 1.8901192545890808), (106, 1.6331581473350525), (107, 1.706413984298706), (108, 1.610584557056427), (109, 2.4223819971084595), (110, 1.8168479800224304), (111, 2.175461530685425), (112, 1.6225746273994446), (113, 2.0409739017486572), (114, 1.7291654348373413), (115, 2.027644991874695), (116, 1.6711296439170837), (117, 1.5450384616851807), (118, 2.2737717628479004), (119, 1.5604650974273682), (120, 1.8571690917015076), (121, 1.4711517095565796), (122, 2.1538549661636353), (123, 2.01251220703125), (124, 1.7183452248573303), (125, 1.743473470211029), (126, 1.9961665272712708), (127, 1.8949310183525085), (128, 1.9165192246437073), (129, 1.5488688945770264), (130, 1.8017008900642395), (131, 1.7194006443023682), (132, 1.7349342703819275), (133, 1.4409469366073608), (134, 1.5858349204063416), (135, 1.2474132776260376), (136, 1.867416799068451), (137, 1.6516674757003784), (138, 1.994171380996704), (139, 2.032716393470764), (140, 1.7657495737075806), (141, 1.7532435059547424), (142, 1.9438769817352295), (143, 1.7847756147384644), (144, 1.9376655220985413), (145, 1.9523318409919739), (146, 1.664670705795288), (147, 1.8405950665473938), (148, 2.138012647628784), (149, 2.0799554586410522), (150, 1.9178074598312378), (151, 1.9355480670928955), (152, 1.4945415258407593), (153, 1.8768302500247955), (154, 1.463244616985321), (155, 2.120871067047119), (156, 2.124699592590332), (157, 2.7131696939468384), (158, 1.5914550423622131), (159, 2.1728506684303284), (160, 1.9677510857582092), (161, 2.0886306166648865), (162, 1.768190622329712), (163, 2.031389534473419), (164, 1.7800410389900208), (165, 1.47080397605896), (166, 2.303228974342346), (167, 1.5603983998298645), (168, 1.628466784954071), (169, 2.3899962306022644), (170, 1.699582278728485), (171, 1.7607854008674622), (172, 1.461380958557129), (173, 2.152610123157501), (174, 1.908967912197113), (175, 1.8841956853866577), (176, 1.7952755689620972), (177, 1.834597885608673), (178, 2.0261088609695435), (179, 1.844958484172821), (180, 1.8444010615348816), (181, 1.7116351127624512), (182, 1.817263662815094), (183, 1.7601902484893799), (184, 1.6757178902626038), (185, 2.1401631832122803), (186, 1.7940163016319275), (187, 2.079663574695587), (188, 2.102506160736084), (189, 1.6723293662071228), (190, 1.982772707939148), (191, 1.474056363105774), (192, 1.8497164845466614), (193, 2.233636736869812), (194, 1.3479617834091187), (195, 2.1235995292663574), (196, 1.9689373970031738), (197, 1.7342060506343842), (198, 1.8789154887199402), (199, 2.0601969957351685)]\n"
          ],
          "name": "stdout"
        }
      ]
    },
    {
      "cell_type": "code",
      "metadata": {
        "id": "CMeJFfEJWW6G",
        "colab_type": "code",
        "outputId": "c2eb9d84-8424-406a-80aa-a47d6f6b4f5b",
        "colab": {
          "base_uri": "https://localhost:8080/",
          "height": 545
        }
      },
      "source": [
        "plt.title(\"Losses\")\n",
        "plt.plot(*zip(*train_losses), label=\"Training\")\n",
        "plt.plot(*zip(*validation_losses), label=\"Validation\")\n",
        "plt.legend(loc=\"upper right\")\n",
        "plt.show()\n",
        "\n",
        "plt.plot(*zip(*train_acc), label=\"Training\")\n",
        "plt.plot(*zip(*valid_acc), label=\"Validation\")\n",
        "plt.title(\"Training accuracies\")\n",
        "plt.show()"
      ],
      "execution_count": 16,
      "outputs": [
        {
          "output_type": "display_data",
          "data": {
            "image/png": "[encoded data removed]",
            "text/plain": [
              "<Figure size 432x288 with 1 Axes>"
            ]
          },
          "metadata": {
            "tags": []
          }
        },
        {
          "output_type": "display_data",
          "data": {
            "image/png": "[encoded data removed]",
            "text/plain": [
              "<Figure size 432x288 with 1 Axes>"
            ]
          },
          "metadata": {
            "tags": []
          }
        }
      ]
    },
    {
      "cell_type": "code",
      "metadata": {
        "id": "g_76-Gznx55J",
        "colab_type": "code",
        "colab": {}
      },
      "source": [
        "# Save that model out.\n",
        "torch.save(model.state_dict(), \"/content/gdrive/My Drive/CS474 Final Project/CustomFingerspelling/resnet34_end200.mod\")\n"
      ],
      "execution_count": 0,
      "outputs": []
    },
    {
      "cell_type": "markdown",
      "metadata": {
        "id": "8WGAvb0e4bRM",
        "colab_type": "text"
      },
      "source": [
        "# Validate Transfer Learning"
      ]
    },
    {
      "cell_type": "code",
      "metadata": {
        "id": "IWCHOL2i2fuw",
        "colab_type": "code",
        "colab": {}
      },
      "source": [
        "\"\"\"\n",
        "  1. Mount Google Drive (no need to check if already mounted, it does that for you)\n",
        "  2. \n",
        "\"\"\"\n",
        "from google.colab import drive\n",
        "drive.mount('/content/gdrive')\n",
        "\n",
        "root_dir = \"/content/gdrive/My Drive/models/\""
      ],
      "execution_count": 0,
      "outputs": []
    },
    {
      "cell_type": "code",
      "metadata": {
        "id": "QOUDNWPRVGu_",
        "colab_type": "code",
        "colab": {}
      },
      "source": [
        "model_file = \"/content/gdrive/My Drive/CS474 Final Project/Kaggle ASL Alphabet/loss_0.0304_epoch_4.mod\"\n",
        "loaded = torch.load(model_file)\n",
        "# print(loaded)\n",
        "model.load_state_dict(loaded)\n"
      ],
      "execution_count": 0,
      "outputs": []
    },
    {
      "cell_type": "code",
      "metadata": {
        "id": "PbyILXQ4qAzR",
        "colab_type": "code",
        "colab": {}
      },
      "source": [
        "model_file = \"/content/gdrive/My Drive/CS474 Final Project/Kaggle ASL Alphabet/loss_0.0304_epoch_4.mod\"\n",
        "\n",
        "model = ConvNetwork(3, len(dataset.dataset_folder.classes), dimensions=128).cuda()\n",
        "model.load_state_dict(torch.load(model_file))"
      ],
      "execution_count": 0,
      "outputs": []
    },
    {
      "cell_type": "code",
      "metadata": {
        "id": "PDh-TxqKrp1n",
        "colab_type": "code",
        "colab": {}
      },
      "source": [
        "# !cd \"/content/gdrive/My Drive/CS474 Final Project/Kaggle ASL Alphabet/\" && unzip Photos.zip\n",
        "!#mkdir \"/content/gdrive/My Drive/CS474 Final Project/Kaggle ASL Alphabet/Michelle\"\n",
        "#!mkdir \"/content/gdrive/My Drive/CS474 Final Project/Kaggle ASL Alphabet/Michelle/name\"\n",
        "\n",
        "!ls \"/content/gdrive/My Drive/CS474 Final Project/Kaggle ASL Alphabet/Michelle/name\""
      ],
      "execution_count": 0,
      "outputs": []
    },
    {
      "cell_type": "code",
      "metadata": {
        "id": "BTatz_AWss_b",
        "colab_type": "code",
        "colab": {}
      },
      "source": [
        "# michelle_set = ASLDataset(\"/content/gdrive/My Drive/CS474 Final Project/Kaggle ASL Alphabet\", \"Michelle\", size=224)\n",
        "michelle_set = torchvision.datasets.ImageFolder(\n",
        "          \"/content/gdrive/My Drive/CS474 Final Project/Kaggle ASL Alphabet/Michelle\",\n",
        "          transform = transforms.Compose(\n",
        "              [\n",
        "               transforms.Resize(224),\n",
        "               transforms.CenterCrop(224), # Make it so we know where we're looking at least\n",
        "              #  transforms.RandomResizedCrop(224, (0.8, 1)),\n",
        "               transforms.ToTensor(),\n",
        "               transforms.Normalize(mean=[0.485, 0.456, 0.406],\n",
        "                                 std=[0.229, 0.224, 0.225])\n",
        "               ]))\n",
        "\n",
        "michelle_loader = DataLoader(michelle_set, batch_size=10)"
      ],
      "execution_count": 0,
      "outputs": []
    },
    {
      "cell_type": "code",
      "metadata": {
        "id": "_h33lcSKs-V2",
        "colab_type": "code",
        "colab": {}
      },
      "source": [
        "print(len(michelle_set))\n",
        "print(len(michelle_loader))"
      ],
      "execution_count": 0,
      "outputs": []
    },
    {
      "cell_type": "code",
      "metadata": {
        "id": "8-kj-xYVw47K",
        "colab_type": "code",
        "colab": {}
      },
      "source": [
        "michelle_set.classes"
      ],
      "execution_count": 0,
      "outputs": []
    },
    {
      "cell_type": "code",
      "metadata": {
        "id": "ssLPZw_BtBP3",
        "colab_type": "code",
        "colab": {}
      },
      "source": [
        "batches = [model(i.cuda()) for i, j in michelle_loader]\n",
        "\"\".join([dataset.classes[torch.argmax(item)] for batch in batches for item in batch])"
      ],
      "execution_count": 0,
      "outputs": []
    },
    {
      "cell_type": "code",
      "metadata": {
        "id": "a_2ePX5sAuIR",
        "colab_type": "code",
        "colab": {}
      },
      "source": [
        "sum = 0\n",
        "for i, j in michelle_loader:\n",
        "  sum += 1\n",
        "  res = model(i.cuda())\n",
        "  chosen = torch.argmax(res, dim=1)\n",
        "  print(chosen)\n",
        "  actual = [dataset.classes[a] for a in j.tolist()]\n",
        "  solved = [dataset.classes[a] for a in chosen.tolist()]\n",
        "  for c, v in enumerate(zip(actual, solved)):\n",
        "    a, s = v\n",
        "    print(\"Actual: {} Guess: {}\".format(a, s))\n",
        "    try:\n",
        "      imshow(i[c])\n",
        "    except:\n",
        "      pass\n",
        "\n",
        "  if sum > 0:\n",
        "    break"
      ],
      "execution_count": 0,
      "outputs": []
    },
    {
      "cell_type": "code",
      "metadata": {
        "id": "drUvyXDJ5FGm",
        "colab_type": "code",
        "colab": {}
      },
      "source": [
        "sum = 0\n",
        "for i, j in validation_loader:\n",
        "  sum += 1\n",
        "  res = model(i.cuda())\n",
        "  chosen = torch.argmax(res, dim=1)\n",
        "  print(chosen)\n",
        "  actual = [dataset.dataset_folder.classes[a] for a in j.tolist()]\n",
        "  solved = [dataset.dataset_folder.classes[a] for a in chosen.tolist()]\n",
        "  for c, v in enumerate(zip(actual, solved)):\n",
        "    a, s = v\n",
        "    print(\"Actual: {} Guess: {}\".format(a, s))\n",
        "    try:\n",
        "      imshow(i[c])\n",
        "    except:\n",
        "      pass\n",
        "\n",
        "  if sum > 0:\n",
        "    break"
      ],
      "execution_count": 0,
      "outputs": []
    },
    {
      "cell_type": "code",
      "metadata": {
        "id": "D0S28sLOxKBn",
        "colab_type": "code",
        "colab": {}
      },
      "source": [
        "import matplotlib.pyplot as plt\n",
        "import torchvision.utils as vutils\n"
      ],
      "execution_count": 0,
      "outputs": []
    },
    {
      "cell_type": "code",
      "metadata": {
        "id": "QIiRthPsxsW5",
        "colab_type": "code",
        "colab": {}
      },
      "source": [
        "def show_imgs(x, new_fig=True):\n",
        "    grid = vutils.make_grid(x.detach().cpu(), nrow=8, normalize=True, pad_value=0.3)\n",
        "    grid = grid.transpose(0,2).transpose(0,1) # channels as last dimension\n",
        "    if new_fig:\n",
        "        plt.figure()\n",
        "    plt.imshow(grid.numpy())"
      ],
      "execution_count": 0,
      "outputs": []
    },
    {
      "cell_type": "code",
      "metadata": {
        "id": "OmznQylmxTQV",
        "colab_type": "code",
        "colab": {}
      },
      "source": [
        "for x, y in michelle_loader:\n",
        "  show_imgs(x)\n"
      ],
      "execution_count": 0,
      "outputs": []
    },
    {
      "cell_type": "markdown",
      "metadata": {
        "id": "8gNj0-7ePcRF",
        "colab_type": "text"
      },
      "source": [
        "# SSH Access\n",
        "\n",
        "If ssh_connect is True, an ssh server will be set up on the hosting server. Ergo power."
      ]
    },
    {
      "cell_type": "code",
      "metadata": {
        "id": "NmJosbn3c0i_",
        "colab_type": "code",
        "colab": {}
      },
      "source": [
        "ssh_connect = False\n",
        "if ssh_connect:\n",
        "  import random, string, getpass\n",
        "\n",
        "  password = ''.join(random.choice(string.ascii_letters + string.digits) for i in range(20))\n",
        "  alias = ''.join(random.choice(string.ascii_letters + string.digits) for i in range(8))\n",
        "  ! echo root:$password | chpasswd\n",
        "\n",
        "  ! apt-get install -qq -o=Dpkg::Use-Pty=0 openssh-server pwgen > /dev/null\n",
        "  ! mkdir -p /var/run/sshd\n",
        "  ! echo \"PermitRootLogin yes\" >> /etc/ssh/sshd_config && echo \"PasswordAuthentication yes\" >> /etc/ssh/sshd_config\n",
        "  ! echo \"LD_LIBRARY_PATH=/usr/lib64-nvidia\" >> /root/.bashrc && echo \"export LD_LIBRARY_PATH\" >> /root/.bashrc\n",
        "  get_ipython().system_raw('/usr/sbin/sshd -D &')\n",
        "\n",
        "  print('sshpass -p {} ssh -o \"StrictHostKeyChecking no\" -J serveo.net root@{}'.format(password, alias))\n",
        "  ! ssh -o \"StrictHostKeyChecking no\" -R $alias:22:localhost:22 serveo.net"
      ],
      "execution_count": 0,
      "outputs": []
    }
  ]
}