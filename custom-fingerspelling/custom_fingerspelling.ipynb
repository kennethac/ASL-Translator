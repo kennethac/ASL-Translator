{
  "nbformat": 4,
  "nbformat_minor": 0,
  "metadata": {
    "colab": {
      "name": "Kaggle ASL Alphabet",
      "provenance": []
    },
    "kernelspec": {
      "name": "python3",
      "display_name": "Python 3"
    },
    "accelerator": "GPU"
  },
  "cells": [
    {
      "cell_type": "markdown",
      "metadata": {
        "id": "xDwJO9lsbuTv",
        "colab_type": "text"
      },
      "source": [
        "The data for this notebook comes from our propriety fingerspelling image collection, which per our privacy statement _**should not**_ be seen by anyone but those directly working on this project."
      ]
    },
    {
      "cell_type": "code",
      "metadata": {
        "id": "4Vhw70_FbDcp",
        "colab_type": "code",
        "outputId": "6665dcc1-bd86-40b9-afa6-5ccdcca4d71b",
        "colab": {
          "base_uri": "https://localhost:8080/",
          "height": 127
        }
      },
      "source": [
        "\"\"\"\n",
        "  1. Mount Google Drive (no need to check if already mounted, it does that for you)\n",
        "  2. \n",
        "\"\"\"\n",
        "from google.colab import drive\n",
        "drive.mount('/content/gdrive')\n",
        "\n"
      ],
      "execution_count": 1,
      "outputs": [
        {
          "output_type": "stream",
          "text": [
            "Go to this URL in a browser: https://accounts.google.com/o/oauth2/auth?client_id=947318989803-6bn6qk8qdgf4n4g3pfee6491hc0brc4i.apps.googleusercontent.com&redirect_uri=urn%3aietf%3awg%3aoauth%3a2.0%3aoob&response_type=code&scope=email%20https%3a%2f%2fwww.googleapis.com%2fauth%2fdocs.test%20https%3a%2f%2fwww.googleapis.com%2fauth%2fdrive%20https%3a%2f%2fwww.googleapis.com%2fauth%2fdrive.photos.readonly%20https%3a%2f%2fwww.googleapis.com%2fauth%2fpeopleapi.readonly\n",
            "\n",
            "Enter your authorization code:\n",
            "··········\n",
            "Mounted at /content/gdrive\n"
          ],
          "name": "stdout"
        }
      ]
    },
    {
      "cell_type": "code",
      "metadata": {
        "id": "O8KaspYaCf8k",
        "colab_type": "code",
        "colab": {}
      },
      "source": [
        "!rm -rf \"/content/fingerspelling\"\n",
        "!unzip \"/content/gdrive/My Drive/CS474 Final Project/CustomFingerspelling/360.zip\" > /dev/null"
      ],
      "execution_count": 0,
      "outputs": []
    },
    {
      "cell_type": "code",
      "metadata": {
        "id": "RAeEDSw1DsSU",
        "colab_type": "code",
        "colab": {}
      },
      "source": [
        "root_dir = \"/content/fingerspelling\""
      ],
      "execution_count": 0,
      "outputs": []
    },
    {
      "cell_type": "code",
      "metadata": {
        "id": "Ak1Cqg7cP-kF",
        "colab_type": "code",
        "outputId": "8dbd390c-8edb-4c59-fd2c-03d395f863a3",
        "colab": {
          "base_uri": "https://localhost:8080/",
          "height": 199
        }
      },
      "source": [
        "!pip3 install torch\n",
        "!pip3 install torchvision\n",
        "!pip3 install tqdm\n",
        "\n",
        "import torch\n",
        "import torch.nn as nn\n",
        "import torch.nn.functional as F\n",
        "import torch.optim as optim\n",
        "from torch.utils.data import Dataset, DataLoader\n",
        "import numpy as np\n",
        "import matplotlib.pyplot as plt\n",
        "from torchvision import transforms, utils, datasets\n",
        "from tqdm import tqdm\n",
        "from torch.nn.parameter import Parameter\n",
        "import pdb\n",
        "import torchvision\n",
        "import os\n",
        "import gzip\n",
        "import tarfile\n",
        "import gc\n",
        "from IPython.core.ultratb import AutoFormattedTB\n",
        "from torch.utils.data.sampler import SubsetRandomSampler\n",
        "\n",
        "__ITB__ = AutoFormattedTB(mode = 'Verbose',color_scheme='LightBg', tb_offset = 1)\n",
        "\n",
        "assert torch.cuda.is_available(), \"You need to request a GPU from Runtime > Change Runtime\""
      ],
      "execution_count": 4,
      "outputs": [
        {
          "output_type": "stream",
          "text": [
            "Requirement already satisfied: torch in /usr/local/lib/python3.6/dist-packages (1.3.1)\n",
            "Requirement already satisfied: numpy in /usr/local/lib/python3.6/dist-packages (from torch) (1.17.4)\n",
            "Requirement already satisfied: torchvision in /usr/local/lib/python3.6/dist-packages (0.4.2)\n",
            "Requirement already satisfied: six in /usr/local/lib/python3.6/dist-packages (from torchvision) (1.12.0)\n",
            "Requirement already satisfied: pillow>=4.1.1 in /usr/local/lib/python3.6/dist-packages (from torchvision) (4.3.0)\n",
            "Requirement already satisfied: numpy in /usr/local/lib/python3.6/dist-packages (from torchvision) (1.17.4)\n",
            "Requirement already satisfied: torch==1.3.1 in /usr/local/lib/python3.6/dist-packages (from torchvision) (1.3.1)\n",
            "Requirement already satisfied: olefile in /usr/local/lib/python3.6/dist-packages (from pillow>=4.1.1->torchvision) (0.46)\n",
            "Requirement already satisfied: tqdm in /usr/local/lib/python3.6/dist-packages (4.28.1)\n"
          ],
          "name": "stdout"
        }
      ]
    },
    {
      "cell_type": "code",
      "metadata": {
        "id": "Tb5vda7aQSwm",
        "colab_type": "code",
        "colab": {}
      },
      "source": [
        "dataset = torchvision.datasets.ImageFolder(\n",
        "          root_dir,\n",
        "          transform = transforms.Compose(\n",
        "              [\n",
        "               transforms.RandomGrayscale(0.4),\n",
        "               transforms.Resize(360), # Make it so we know where we're looking at least\n",
        "               transforms.RandomResizedCrop(224, (0.5, 1)),\n",
        "               transforms.RandomHorizontalFlip(),\n",
        "               transforms.RandomChoice([\n",
        "                 transforms.RandomPerspective(distortion_scale=0.2, p=0.75),\n",
        "                 transforms.RandomPerspective(distortion_scale=0.4, p=0.75),\n",
        "                 transforms.RandomPerspective(distortion_scale=0.6, p=0.75)]\n",
        "               ),\n",
        "               transforms.ToTensor(),\n",
        "               transforms.Normalize(mean=[0.485, 0.456, 0.406],\n",
        "                                 std=[0.229, 0.224, 0.225])\n",
        "               ]))"
      ],
      "execution_count": 0,
      "outputs": []
    },
    {
      "cell_type": "code",
      "metadata": {
        "id": "K6SgLCfRGwwB",
        "colab_type": "code",
        "colab": {}
      },
      "source": [
        "def imshow(inp, title=None):\n",
        "    \"\"\"Imshow for Tensor.\"\"\"\n",
        "    inp = inp.numpy().transpose((1, 2, 0))\n",
        "    mean = np.array([0.485, 0.456, 0.406])\n",
        "    std = np.array([0.229, 0.224, 0.225])\n",
        "    inp = std * inp + mean\n",
        "    inp = np.clip(inp, 0, 1)\n",
        "    plt.imshow(inp)\n",
        "    if title is not None:\n",
        "        plt.title(title)\n",
        "    plt.pause(0.001)  # pause a bit so that plots are updated\n"
      ],
      "execution_count": 0,
      "outputs": []
    },
    {
      "cell_type": "code",
      "metadata": {
        "id": "AIkN49dZD_hP",
        "colab_type": "code",
        "colab": {}
      },
      "source": [
        "batch_size = 15\n",
        "validation_split = 0.08 # Gives roughly 26 in validation\n",
        "shuffle_dataset = True\n",
        "random_seed = 2019\n",
        "\n",
        "# Creating data indices for training and validation splits:\n",
        "dataset_size = len(dataset)\n",
        "indices = list(range(dataset_size))\n",
        "split = int(np.floor(validation_split * dataset_size))\n",
        "if shuffle_dataset:\n",
        "    np.random.seed(random_seed)\n",
        "    np.random.shuffle(indices)\n",
        "train_indices, val_indices = indices[split:], indices[:split]\n",
        "\n",
        "# Creating PT data samplers and loaders:\n",
        "train_sampler = SubsetRandomSampler(train_indices)\n",
        "valid_sampler = SubsetRandomSampler(val_indices)\n",
        "\n",
        "train_loader = DataLoader(dataset, batch_size=batch_size, \n",
        "                                           sampler=train_sampler)\n",
        "validation_loader = DataLoader(dataset, batch_size=batch_size,\n",
        "                                                sampler=valid_sampler)"
      ],
      "execution_count": 0,
      "outputs": []
    },
    {
      "cell_type": "code",
      "metadata": {
        "id": "_vB7v78BHWiP",
        "colab_type": "code",
        "colab": {}
      },
      "source": [
        "for x, y in train_loader:\n",
        "  for i, j in zip(x, y.tolist()):\n",
        "    print(dataset.classes[j])\n",
        "    imshow(i)\n",
        "  break"
      ],
      "execution_count": 0,
      "outputs": []
    },
    {
      "cell_type": "code",
      "metadata": {
        "id": "lwJtylU7NSpc",
        "colab_type": "code",
        "colab": {
          "base_uri": "https://localhost:8080/",
          "height": 521
        },
        "outputId": "270d7af1-558a-46f9-87d0-42ebbf6543c5"
      },
      "source": [
        "[dataset.classes[c] for imgs, batch in validation_loader for c in batch ]"
      ],
      "execution_count": 9,
      "outputs": [
        {
          "output_type": "execute_result",
          "data": {
            "text/plain": [
              "['m',\n",
              " 'm',\n",
              " 'w',\n",
              " 'x',\n",
              " 'l',\n",
              " 'w',\n",
              " 'k',\n",
              " 'h',\n",
              " 'nothing',\n",
              " 'g',\n",
              " 'p',\n",
              " 'y',\n",
              " 'c',\n",
              " 'r',\n",
              " 'k',\n",
              " 's',\n",
              " 'u',\n",
              " 'n',\n",
              " 'u',\n",
              " 'nothing',\n",
              " 'l',\n",
              " 'c',\n",
              " 's',\n",
              " 'm',\n",
              " 'j',\n",
              " 'r',\n",
              " 'nothing',\n",
              " 'f']"
            ]
          },
          "metadata": {
            "tags": []
          },
          "execution_count": 9
        }
      ]
    },
    {
      "cell_type": "code",
      "metadata": {
        "id": "Vi4kQXjELNPK",
        "colab_type": "code",
        "outputId": "13b69cf7-8a3d-46cf-bd7b-ddc1444ae3b9",
        "colab": {
          "base_uri": "https://localhost:8080/",
          "height": 53
        }
      },
      "source": [
        "print(\"Number in the train sampler: {}\".format(len(train_indices)))\n",
        "print(\"Number in the validate sampler: {}\".format(len(val_indices)))"
      ],
      "execution_count": 10,
      "outputs": [
        {
          "output_type": "stream",
          "text": [
            "Number in the train sampler: 332\n",
            "Number in the validate sampler: 28\n"
          ],
          "name": "stdout"
        }
      ]
    },
    {
      "cell_type": "code",
      "metadata": {
        "id": "HOurZtneWHxI",
        "colab_type": "code",
        "colab": {
          "base_uri": "https://localhost:8080/",
          "height": 73
        },
        "outputId": "d95a3998-5f40-40a3-efb7-0454df506974"
      },
      "source": [
        "# Initialize Model\n",
        "model = torchvision.models.resnet152(pretrained=True)\n",
        "num_f = model.fc.in_features\n",
        "model.fc = nn.Linear(num_f, len(dataset.classes))\n",
        "\n",
        "model = model.cuda() #use GPU\n",
        "\n",
        "# Initialize Objective and Optimizer and other parameters\n",
        "objective = nn.CrossEntropyLoss()\n",
        "optimizer = optim.Adam(model.parameters(), lr=0.00001)"
      ],
      "execution_count": 12,
      "outputs": [
        {
          "output_type": "stream",
          "text": [
            "Downloading: \"https://download.pytorch.org/models/resnet152-b121ed2d.pth\" to /root/.cache/torch/checkpoints/resnet152-b121ed2d.pth\n",
            "100%|██████████| 230M/230M [00:06<00:00, 39.0MB/s]\n"
          ],
          "name": "stderr"
        }
      ]
    },
    {
      "cell_type": "code",
      "metadata": {
        "id": "yG-MDzwWpi3u",
        "colab_type": "code",
        "colab": {}
      },
      "source": [
        "import matplotlib.pyplot as plt\n"
      ],
      "execution_count": 0,
      "outputs": []
    },
    {
      "cell_type": "code",
      "metadata": {
        "id": "jKvaGpQVRFfH",
        "colab_type": "code",
        "colab": {}
      },
      "source": [
        "# This is what was talked about in the video for memory management\n",
        "num_epochs = 200\n",
        "valid_frequency = 1\n",
        "\n",
        "saved_epoch = -1\n",
        "\n",
        "train_losses = []\n",
        "validation_losses = []\n",
        "train_acc = []\n",
        "valid_acc = []\n",
        "\n",
        "def scope():\n",
        "  model_directory = \"/content/gdrive/My Drive/CS474 Final Project/CustomFingerspelling/Models4\"\n",
        "  best_loss = float(\"inf\")\n",
        "\n",
        "  try:\n",
        "    #your code for calling dataset and dataloader\n",
        "    gc.collect()\n",
        "    torch.cuda.empty_cache()\n",
        "\n",
        "    loop = tqdm(\n",
        "        total=(len(train_loader) * num_epochs) +\n",
        "          (len(validation_loader) * (num_epochs // valid_frequency))\n",
        "        , position = 0)\n",
        "\n",
        "    for epoch in range(num_epochs):\n",
        "      sum_loss = 0\n",
        "      count_loss = 0\n",
        "      sum_acc = 0\n",
        "      count_acc = 0\n",
        "\n",
        "      for batch_i, (x, y_truth) in enumerate(train_loader):\n",
        "        x, y_truth = x.cuda(async=True), y_truth.cuda(async=True)\n",
        "        optimizer.zero_grad()\n",
        "        y_hat = model(x)\n",
        "        y_long = y_truth.long()\n",
        "\n",
        "        # print(\"\\n\\n-----------\\ny_hat: {}, y_long: {}\\n-----------\\n\\n\".format(y_hat.size(), y_long.size()))\n",
        "        loss = objective(y_hat, y_long)\n",
        "        sum_loss += loss.item()\n",
        "        count_loss += 1\n",
        "\n",
        "        accuracy = 1- (torch.nonzero(torch.argmax(y_hat, 1) - y_truth).size(0) / len(y_truth))\n",
        "        sum_acc += accuracy\n",
        "        count_acc += 1\n",
        "\n",
        "        loop.set_description(\"epoch:{}, loss:{:.4f}, accuracy:{:.4f}\".format(epoch, loss.item(), accuracy))\n",
        "        loop.update(1)\n",
        "        loss.backward()\n",
        "        optimizer.step()\n",
        "\n",
        "        # Save model out if it's the new lowest loss.\n",
        "        if loss.item() < best_loss:\n",
        "          best_loss = loss.item()\n",
        "          state = {\n",
        "              'epoch': epoch,\n",
        "              'batch_i': batch_i,\n",
        "              'state': model.state_dict(),\n",
        "              'optim': optimizer.state_dict(),\n",
        "              'train_losses': train_losses,\n",
        "              'train_acc': train_acc,\n",
        "              'valid_losses': validation_losses,\n",
        "              'valid_acc': valid_acc,\n",
        "              'current_loss': loss.item()\n",
        "          }\n",
        "          model_file = os.path.join(model_directory, \"resnet152.mod\")\n",
        "          torch.save(state, model_file)\n",
        "\n",
        "      epoch_loss = sum_loss / count_loss\n",
        "      train_losses.append( (epoch, epoch_loss) )\n",
        "      epoch_acc = sum_acc / count_acc\n",
        "      train_acc.append( ( epoch, epoch_acc ) )\n",
        "      \n",
        "      if epoch % valid_frequency == 0:\n",
        "        sum_loss = 0\n",
        "        count_loss = 0\n",
        "        sum_acc = 0\n",
        "        count_acc = 0\n",
        "        with torch.no_grad():\n",
        "          for x, y_truth in validation_loader:\n",
        "            x, y_truth = x.cuda(async=True), y_truth.cuda(async=True)\n",
        "            y_hat = model(x)\n",
        "            loss = objective(y_hat, y_truth.long())\n",
        "            sum_loss += loss.item()\n",
        "            count_loss += 1       \n",
        "            accuracy = 1- (torch.nonzero(torch.argmax(y_hat, 1) - y_truth).size(0) / len(y_truth))\n",
        "            sum_acc += accuracy\n",
        "            count_acc += 1\n",
        "          \n",
        "          valid_acc.append((epoch, sum_acc / count_acc))\n",
        "          validation_losses.append((epoch, sum_loss / count_loss))\n",
        "      # Plot stuff.\n",
        "      # plt.plot(*zip(*train_losses), label=\"Training\")\n",
        "      # plt.plot(*zip(*validation_losses), label=\"Validation\")\n",
        "      # plt.draw() \n",
        "      # plt.pause(0.01)\n",
        "  except:\n",
        "    __ITB__()\n",
        "    raise"
      ],
      "execution_count": 0,
      "outputs": []
    },
    {
      "cell_type": "code",
      "metadata": {
        "id": "DrPdgy_QtIFU",
        "colab_type": "code",
        "outputId": "715d37ff-4cbd-4bac-ebe9-b92375591b63",
        "colab": {
          "base_uri": "https://localhost:8080/",
          "height": 35
        }
      },
      "source": [
        "scope()"
      ],
      "execution_count": 15,
      "outputs": [
        {
          "output_type": "stream",
          "text": [
            "epoch:199, loss:0.8051, accuracy:1.0000:  92%|█████████▏| 4600/5000 [57:35<08:18,  1.25s/it]"
          ],
          "name": "stderr"
        }
      ]
    },
    {
      "cell_type": "code",
      "metadata": {
        "id": "4X4xaP2EIFLB",
        "colab_type": "code",
        "colab": {
          "base_uri": "https://localhost:8080/",
          "height": 73
        },
        "outputId": "9ea35643-277c-403e-a37d-80bb83076638"
      },
      "source": [
        "print(train_losses)\n",
        "print(validation_losses)"
      ],
      "execution_count": 16,
      "outputs": [
        {
          "output_type": "stream",
          "text": [
            "[(0, 3.38407183730084), (1, 3.3259365351303765), (2, 3.3022579732148545), (3, 3.305336102195408), (4, 3.256742695103521), (5, 3.2347673436869746), (6, 3.211738969968713), (7, 3.185526360636172), (8, 3.0903080960978633), (9, 3.0510319730509883), (10, 2.974912871485171), (11, 2.8903128789818804), (12, 2.791495406109354), (13, 2.7306742149850596), (14, 2.6595730574234673), (15, 2.518588387447855), (16, 2.451170185337896), (17, 2.324128752169402), (18, 2.2582432757253232), (19, 2.1734801479007886), (20, 2.1311887036199155), (21, 2.0074617396230283), (22, 1.9745798318282417), (23, 1.8146577814350957), (24, 1.8326729328736016), (25, 1.795642427776171), (26, 1.6584236673686816), (27, 1.585053599399069), (28, 1.6418319577756135), (29, 1.5049423912297124), (30, 1.499849075856416), (31, 1.3915441787761191), (32, 1.3579956163530764), (33, 1.2480097464893176), (34, 1.2344843900722007), (35, 1.2252177233281343), (36, 1.1985091100568357), (37, 1.1434006820554319), (38, 1.0934670852578205), (39, 1.0140314931454866), (40, 1.0837767849797788), (41, 0.9881826043128967), (42, 0.9654936738636183), (43, 0.9361650878968446), (44, 1.0336492165275242), (45, 0.919045116590417), (46, 0.867954943491065), (47, 0.8815259881641554), (48, 0.8807329030140586), (49, 0.7561192020126011), (50, 0.8492663839588994), (51, 0.8035068615623142), (52, 0.7945927394473035), (53, 0.8477679633575937), (54, 0.8089547675588856), (55, 0.743441676316054), (56, 0.7670141367808633), (57, 0.6863756860079973), (58, 0.6727342022501904), (59, 0.7216895773358967), (60, 0.6825547995774642), (61, 0.6204398857510608), (62, 0.6389037403075591), (63, 0.6056644650905029), (64, 0.567627995558407), (65, 0.6314722150564194), (66, 0.7414734013702559), (67, 0.6057764835979628), (68, 0.6482942052509474), (69, 0.5569833944673124), (70, 0.4803785176380821), (71, 0.6517228620207828), (72, 0.6873905017324116), (73, 0.5832538047562474), (74, 0.6508397855188536), (75, 0.43513482355553174), (76, 0.5957567147586657), (77, 0.6076821289632631), (78, 0.5584433755796888), (79, 0.4868856697626736), (80, 0.5874438246955043), (81, 0.5735400034033734), (82, 0.5589856602575468), (83, 0.5161332698619884), (84, 0.6018844272779382), (85, 0.5141708672694538), (86, 0.546004122366076), (87, 0.5371056898780491), (88, 0.44140002649763355), (89, 0.4547908270488615), (90, 0.5355593296496765), (91, 0.39025357430395874), (92, 0.5051321481233058), (93, 0.46005165657919384), (94, 0.5080690521584905), (95, 0.4798808901206307), (96, 0.5143697537157846), (97, 0.4180842799984891), (98, 0.3719707283636798), (99, 0.4731800371538038), (100, 0.3602906313279401), (101, 0.4537142107020254), (102, 0.41569015156963596), (103, 0.47500726451044495), (104, 0.4617593797004741), (105, 0.48842214404240897), (106, 0.4841439791995546), (107, 0.3600519906891429), (108, 0.4135747691211493), (109, 0.466823338004558), (110, 0.45234854956683906), (111, 0.4875120698757794), (112, 0.46794944434710173), (113, 0.4312145089649636), (114, 0.4959565801141055), (115, 0.42247742997563403), (116, 0.4686035863731218), (117, 0.37514671731902205), (118, 0.3225966598028722), (119, 0.3768873423661875), (120, 0.44887087461741076), (121, 0.4056020019494969), (122, 0.32248313320071803), (123, 0.5513561796396971), (124, 0.37386262805565545), (125, 0.5545101538300514), (126, 0.3331856502462988), (127, 0.31803081443776254), (128, 0.3606606022171352), (129, 0.32519056048730144), (130, 0.3394792429778887), (131, 0.3605753344524166), (132, 0.3900619721768991), (133, 0.4888887003712032), (134, 0.3621087762648645), (135, 0.4030188778820245), (136, 0.3631654721887215), (137, 0.5104335713321748), (138, 0.41119558574712795), (139, 0.35107649749387865), (140, 0.38420632473476557), (141, 0.45498765211390413), (142, 0.40079036500790843), (143, 0.3370039250863635), (144, 0.3368456950006278), (145, 0.22331340303239616), (146, 0.42936847585698834), (147, 0.41141998265748436), (148, 0.35020886944687885), (149, 0.34115104668814206), (150, 0.35226758318426815), (151, 0.3059109368402025), (152, 0.3297418245802755), (153, 0.25756415319831477), (154, 0.3187893338339484), (155, 0.26486662167893804), (156, 0.31852135402352916), (157, 0.4040654199602811), (158, 0.3265740941076175), (159, 0.3147807508383108), (160, 0.27194136494527693), (161, 0.28956164184795774), (162, 0.3164113175285899), (163, 0.28036485871543054), (164, 0.501065115565839), (165, 0.49000300345537456), (166, 0.32125254866221675), (167, 0.35407839480625547), (168, 0.35718043844984926), (169, 0.30226333945503703), (170, 0.30901630449554196), (171, 0.27378753718474635), (172, 0.37356518087503704), (173, 0.3294069987276326), (174, 0.3574384601543779), (175, 0.3409687404561302), (176, 0.32026641119433485), (177, 0.3487797541462857), (178, 0.2974925527106161), (179, 0.3619091541546842), (180, 0.36500684455361054), (181, 0.28965878502830217), (182, 0.26595853325789387), (183, 0.28784199261470983), (184, 0.34558435772424156), (185, 0.31087426347253116), (186, 0.2833859325265107), (187, 0.32225737574955693), (188, 0.33560281149719073), (189, 0.2642293966010861), (190, 0.3177233283286509), (191, 0.31658264743569103), (192, 0.34058151410325715), (193, 0.3226807779106109), (194, 0.3106909208809552), (195, 0.29969767634959327), (196, 0.3620838231366614), (197, 0.4258733351269494), (198, 0.4108456720638534), (199, 0.3075372267757421)]\n",
            "[(0, 3.328859567642212), (1, 3.29390549659729), (2, 3.35795259475708), (3, 3.3922661542892456), (4, 3.379557490348816), (5, 3.314738392829895), (6, 3.34174120426178), (7, 3.3035237789154053), (8, 3.192362666130066), (9, 3.210163950920105), (10, 3.1200610399246216), (11, 3.1261223554611206), (12, 2.8802664279937744), (13, 2.876379370689392), (14, 2.7099257707595825), (15, 2.491801381111145), (16, 2.5578562021255493), (17, 2.558311104774475), (18, 2.3154858350753784), (19, 2.2928626537323), (20, 2.2816474437713623), (21, 2.240809202194214), (22, 2.1722192764282227), (23, 2.197376787662506), (24, 1.9183602929115295), (25, 2.019894063472748), (26, 1.9459919333457947), (27, 2.0721009969711304), (28, 1.727739155292511), (29, 1.787994921207428), (30, 1.8944398760795593), (31, 1.5551329255104065), (32, 1.799355685710907), (33, 1.7288434505462646), (34, 1.7848939895629883), (35, 1.7695242762565613), (36, 1.531670331954956), (37, 1.5639855861663818), (38, 1.5108933448791504), (39, 1.5285316705703735), (40, 1.7647936940193176), (41, 1.5454692244529724), (42, 1.5378395318984985), (43, 1.47410386800766), (44, 1.4618117213249207), (45, 1.518558144569397), (46, 1.513164460659027), (47, 1.9769118428230286), (48, 1.4875617623329163), (49, 1.5676161646842957), (50, 1.6362594366073608), (51, 1.199468731880188), (52, 1.5697511434555054), (53, 1.3797678351402283), (54, 1.401450514793396), (55, 1.4456069469451904), (56, 1.3204833269119263), (57, 1.6063294410705566), (58, 1.1115785539150238), (59, 0.9881676733493805), (60, 1.2073692083358765), (61, 1.2353229522705078), (62, 1.39594566822052), (63, 1.679356336593628), (64, 1.5026775002479553), (65, 1.1124902665615082), (66, 1.480871319770813), (67, 1.053378850221634), (68, 1.2159261405467987), (69, 1.4436046481132507), (70, 1.6065471768379211), (71, 1.452426254749298), (72, 1.512899100780487), (73, 1.3410686552524567), (74, 1.7069212198257446), (75, 1.656431496143341), (76, 1.2822360396385193), (77, 1.2981529235839844), (78, 1.4856280088424683), (79, 1.839768648147583), (80, 1.2745676636695862), (81, 1.2592639923095703), (82, 1.3576628863811493), (83, 1.5337490439414978), (84, 1.4133701920509338), (85, 1.545396238565445), (86, 1.4579208493232727), (87, 1.5312708020210266), (88, 1.4309278726577759), (89, 1.36552232503891), (90, 1.394709825515747), (91, 1.41147118806839), (92, 1.4806032180786133), (93, 1.7148069143295288), (94, 1.6220493912696838), (95, 1.6176024675369263), (96, 1.1258010566234589), (97, 1.535044014453888), (98, 1.4353628158569336), (99, 1.3571783304214478), (100, 1.235383152961731), (101, 1.6014620661735535), (102, 1.3419129252433777), (103, 1.470685601234436), (104, 0.9618574678897858), (105, 1.411243200302124), (106, 1.6045231819152832), (107, 1.5386542677879333), (108, 1.6188010573387146), (109, 1.603853702545166), (110, 1.5411902964115143), (111, 1.4247603118419647), (112, 1.91929692029953), (113, 1.5502967834472656), (114, 1.3720890879631042), (115, 1.5858813524246216), (116, 1.2343034148216248), (117, 1.9964136481285095), (118, 1.9607165455818176), (119, 1.6598469614982605), (120, 1.3147501349449158), (121, 1.425762951374054), (122, 1.5161875784397125), (123, 1.4215964674949646), (124, 1.547609806060791), (125, 1.4129912555217743), (126, 1.4641847610473633), (127, 1.4389247298240662), (128, 1.3974435925483704), (129, 1.5800099968910217), (130, 1.2628109753131866), (131, 1.5286978483200073), (132, 1.628014326095581), (133, 1.6654312014579773), (134, 1.1232313513755798), (135, 1.4552684426307678), (136, 2.211281478404999), (137, 1.845702588558197), (138, 1.5892442464828491), (139, 1.5488863587379456), (140, 1.4474100470542908), (141, 1.2113662958145142), (142, 1.4123580157756805), (143, 1.8801456689834595), (144, 1.7275599837303162), (145, 1.8599815666675568), (146, 1.9234092235565186), (147, 1.0877631306648254), (148, 1.5386046469211578), (149, 1.3066278100013733), (150, 1.889122724533081), (151, 1.5961054563522339), (152, 1.772989571094513), (153, 1.451644480228424), (154, 1.6593630909919739), (155, 1.548001766204834), (156, 1.7065802812576294), (157, 0.9425493776798248), (158, 1.7124740481376648), (159, 1.227798879146576), (160, 1.6290576457977295), (161, 1.8381612598896027), (162, 1.6752170324325562), (163, 1.79352867603302), (164, 1.261864423751831), (165, 1.695483922958374), (166, 2.235994040966034), (167, 1.8597502708435059), (168, 1.5318281054496765), (169, 1.4117757678031921), (170, 1.402622014284134), (171, 1.7525401711463928), (172, 2.2922123670578003), (173, 1.5165818929672241), (174, 1.9573875665664673), (175, 1.774731159210205), (176, 1.4124950766563416), (177, 1.4540060758590698), (178, 1.538017749786377), (179, 1.7721197009086609), (180, 1.783167839050293), (181, 1.4233762621879578), (182, 1.4497590959072113), (183, 1.6687848567962646), (184, 1.5936425924301147), (185, 1.3791445791721344), (186, 1.8183341026306152), (187, 2.099593460559845), (188, 2.224052608013153), (189, 2.019602954387665), (190, 1.7036957740783691), (191, 1.46152925491333), (192, 2.107265055179596), (193, 1.86885666847229), (194, 1.607090413570404), (195, 1.911669671535492), (196, 2.1219478845596313), (197, 1.380384385585785), (198, 2.103699505329132), (199, 1.6784950494766235)]\n"
          ],
          "name": "stdout"
        }
      ]
    },
    {
      "cell_type": "code",
      "metadata": {
        "id": "CMeJFfEJWW6G",
        "colab_type": "code",
        "colab": {
          "base_uri": "https://localhost:8080/",
          "height": 545
        },
        "outputId": "b4999998-c9ca-4a6e-f80d-cbd8d7872019"
      },
      "source": [
        "plt.title(\"Losses\")\n",
        "plt.plot(*zip(*train_losses), label=\"Training\")\n",
        "plt.plot(*zip(*validation_losses), label=\"Validation\")\n",
        "plt.legend(loc=\"upper right\")\n",
        "plt.show()\n",
        "\n",
        "plt.plot(*zip(*train_acc), label=\"Training\")\n",
        "plt.plot(*zip(*valid_acc), label=\"Validation\")\n",
        "plt.title(\"Training accuracies\")\n",
        "plt.show()"
      ],
      "execution_count": 17,
      "outputs": [
        {
          "output_type": "display_data",
          "data": {
            "image/png": "[encoded data removed]",
            "text/plain": [
              "<Figure size 432x288 with 1 Axes>"
            ]
          },
          "metadata": {
            "tags": []
          }
        },
        {
          "output_type": "display_data",
          "data": {
            "image/png": "[encoded data removed]",
            "text/plain": [
              "<Figure size 432x288 with 1 Axes>"
            ]
          },
          "metadata": {
            "tags": []
          }
        }
      ]
    },
    {
      "cell_type": "code",
      "metadata": {
        "id": "g_76-Gznx55J",
        "colab_type": "code",
        "colab": {}
      },
      "source": [
        "# Save that model out.\n",
        "torch.save(model.state_dict(), \"/content/gdrive/My Drive/CS474 Final Project/CustomFingerspelling/Models4/resnet152_end200.mod\")\n"
      ],
      "execution_count": 0,
      "outputs": []
    },
    {
      "cell_type": "markdown",
      "metadata": {
        "id": "8WGAvb0e4bRM",
        "colab_type": "text"
      },
      "source": [
        "# Validate Transfer Learning"
      ]
    },
    {
      "cell_type": "code",
      "metadata": {
        "id": "IWCHOL2i2fuw",
        "colab_type": "code",
        "colab": {
          "base_uri": "https://localhost:8080/",
          "height": 55
        },
        "outputId": "84f5d480-7521-4f7a-8ef3-325c445cdf56"
      },
      "source": [
        "\"\"\"\n",
        "  1. Mount Google Drive (no need to check if already mounted, it does that for you)\n",
        "  2. \n",
        "\"\"\"\n",
        "from google.colab import drive\n",
        "drive.mount('/content/gdrive')\n",
        "\n",
        "root_dir = \"/content/gdrive/My Drive/models/\""
      ],
      "execution_count": 37,
      "outputs": [
        {
          "output_type": "stream",
          "text": [
            "Drive already mounted at /content/gdrive; to attempt to forcibly remount, call drive.mount(\"/content/gdrive\", force_remount=True).\n"
          ],
          "name": "stdout"
        }
      ]
    },
    {
      "cell_type": "code",
      "metadata": {
        "id": "emsHoLLYVjzh",
        "colab_type": "code",
        "colab": {}
      },
      "source": [
        "model = torchvision.models.resnet34(pretrained=True).cuda()\n",
        "num_f = model.fc.in_features\n",
        "model.fc = nn.Linear(num_f, len(dataset.classes))"
      ],
      "execution_count": 0,
      "outputs": []
    },
    {
      "cell_type": "code",
      "metadata": {
        "id": "QOUDNWPRVGu_",
        "colab_type": "code",
        "colab": {}
      },
      "source": [
        "model_file = \"/content/gdrive/My Drive/CS474 Final Project/Kaggle ASL Alphabet/loss_0.0304_epoch_4.mod\"\n",
        "loaded = torch.load(\"/content/gdrive/My Drive/CS474 Final Project/CustomFingerspelling/Models2/resnet34_end200.mod\") #[\"state\"]\n",
        "# print(loaded)\n",
        "model.load_state_dict(loaded)\n",
        "model = model.cuda()\n"
      ],
      "execution_count": 0,
      "outputs": []
    },
    {
      "cell_type": "code",
      "metadata": {
        "id": "PbyILXQ4qAzR",
        "colab_type": "code",
        "colab": {}
      },
      "source": [
        "model_file = \"/content/gdrive/My Drive/CS474 Final Project/Kaggle ASL Alphabet/loss_0.0304_epoch_4.mod\"\n",
        "\n",
        "model = ConvNetwork(3, len(dataset.dataset_folder.classes), dimensions=128).cuda()\n",
        "model.load_state_dict(torch.load(model_file))"
      ],
      "execution_count": 0,
      "outputs": []
    },
    {
      "cell_type": "code",
      "metadata": {
        "id": "PDh-TxqKrp1n",
        "colab_type": "code",
        "colab": {}
      },
      "source": [
        "# !cd \"/content/gdrive/My Drive/CS474 Final Project/Kaggle ASL Alphabet/\" && unzip Photos.zip\n",
        "!#mkdir \"/content/gdrive/My Drive/CS474 Final Project/Kaggle ASL Alphabet/Michelle\"\n",
        "#!mkdir \"/content/gdrive/My Drive/CS474 Final Project/Kaggle ASL Alphabet/Michelle/name\"\n",
        "\n",
        "!ls \"/content/gdrive/My Drive/CS474 Final Project/Kaggle ASL Alphabet/Michelle/name\""
      ],
      "execution_count": 0,
      "outputs": []
    },
    {
      "cell_type": "code",
      "metadata": {
        "id": "BTatz_AWss_b",
        "colab_type": "code",
        "colab": {}
      },
      "source": [
        "# michelle_set = ASLDataset(\"/content/gdrive/My Drive/CS474 Final Project/Kaggle ASL Alphabet\", \"Michelle\", size=224)\n",
        "michelle_set = torchvision.datasets.ImageFolder(\n",
        "          \"/content/gdrive/My Drive/CS474 Final Project/Kaggle ASL Alphabet/Michelle\",\n",
        "          transform = transforms.Compose(\n",
        "              [\n",
        "               transforms.Resize(224),\n",
        "               transforms.CenterCrop(224), # Make it so we know where we're looking at least\n",
        "              #  transforms.RandomResizedCrop(224, (0.8, 1)),\n",
        "               transforms.ToTensor(),\n",
        "               transforms.Normalize(mean=[0.485, 0.456, 0.406],\n",
        "                                 std=[0.229, 0.224, 0.225])\n",
        "               ]))\n",
        "\n",
        "michelle_loader = DataLoader(michelle_set, batch_size=10)"
      ],
      "execution_count": 0,
      "outputs": []
    },
    {
      "cell_type": "code",
      "metadata": {
        "id": "_h33lcSKs-V2",
        "colab_type": "code",
        "colab": {
          "base_uri": "https://localhost:8080/",
          "height": 53
        },
        "outputId": "a2e6c96c-2cf1-4109-8aa8-0568324bf97b"
      },
      "source": [
        "print(len(michelle_set))\n",
        "print(len(michelle_loader))"
      ],
      "execution_count": 47,
      "outputs": [
        {
          "output_type": "stream",
          "text": [
            "8\n",
            "1\n"
          ],
          "name": "stdout"
        }
      ]
    },
    {
      "cell_type": "code",
      "metadata": {
        "id": "8-kj-xYVw47K",
        "colab_type": "code",
        "colab": {
          "base_uri": "https://localhost:8080/",
          "height": 35
        },
        "outputId": "d082f6a3-5702-4964-b3eb-449c6b93b712"
      },
      "source": [
        "michelle_set.classes"
      ],
      "execution_count": 52,
      "outputs": [
        {
          "output_type": "execute_result",
          "data": {
            "text/plain": [
              "['name']"
            ]
          },
          "metadata": {
            "tags": []
          },
          "execution_count": 52
        }
      ]
    },
    {
      "cell_type": "code",
      "metadata": {
        "id": "ssLPZw_BtBP3",
        "colab_type": "code",
        "colab": {
          "base_uri": "https://localhost:8080/",
          "height": 35
        },
        "outputId": "55e7b7ad-f9ae-47ca-c3df-1cf81521de70"
      },
      "source": [
        "batches = [model(i.cuda()) for i, j in michelle_loader]\n",
        "\"\".join([dataset.classes[torch.argmax(item)] for batch in batches for item in batch])"
      ],
      "execution_count": 70,
      "outputs": [
        {
          "output_type": "execute_result",
          "data": {
            "text/plain": [
              "'michellt'"
            ]
          },
          "metadata": {
            "tags": []
          },
          "execution_count": 70
        }
      ]
    },
    {
      "cell_type": "code",
      "metadata": {
        "id": "a_2ePX5sAuIR",
        "colab_type": "code",
        "colab": {}
      },
      "source": [
        "sum = 0\n",
        "for i, j in michelle_loader:\n",
        "  sum += 1\n",
        "  res = model(i.cuda())\n",
        "  chosen = torch.argmax(res, dim=1)\n",
        "  print(chosen)\n",
        "  actual = [dataset.classes[a] for a in j.tolist()]\n",
        "  solved = [dataset.classes[a] for a in chosen.tolist()]\n",
        "  for c, v in enumerate(zip(actual, solved)):\n",
        "    a, s = v\n",
        "    print(\"Actual: {} Guess: {}\".format(a, s))\n",
        "    try:\n",
        "      imshow(i[c])\n",
        "    except:\n",
        "      pass\n",
        "\n",
        "  if sum > 0:\n",
        "    break"
      ],
      "execution_count": 0,
      "outputs": []
    },
    {
      "cell_type": "code",
      "metadata": {
        "id": "drUvyXDJ5FGm",
        "colab_type": "code",
        "colab": {}
      },
      "source": [
        "sum = 0\n",
        "for i, j in validation_loader:\n",
        "  sum += 1\n",
        "  res = model(i.cuda())\n",
        "  chosen = torch.argmax(res, dim=1)\n",
        "  print(chosen)\n",
        "  actual = [dataset.dataset_folder.classes[a] for a in j.tolist()]\n",
        "  solved = [dataset.dataset_folder.classes[a] for a in chosen.tolist()]\n",
        "  for c, v in enumerate(zip(actual, solved)):\n",
        "    a, s = v\n",
        "    print(\"Actual: {} Guess: {}\".format(a, s))\n",
        "    try:\n",
        "      imshow(i[c])\n",
        "    except:\n",
        "      pass\n",
        "\n",
        "  if sum > 0:\n",
        "    break"
      ],
      "execution_count": 0,
      "outputs": []
    },
    {
      "cell_type": "code",
      "metadata": {
        "id": "D0S28sLOxKBn",
        "colab_type": "code",
        "colab": {}
      },
      "source": [
        "import matplotlib.pyplot as plt\n",
        "import torchvision.utils as vutils\n"
      ],
      "execution_count": 0,
      "outputs": []
    },
    {
      "cell_type": "code",
      "metadata": {
        "id": "QIiRthPsxsW5",
        "colab_type": "code",
        "colab": {}
      },
      "source": [
        "def show_imgs(x, new_fig=True):\n",
        "    grid = vutils.make_grid(x.detach().cpu(), nrow=8, normalize=True, pad_value=0.3)\n",
        "    grid = grid.transpose(0,2).transpose(0,1) # channels as last dimension\n",
        "    if new_fig:\n",
        "        plt.figure()\n",
        "    plt.imshow(grid.numpy())"
      ],
      "execution_count": 0,
      "outputs": []
    },
    {
      "cell_type": "code",
      "metadata": {
        "id": "OmznQylmxTQV",
        "colab_type": "code",
        "colab": {}
      },
      "source": [
        "for x, y in michelle_loader:\n",
        "  show_imgs(x)\n"
      ],
      "execution_count": 0,
      "outputs": []
    },
    {
      "cell_type": "markdown",
      "metadata": {
        "id": "8gNj0-7ePcRF",
        "colab_type": "text"
      },
      "source": [
        "# SSH Access\n",
        "\n",
        "If ssh_connect is True, an ssh server will be set up on the hosting server. Ergo power."
      ]
    },
    {
      "cell_type": "code",
      "metadata": {
        "id": "NmJosbn3c0i_",
        "colab_type": "code",
        "colab": {}
      },
      "source": [
        "ssh_connect = False\n",
        "if ssh_connect:\n",
        "  import random, string, getpass\n",
        "\n",
        "  password = ''.join(random.choice(string.ascii_letters + string.digits) for i in range(20))\n",
        "  alias = ''.join(random.choice(string.ascii_letters + string.digits) for i in range(8))\n",
        "  ! echo root:$password | chpasswd\n",
        "\n",
        "  ! apt-get install -qq -o=Dpkg::Use-Pty=0 openssh-server pwgen > /dev/null\n",
        "  ! mkdir -p /var/run/sshd\n",
        "  ! echo \"PermitRootLogin yes\" >> /etc/ssh/sshd_config && echo \"PasswordAuthentication yes\" >> /etc/ssh/sshd_config\n",
        "  ! echo \"LD_LIBRARY_PATH=/usr/lib64-nvidia\" >> /root/.bashrc && echo \"export LD_LIBRARY_PATH\" >> /root/.bashrc\n",
        "  get_ipython().system_raw('/usr/sbin/sshd -D &')\n",
        "\n",
        "  print('sshpass -p {} ssh -o \"StrictHostKeyChecking no\" -J serveo.net root@{}'.format(password, alias))\n",
        "  ! ssh -o \"StrictHostKeyChecking no\" -R $alias:22:localhost:22 serveo.net"
      ],
      "execution_count": 0,
      "outputs": []
    },
    {
      "cell_type": "markdown",
      "metadata": {
        "id": "N8XekZ0aWfAO",
        "colab_type": "text"
      },
      "source": [
        "#Compare Models"
      ]
    },
    {
      "cell_type": "code",
      "metadata": {
        "id": "1PL9x7AoWeJA",
        "colab_type": "code",
        "colab": {}
      },
      "source": [
        "resnet34_path = \"/content/gdrive/My Drive/CS474 Final Project/CustomFingerspelling/Models2/resnet34.mod\"\n",
        "resnet50_path = \"/content/gdrive/My Drive/CS474 Final Project/CustomFingerspelling/Models3/resnet50.mod\"\n",
        "resnet152_path = \"/content/gdrive/My Drive/CS474 Final Project/CustomFingerspelling/Models4/resnet152.mod\""
      ],
      "execution_count": 0,
      "outputs": []
    },
    {
      "cell_type": "code",
      "metadata": {
        "id": "z9g43QxNW9Rq",
        "colab_type": "code",
        "colab": {
          "base_uri": "https://localhost:8080/",
          "height": 145
        },
        "outputId": "e85f168f-b1f9-49ed-f90b-b91380124c8a"
      },
      "source": [
        "rn34 = torchvision.models.resnet34(pretrained=True).cuda()\n",
        "rn50 = torchvision.models.resnet50(pretrained=True).cuda()\n",
        "rn152 = torchvision.models.resnet152(pretrained=True).cuda()"
      ],
      "execution_count": 12,
      "outputs": [
        {
          "output_type": "stream",
          "text": [
            "Downloading: \"https://download.pytorch.org/models/resnet34-333f7ec4.pth\" to /root/.cache/torch/checkpoints/resnet34-333f7ec4.pth\n",
            "100%|██████████| 83.3M/83.3M [00:00<00:00, 172MB/s]\n",
            "Downloading: \"https://download.pytorch.org/models/resnet50-19c8e357.pth\" to /root/.cache/torch/checkpoints/resnet50-19c8e357.pth\n",
            "100%|██████████| 97.8M/97.8M [00:00<00:00, 164MB/s]\n",
            "Downloading: \"https://download.pytorch.org/models/resnet152-b121ed2d.pth\" to /root/.cache/torch/checkpoints/resnet152-b121ed2d.pth\n",
            "100%|██████████| 230M/230M [00:02<00:00, 116MB/s]\n"
          ],
          "name": "stderr"
        }
      ]
    },
    {
      "cell_type": "code",
      "metadata": {
        "id": "yB86AsuIXCXN",
        "colab_type": "code",
        "colab": {}
      },
      "source": [
        "rn34_data = torch.load(resnet34_path)\n",
        "rn50_data = torch.load(resnet50_path)\n",
        "rn152_data = torch.load(resnet152_path)"
      ],
      "execution_count": 0,
      "outputs": []
    },
    {
      "cell_type": "code",
      "metadata": {
        "id": "ZQfDI-9DHzt-",
        "colab_type": "code",
        "colab": {}
      },
      "source": [
        "(zip(*rn34_accs))[1]"
      ],
      "execution_count": 0,
      "outputs": []
    },
    {
      "cell_type": "code",
      "metadata": {
        "id": "stht2INOX07d",
        "colab_type": "code",
        "colab": {}
      },
      "source": [
        "rn34_accs = list(zip(*rn34_data[\"valid_acc\"]))[1]\n",
        "rn50_accs = list(zip(*rn50_data[\"valid_acc\"]))[1]\n",
        "rn152_accs = list(zip(*rn152_data[\"valid_acc\"]))[1]"
      ],
      "execution_count": 0,
      "outputs": []
    },
    {
      "cell_type": "code",
      "metadata": {
        "id": "6yAgjh5EHeAA",
        "colab_type": "code",
        "colab": {}
      },
      "source": [
        "rn34_acc = np.average(rn34_accs[-10:])\n",
        "rn50_acc = np.average(rn50_accs[-10:])\n",
        "rn152_acc = np.average(rn152_accs[-10:])"
      ],
      "execution_count": 0,
      "outputs": []
    },
    {
      "cell_type": "code",
      "metadata": {
        "id": "kKQVCHCgaUAZ",
        "colab_type": "code",
        "colab": {
          "base_uri": "https://localhost:8080/",
          "height": 35
        },
        "outputId": "a0d0bcc7-42e1-4d84-eb9f-ced974207e56"
      },
      "source": [
        "print(\"{} | {} | {}\".format(rn34_acc, rn50_acc, rn152_acc))"
      ],
      "execution_count": 26,
      "outputs": [
        {
          "output_type": "stream",
          "text": [
            "0.5212820512820512 | 0.5679487179487179 | 0.5971794871794872\n"
          ],
          "name": "stdout"
        }
      ]
    },
    {
      "cell_type": "code",
      "metadata": {
        "id": "fvf9z2Xcc6Kl",
        "colab_type": "code",
        "colab": {}
      },
      "source": [
        "rn34_smooth = [np.average(rn34_accs[i:i+10]) for i in range(len(rn34_accs))]\n",
        "rn50_smooth = [np.average(rn50_accs[i:i+10]) for i in range(len(rn50_accs))]\n",
        "rn152_smooth = [np.average(rn152_accs[i:i+10]) for i in range(len(rn152_accs))]\n"
      ],
      "execution_count": 0,
      "outputs": []
    },
    {
      "cell_type": "code",
      "metadata": {
        "id": "wmwtc781XvDS",
        "colab_type": "code",
        "colab": {
          "base_uri": "https://localhost:8080/",
          "height": 545
        },
        "outputId": "5bcf5b35-24d6-46dc-dc49-def8bcbc8946"
      },
      "source": [
        "plt.title(\"Losses\")\n",
        "plt.plot(rn34_accs, label=\"34\")\n",
        "plt.plot(rn50_accs, label=\"50\")\n",
        "plt.plot(rn152_accs, label=\"152\")\n",
        "plt.legend(loc=\"lower right\")\n",
        "plt.show()\n",
        "\n",
        "plt.title(\"Losses\")\n",
        "plt.plot(rn34_smooth, label=\"34\")\n",
        "plt.plot(rn50_smooth, label=\"50\")\n",
        "plt.plot(rn152_smooth, label=\"152\")\n",
        "plt.legend(loc=\"lower right\")\n",
        "plt.show()"
      ],
      "execution_count": 32,
      "outputs": [
        {
          "output_type": "display_data",
          "data": {
            "image/png": "[encoded data removed]",
            "text/plain": [
              "<Figure size 432x288 with 1 Axes>"
            ]
          },
          "metadata": {
            "tags": []
          }
        },
        {
          "output_type": "display_data",
          "data": {
            "image/png": "[encoded data removed]",
            "text/plain": [
              "<Figure size 432x288 with 1 Axes>"
            ]
          },
          "metadata": {
            "tags": []
          }
        }
      ]
    },
    {
      "cell_type": "code",
      "metadata": {
        "id": "JC41PJYDcxxl",
        "colab_type": "code",
        "colab": {
          "base_uri": "https://localhost:8080/",
          "height": 35
        },
        "outputId": "21494cf2-1b86-44c2-c644-75a8f1d3bbf7"
      },
      "source": [
        "np.argmax(rn152_smooth)"
      ],
      "execution_count": 36,
      "outputs": [
        {
          "output_type": "execute_result",
          "data": {
            "text/plain": [
              "58"
            ]
          },
          "metadata": {
            "tags": []
          },
          "execution_count": 36
        }
      ]
    },
    {
      "cell_type": "code",
      "metadata": {
        "id": "CcTGX90dVBft",
        "colab_type": "code",
        "colab": {}
      },
      "source": [
        ""
      ],
      "execution_count": 0,
      "outputs": []
    }
  ]
}