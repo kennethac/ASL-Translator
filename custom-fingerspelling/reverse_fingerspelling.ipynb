{
  "nbformat": 4,
  "nbformat_minor": 0,
  "metadata": {
    "colab": {
      "name": "Kaggle ASL Alphabet",
      "provenance": [],
      "toc_visible": true
    },
    "kernelspec": {
      "name": "python3",
      "display_name": "Python 3"
    },
    "accelerator": "GPU"
  },
  "cells": [
    {
      "cell_type": "markdown",
      "metadata": {
        "id": "xDwJO9lsbuTv",
        "colab_type": "text"
      },
      "source": [
        "The data for this notebook comes from our propriety fingerspelling image collection, which per our privacy statement _**should not**_ be seen by anyone but those directly working on this project."
      ]
    },
    {
      "cell_type": "code",
      "metadata": {
        "id": "4Vhw70_FbDcp",
        "colab_type": "code",
        "colab": {}
      },
      "source": [
        "\"\"\"\n",
        "  1. Mount Google Drive (no need to check if already mounted, it does that for you)\n",
        "  2. \n",
        "\"\"\"\n",
        "from google.colab import drive\n",
        "drive.mount('/content/gdrive')\n",
        "\n"
      ],
      "execution_count": 0,
      "outputs": []
    },
    {
      "cell_type": "code",
      "metadata": {
        "id": "Ak1Cqg7cP-kF",
        "colab_type": "code",
        "outputId": "08b376ef-84f6-4247-d909-28a7df0b433d",
        "colab": {
          "base_uri": "https://localhost:8080/",
          "height": 179
        }
      },
      "source": [
        "!pip3 install torch\n",
        "!pip3 install torchvision\n",
        "!pip3 install tqdm\n",
        "\n",
        "import torch\n",
        "import torch.nn as nn\n",
        "import torch.nn.functional as F\n",
        "import torch.optim as optim\n",
        "from torch.utils.data import Dataset, DataLoader\n",
        "import numpy as np\n",
        "import matplotlib.pyplot as plt\n",
        "from torchvision import transforms, utils, datasets\n",
        "from tqdm import tqdm\n",
        "from torch.nn.parameter import Parameter\n",
        "import pdb\n",
        "import torchvision\n",
        "import os\n",
        "import gzip\n",
        "import tarfile\n",
        "import gc\n",
        "from IPython.core.ultratb import AutoFormattedTB\n",
        "from torch.utils.data.sampler import SubsetRandomSampler\n",
        "\n",
        "__ITB__ = AutoFormattedTB(mode = 'Verbose',color_scheme='LightBg', tb_offset = 1)\n",
        "\n",
        "assert torch.cuda.is_available(), \"You need to request a GPU from Runtime > Change Runtime\""
      ],
      "execution_count": 0,
      "outputs": [
        {
          "output_type": "stream",
          "text": [
            "Requirement already satisfied: torch in /usr/local/lib/python3.6/dist-packages (1.3.1)\n",
            "Requirement already satisfied: numpy in /usr/local/lib/python3.6/dist-packages (from torch) (1.17.4)\n",
            "Requirement already satisfied: torchvision in /usr/local/lib/python3.6/dist-packages (0.4.2)\n",
            "Requirement already satisfied: numpy in /usr/local/lib/python3.6/dist-packages (from torchvision) (1.17.4)\n",
            "Requirement already satisfied: torch==1.3.1 in /usr/local/lib/python3.6/dist-packages (from torchvision) (1.3.1)\n",
            "Requirement already satisfied: six in /usr/local/lib/python3.6/dist-packages (from torchvision) (1.12.0)\n",
            "Requirement already satisfied: pillow>=4.1.1 in /usr/local/lib/python3.6/dist-packages (from torchvision) (4.3.0)\n",
            "Requirement already satisfied: olefile in /usr/local/lib/python3.6/dist-packages (from pillow>=4.1.1->torchvision) (0.46)\n",
            "Requirement already satisfied: tqdm in /usr/local/lib/python3.6/dist-packages (4.28.1)\n"
          ],
          "name": "stdout"
        }
      ]
    },
    {
      "cell_type": "code",
      "metadata": {
        "id": "K6SgLCfRGwwB",
        "colab_type": "code",
        "colab": {}
      },
      "source": [
        "def imshow(inp, title=None):\n",
        "    \"\"\"Imshow for Tensor.\"\"\"\n",
        "    inp = inp.numpy().transpose((1, 2, 0))\n",
        "    mean = np.array([0.485, 0.456, 0.406])\n",
        "    std = np.array([0.229, 0.224, 0.225])\n",
        "    inp = std * inp + mean\n",
        "    inp = np.clip(inp, 0, 1)\n",
        "    plt.imshow(inp)\n",
        "    if title is not None:\n",
        "        plt.title(title)\n",
        "    plt.pause(0.001)  # pause a bit so that plots are updated\n"
      ],
      "execution_count": 0,
      "outputs": []
    },
    {
      "cell_type": "code",
      "metadata": {
        "id": "HOurZtneWHxI",
        "colab_type": "code",
        "colab": {}
      },
      "source": [
        "# Initialize Model\n",
        "model = torchvision.models.resnet50(pretrained=True)\n",
        "num_f = model.fc.in_features\n",
        "model.fc = nn.Linear(num_f, len(dataset.classes))\n",
        "\n",
        "model = model.cuda() #use GPU"
      ],
      "execution_count": 0,
      "outputs": []
    },
    {
      "cell_type": "code",
      "metadata": {
        "id": "bs4kqfTYA1rh",
        "colab_type": "code",
        "colab": {}
      },
      "source": [
        "model_file = \"/content/gdrive/My Drive/CS474 Final Project/CustomFingerspelling/Models3/resnet50.mod\"\n",
        "model.load_state_dict(torch.load(model_file)[\"state\"])"
      ],
      "execution_count": 0,
      "outputs": []
    },
    {
      "cell_type": "code",
      "metadata": {
        "id": "ksyY80XCBIGD",
        "colab_type": "code",
        "colab": {}
      },
      "source": [
        "input_img = torch.randn(1, 3, 224, 224, requires_grad=True)\n",
        "\n",
        "# Initialize Objective and Optimizer and other parameters\n",
        "objective = nn.CrossEntropyLoss()\n",
        "optimizer = optim.Adam([input_img.requires_grad_()], lr=0.005)"
      ],
      "execution_count": 0,
      "outputs": []
    },
    {
      "cell_type": "code",
      "metadata": {
        "id": "jKvaGpQVRFfH",
        "colab_type": "code",
        "colab": {}
      },
      "source": [
        "# This is what was talked about in the video for memory management\n",
        "num_epochs = 20\n",
        "show_every = 5\n",
        "train_losses = []\n",
        "\n",
        "def scope():\n",
        "  try:\n",
        "    #your code for calling dataset and dataloader\n",
        "    gc.collect()\n",
        "    torch.cuda.empty_cache()\n",
        "\n",
        "    loop = tqdm(num_epochs, position = 0)\n",
        "\n",
        "    for epoch in range(num_epochs):\n",
        "      optimizer.zero_grad()\n",
        "      y_hat = model(input_img)\n",
        "      y_long = torch.tensor([6]) # the letter g\n",
        "\n",
        "      # print(\"\\n\\n-----------\\ny_hat: {}, y_long: {}\\n-----------\\n\\n\".format(y_hat.size(), y_long.size()))\n",
        "      loss = objective(y_hat, y_long)\n",
        "\n",
        "      loop.set_description(\"epoch:{}, loss:{:.4f}\".format(epoch, loss.item(), accuracy))\n",
        "      loop.update(1)\n",
        "      loss.backward()\n",
        "      optimizer.step()\n",
        "    \n",
        "    if epoch % valid_frequency == 0:\n",
        "      imshow(input_img)\n",
        "  except:\n",
        "    __ITB__()\n",
        "    raise"
      ],
      "execution_count": 0,
      "outputs": []
    },
    {
      "cell_type": "code",
      "metadata": {
        "id": "DrPdgy_QtIFU",
        "colab_type": "code",
        "outputId": "338ec2b0-e864-427b-f847-51e838e23902",
        "colab": {
          "base_uri": "https://localhost:8080/",
          "height": 35
        }
      },
      "source": [
        "scope()"
      ],
      "execution_count": 0,
      "outputs": [
        {
          "output_type": "stream",
          "text": [
            "epoch:43, loss:1.9621, accuracy:0.6000:  20%|█▉        | 993/5000 [07:36<31:06,  2.15it/s]"
          ],
          "name": "stderr"
        }
      ]
    },
    {
      "cell_type": "code",
      "metadata": {
        "id": "4X4xaP2EIFLB",
        "colab_type": "code",
        "colab": {}
      },
      "source": [
        "print(train_losses)\n",
        "print(validation_losses)"
      ],
      "execution_count": 0,
      "outputs": []
    },
    {
      "cell_type": "code",
      "metadata": {
        "id": "CMeJFfEJWW6G",
        "colab_type": "code",
        "colab": {}
      },
      "source": [
        "plt.title(\"Losses\")\n",
        "plt.plot(*zip(*train_losses), label=\"Training\")\n",
        "plt.plot(*zip(*validation_losses), label=\"Validation\")\n",
        "plt.legend(loc=\"upper right\")\n",
        "plt.show()\n",
        "\n",
        "plt.plot(*zip(*train_acc), label=\"Training\")\n",
        "plt.plot(*zip(*valid_acc), label=\"Validation\")\n",
        "plt.title(\"Training accuracies\")\n",
        "plt.show()"
      ],
      "execution_count": 0,
      "outputs": []
    },
    {
      "cell_type": "code",
      "metadata": {
        "id": "g_76-Gznx55J",
        "colab_type": "code",
        "colab": {}
      },
      "source": [
        "# Save that model out.\n",
        "state = {\n",
        "    'state': model.state_dict(),\n",
        "    'optim': optimizer.state_dict(),\n",
        "    'train_losses': train_losses,\n",
        "    'train_acc': train_acc,\n",
        "    'valid_losses': validation_losses,\n",
        "    'valid_acc': valid_acc,\n",
        "}\n",
        "model_file = \"/content/gdrive/My Drive/CS474 Final Project/CustomFingerspelling/Models3/resnet50.mod\"\n",
        "torch.save(state, model_file)"
      ],
      "execution_count": 0,
      "outputs": []
    }
  ]
}