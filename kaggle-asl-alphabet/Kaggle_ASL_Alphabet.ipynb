{
  "nbformat": 4,
  "nbformat_minor": 0,
  "metadata": {
    "colab": {
      "name": "Kaggle ASL Alphabet",
      "provenance": []
    },
    "kernelspec": {
      "name": "python3",
      "display_name": "Python 3"
    }
  },
  "cells": [
    {
      "cell_type": "markdown",
      "metadata": {
        "id": "xDwJO9lsbuTv",
        "colab_type": "text"
      },
      "source": [
        "The data for this notebook comes from https://www.kaggle.com/grassknoted/asl-alphabet/data"
      ]
    },
    {
      "cell_type": "code",
      "metadata": {
        "id": "4Vhw70_FbDcp",
        "colab_type": "code",
        "outputId": "dbc71989-5a42-453f-9388-d3c9f6a42672",
        "colab": {
          "base_uri": "https://localhost:8080/",
          "height": 91
        }
      },
      "source": [
        "\"\"\"\n",
        "  1. Mount Google Drive (no need to check if already mounted, it does that for you)\n",
        "  2. \n",
        "\"\"\"\n",
        "from google.colab import drive\n",
        "drive.mount('/content/gdrive')\n",
        "\n",
        "!ls \"/content/gdrive/My Drive/CS474 Final Project/Kaggle ASL Alphabet\"\n",
        "# !unzip -q \"/content/gdrive/My Drive/CS474 Final Project/Kaggle ASL Alphabet/asl-alphabet.zip\"\n",
        "!ls\n",
        "!mv asl_alphabet_train \"gdrive/My Drive/CS474 Final Project/Kaggle ASL Alphabet/\""
      ],
      "execution_count": 0,
      "outputs": [
        {
          "output_type": "stream",
          "text": [
            "Drive already mounted at /content/gdrive; to attempt to forcibly remount, call drive.mount(\"/content/gdrive\", force_remount=True).\n",
            "asl_alphabet_test  asl-alphabet.zip\n",
            "asl_alphabet_train  gdrive  sample_data\n"
          ],
          "name": "stdout"
        }
      ]
    },
    {
      "cell_type": "markdown",
      "metadata": {
        "id": "79ynJVQYb62k",
        "colab_type": "text"
      },
      "source": [
        ""
      ]
    },
    {
      "cell_type": "code",
      "metadata": {
        "id": "kFmEB2DJOx8u",
        "colab_type": "code",
        "outputId": "01cbb8a8-1078-4e06-dede-6fe5262110b6",
        "colab": {
          "base_uri": "https://localhost:8080/",
          "height": 161
        }
      },
      "source": [
        "!ssh --version"
      ],
      "execution_count": 0,
      "outputs": [
        {
          "output_type": "stream",
          "text": [
            "unknown option -- -\r\n",
            "usage: ssh [-46AaCfGgKkMNnqsTtVvXxYy] [-b bind_address] [-c cipher_spec]\n",
            "           [-D [bind_address:]port] [-E log_file] [-e escape_char]\n",
            "           [-F configfile] [-I pkcs11] [-i identity_file]\n",
            "           [-J [user@]host[:port]] [-L address] [-l login_name] [-m mac_spec]\n",
            "           [-O ctl_cmd] [-o option] [-p port] [-Q query_option] [-R address]\n",
            "           [-S ctl_path] [-W host:port] [-w local_tun[:remote_tun]]\n",
            "           [user@]hostname [command]\n"
          ],
          "name": "stdout"
        }
      ]
    },
    {
      "cell_type": "code",
      "metadata": {
        "id": "cRWQFshiOy4M",
        "colab_type": "code",
        "outputId": "9f57c328-85da-4cef-9f28-83fb0c70991d",
        "colab": {
          "base_uri": "https://localhost:8080/",
          "height": 71
        }
      },
      "source": [
        "!ssh -o \"StrictHostKeyChecking no\" -R kaccolab:22:localhost:22 serveo.net"
      ],
      "execution_count": 0,
      "outputs": [
        {
          "output_type": "stream",
          "text": [
            "\u001b[32mForwarding SSH traffic from alias \"kaccolab\"\r\n",
            "\u001b[0mPress g to start a GUI session and ctrl-c to quit.\n",
            "connect_to localhost port 22: failed.\n"
          ],
          "name": "stdout"
        }
      ]
    },
    {
      "cell_type": "code",
      "metadata": {
        "id": "NmJosbn3c0i_",
        "colab_type": "code",
        "outputId": "4034de03-a9e9-4bad-ccd0-220ebd3f2511",
        "colab": {
          "base_uri": "https://localhost:8080/",
          "height": 118
        }
      },
      "source": [
        "import random, string, getpass\n",
        "\n",
        "password = ''.join(random.choice(string.ascii_letters + string.digits) for i in range(20))\n",
        "alias = ''.join(random.choice(string.ascii_letters + string.digits) for i in range(8))\n",
        "! echo root:$password | chpasswd\n",
        "\n",
        "! apt-get install -qq -o=Dpkg::Use-Pty=0 openssh-server pwgen > /dev/null\n",
        "! mkdir -p /var/run/sshd\n",
        "! echo \"PermitRootLogin yes\" >> /etc/ssh/sshd_config && echo \"PasswordAuthentication yes\" >> /etc/ssh/sshd_config\n",
        "! echo \"LD_LIBRARY_PATH=/usr/lib64-nvidia\" >> /root/.bashrc && echo \"export LD_LIBRARY_PATH\" >> /root/.bashrc\n",
        "get_ipython().system_raw('/usr/sbin/sshd -D &')\n",
        "\n",
        "print('sshpass -p {} ssh -o \"StrictHostKeyChecking no\" -J serveo.net root@{}'.format(password, alias))\n",
        "! ssh -o \"StrictHostKeyChecking no\" -R $alias:22:localhost:22 serveo.net"
      ],
      "execution_count": 0,
      "outputs": [
        {
          "output_type": "stream",
          "text": [
            "sshpass -p q8hNfZ5KKicPkTI4YA4Q ssh -o \"StrictHostKeyChecking no\" -J serveo.net root@goKJibVv\n",
            "\u001b[32mForwarding SSH traffic from alias \"gokjibvv\"\n",
            "\u001b[0mPress g to start a GUI session and ctrl-c to quit.\n"
          ],
          "name": "stdout"
        }
      ]
    },
    {
      "cell_type": "code",
      "metadata": {
        "id": "R_4aVfo1c2E2",
        "colab_type": "code",
        "colab": {}
      },
      "source": [
        ""
      ],
      "execution_count": 0,
      "outputs": []
    }
  ]
}