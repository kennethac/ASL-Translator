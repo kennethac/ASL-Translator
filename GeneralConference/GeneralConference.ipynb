{
  "nbformat": 4,
  "nbformat_minor": 0,
  "metadata": {
    "colab": {
      "name": "GeneralConference.ipynb",
      "provenance": [],
      "include_colab_link": true
    },
    "kernelspec": {
      "name": "python3",
      "display_name": "Python 3"
    }
  },
  "cells": [
    {
      "cell_type": "markdown",
      "metadata": {
        "id": "view-in-github",
        "colab_type": "text"
      },
      "source": [
        "<a href=\"https://colab.research.google.com/github/webMan1/ASL-Translator/blob/master/GeneralConference/GeneralConference.ipynb\" target=\"_parent\"><img src=\"https://colab.research.google.com/assets/colab-badge.svg\" alt=\"Open In Colab\"/></a>"
      ]
    },
    {
      "cell_type": "markdown",
      "metadata": {
        "id": "te3Bjkwhe2Ue",
        "colab_type": "text"
      },
      "source": [
        "This notebook uses data scraped from the churchofjesuschrist.org website with ASL language general conference talks."
      ]
    },
    {
      "cell_type": "code",
      "metadata": {
        "id": "2uPsFv-ccwAQ",
        "colab_type": "code",
        "outputId": "b83d0f45-96fc-4953-8005-50819959f29b",
        "colab": {
          "base_uri": "https://localhost:8080/",
          "height": 80
        }
      },
      "source": [
        "!curl -o gc.zip https://students.cs.byu.edu/~kac1995/gc.zip"
      ],
      "execution_count": 0,
      "outputs": [
        {
          "output_type": "stream",
          "text": [
            "  % Total    % Received % Xferd  Average Speed   Time    Time     Time  Current\n",
            "                                 Dload  Upload   Total   Spent    Left  Speed\n",
            "  4 5072M    4  214M    0     0  4721k      0  0:18:20  0:00:46  0:17:34 7608k"
          ],
          "name": "stdout"
        }
      ]
    },
    {
      "cell_type": "code",
      "metadata": {
        "id": "cN_UowwLoUzV",
        "colab_type": "code",
        "colab": {
          "base_uri": "https://localhost:8080/",
          "height": 188
        },
        "outputId": "59841339-8474-48c9-9235-79b176918fb6"
      },
      "source": [
        ""
      ],
      "execution_count": 0,
      "outputs": [
        {
          "output_type": "stream",
          "text": [
            "bash: cannot set terminal process group (126): Inappropriate ioctl for device\n",
            "bash: no job control in this shell\n",
            "\u001b]0;root@0995282122a9: /content\u0007\u001b[01;32mroot@0995282122a9\u001b[00m:\u001b[01;34m/content\u001b[00m# ls\n",
            "\u001b[0m\u001b[01;31mgc.zip\u001b[0m  \u001b[01;34msample_data\u001b[0m\n",
            "\u001b]0;root@0995282122a9: /content\u0007\u001b[01;32mroot@0995282122a9\u001b[00m:\u001b[01;34m/content\u001b[00m# rm gc.zip\n",
            "\u001b]0;root@0995282122a9: /content\u0007\u001b[01;32mroot@0995282122a9\u001b[00m:\u001b[01;34m/content\u001b[00m# ls\n",
            "\u001b[0m\u001b[01;34msample_data\u001b[0m\n",
            "\u001b]0;root@0995282122a9: /content\u0007\u001b[01;32mroot@0995282122a9\u001b[00m:\u001b[01;34m/content\u001b[00m# "
          ],
          "name": "stdout"
        }
      ]
    }
  ]
}