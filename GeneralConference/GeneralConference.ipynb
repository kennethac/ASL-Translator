{
  "nbformat": 4,
  "nbformat_minor": 0,
  "metadata": {
    "colab": {
      "name": "GeneralConference.ipynb",
      "provenance": []
    },
    "kernelspec": {
      "name": "python3",
      "display_name": "Python 3"
    }
  },
  "cells": [
    {
      "cell_type": "markdown",
      "metadata": {
        "id": "te3Bjkwhe2Ue",
        "colab_type": "text"
      },
      "source": [
        "This notebook uses data scraped from the churchofjesuschrist.org website with ASL language general conference talks."
      ]
    },
    {
      "cell_type": "code",
      "metadata": {
        "id": "2uPsFv-ccwAQ",
        "colab_type": "code",
        "outputId": "1959927e-8194-4d27-fce9-6b76e61ec559",
        "colab": {
          "base_uri": "https://localhost:8080/",
          "height": 71
        }
      },
      "source": [
        "!curl -o gc.zip https://students.cs.byu.edu/~kac1995/2000.zip"
      ],
      "execution_count": 4,
      "outputs": [
        {
          "output_type": "stream",
          "text": [
            "  % Total    % Received % Xferd  Average Speed   Time    Time     Time  Current\n",
            "                                 Dload  Upload   Total   Spent    Left  Speed\n",
            "100 1307M  100 1307M    0     0  4485k      0  0:04:58  0:04:58 --:--:-- 6937k\n"
          ],
          "name": "stdout"
        }
      ]
    },
    {
      "cell_type": "code",
      "metadata": {
        "id": "oOllGGoO0edW",
        "colab_type": "code",
        "colab": {
          "base_uri": "https://localhost:8080/",
          "height": 127
        },
        "outputId": "e94e0ea5-1688-43a3-9ca2-9f07a8cab815"
      },
      "source": [
        "\"\"\"\n",
        "  1. Mount Google Drive (no need to check if already mounted, it does that for you)\n",
        "  2. \n",
        "\"\"\"\n",
        "from google.colab import drive\n",
        "drive.mount('/content/gdrive')"
      ],
      "execution_count": 5,
      "outputs": [
        {
          "output_type": "stream",
          "text": [
            "Go to this URL in a browser: https://accounts.google.com/o/oauth2/auth?client_id=947318989803-6bn6qk8qdgf4n4g3pfee6491hc0brc4i.apps.googleusercontent.com&redirect_uri=urn%3aietf%3awg%3aoauth%3a2.0%3aoob&response_type=code&scope=email%20https%3a%2f%2fwww.googleapis.com%2fauth%2fdocs.test%20https%3a%2f%2fwww.googleapis.com%2fauth%2fdrive%20https%3a%2f%2fwww.googleapis.com%2fauth%2fdrive.photos.readonly%20https%3a%2f%2fwww.googleapis.com%2fauth%2fpeopleapi.readonly\n",
            "\n",
            "Enter your authorization code:\n",
            "··········\n",
            "Mounted at /content/gdrive\n"
          ],
          "name": "stdout"
        }
      ]
    },
    {
      "cell_type": "code",
      "metadata": {
        "id": "kPYkGq9k0nZx",
        "colab_type": "code",
        "colab": {}
      },
      "source": [
        "!mv gc.zip \"/content/gdrive/My Drive/CS474 Final Project/GC/2000.zip\""
      ],
      "execution_count": 0,
      "outputs": []
    },
    {
      "cell_type": "code",
      "metadata": {
        "id": "cN_UowwLoUzV",
        "colab_type": "code",
        "outputId": "a794d982-bb6f-4722-b77f-c8fb89dfd2a3",
        "colab": {
          "base_uri": "https://localhost:8080/",
          "height": 593
        }
      },
      "source": [
        "!ls \"/c\""
      ],
      "execution_count": 3,
      "outputs": [
        {
          "output_type": "stream",
          "text": [
            "bash: cannot set terminal process group (127): Inappropriate ioctl for device\n",
            "bash: no job control in this shell\n",
            "\u001b]0;root@02b0e8d474c8: /content\u0007\u001b[01;32mroot@02b0e8d474c8\u001b[00m:\u001b[01;34m/content\u001b[00m# ls\n",
            "\u001b[0m\u001b[01;31mgc.zip\u001b[0m  \u001b[01;34msample_data\u001b[0m\n",
            "\u001b]0;root@02b0e8d474c8: /content\u0007\u001b[01;32mroot@02b0e8d474c8\u001b[00m:\u001b[01;34m/content\u001b[00m# ls -al\n",
            "total 20\n",
            "drwxr-xr-x 1 root root 4096 Dec  3 21:59 \u001b[0m\u001b[01;34m.\u001b[0m\n",
            "drwxr-xr-x 1 root root 4096 Dec  3 21:50 \u001b[01;34m..\u001b[0m\n",
            "drwxr-xr-x 1 root root 4096 Nov 21 16:30 \u001b[01;34m.config\u001b[0m\n",
            "-rw-r--r-- 1 root root  282 Dec  3 22:00 \u001b[01;31mgc.zip\u001b[0m\n",
            "drwxr-xr-x 1 root root 4096 Nov 21 16:30 \u001b[01;34msample_data\u001b[0m\n",
            "\u001b]0;root@02b0e8d474c8: /content\u0007\u001b[01;32mroot@02b0e8d474c8\u001b[00m:\u001b[01;34m/content\u001b[00m# ls !-alh\n",
            "bash: !-alh: event not found\n",
            "\u001b]0;root@02b0e8d474c8: /content\u0007\u001b[01;32mroot@02b0e8d474c8\u001b[00m:\u001b[01;34m/content\u001b[00m# ls -alh\n",
            "total 20K\n",
            "drwxr-xr-x 1 root root 4.0K Dec  3 21:59 \u001b[0m\u001b[01;34m.\u001b[0m\n",
            "drwxr-xr-x 1 root root 4.0K Dec  3 21:50 \u001b[01;34m..\u001b[0m\n",
            "drwxr-xr-x 1 root root 4.0K Nov 21 16:30 \u001b[01;34m.config\u001b[0m\n",
            "-rw-r--r-- 1 root root  282 Dec  3 22:00 \u001b[01;31mgc.zip\u001b[0m\n",
            "drwxr-xr-x 1 root root 4.0K Nov 21 16:30 \u001b[01;34msample_data\u001b[0m\n",
            "\u001b]0;root@02b0e8d474c8: /content\u0007\u001b[01;32mroot@02b0e8d474c8\u001b[00m:\u001b[01;34m/content\u001b[00m# cat gc.zip\n",
            "<!DOCTYPE HTML PUBLIC \"-//IETF//DTD HTML 2.0//EN\">\n",
            "<html><head>\n",
            "<title>404 Not Found</title>\n",
            "</head><body>\n",
            "<h1>Not Found</h1>\n",
            "<p>The requested URL was not found on this server.</p>\n",
            "<hr>\n",
            "<address>Apache/2.4.29 (Ubuntu) Server at students.cs.byu.edu Port 443</address>\n",
            "</body></html>\n",
            "\u001b]0;root@02b0e8d474c8: /content\u0007\u001b[01;32mroot@02b0e8d474c8\u001b[00m:\u001b[01;34m/content\u001b[00m# exit\n",
            "exit\n"
          ],
          "name": "stdout"
        }
      ]
    },
    {
      "cell_type": "code",
      "metadata": {
        "id": "RgCsZW09x0rO",
        "colab_type": "code",
        "colab": {}
      },
      "source": [
        ""
      ],
      "execution_count": 0,
      "outputs": []
    }
  ]
}