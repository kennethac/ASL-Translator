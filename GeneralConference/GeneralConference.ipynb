{
  "nbformat": 4,
  "nbformat_minor": 0,
  "metadata": {
    "colab": {
      "name": "GeneralConference.ipynb",
      "provenance": [],
      "machine_shape": "hm"
    },
    "kernelspec": {
      "name": "python3",
      "display_name": "Python 3"
    },
    "accelerator": "GPU"
  },
  "cells": [
    {
      "cell_type": "markdown",
      "metadata": {
        "id": "te3Bjkwhe2Ue",
        "colab_type": "text"
      },
      "source": [
        "This notebook uses data scraped from the churchofjesuschrist.org website with ASL language general conference talks."
      ]
    },
    {
      "cell_type": "code",
      "metadata": {
        "id": "2uPsFv-ccwAQ",
        "colab_type": "code",
        "colab": {}
      },
      "source": [
        "# !curl -o gc.zip https://students.cs.byu.edu/~kac1995/2000.zip"
      ],
      "execution_count": 0,
      "outputs": []
    },
    {
      "cell_type": "code",
      "metadata": {
        "id": "oOllGGoO0edW",
        "colab_type": "code",
        "outputId": "2997e8fe-d668-4fc3-dd0c-bb9cd729046b",
        "colab": {
          "base_uri": "https://localhost:8080/",
          "height": 35
        }
      },
      "source": [
        "\"\"\"\n",
        "  1. Mount Google Drive (no need to check if already mounted, it does that for you)\n",
        "  2. \n",
        "\"\"\"\n",
        "from google.colab import drive\n",
        "drive.mount('/content/gdrive')"
      ],
      "execution_count": 1,
      "outputs": [
        {
          "output_type": "stream",
          "text": [
            "Drive already mounted at /content/gdrive; to attempt to forcibly remount, call drive.mount(\"/content/gdrive\", force_remount=True).\n"
          ],
          "name": "stdout"
        }
      ]
    },
    {
      "cell_type": "code",
      "metadata": {
        "id": "kPYkGq9k0nZx",
        "colab_type": "code",
        "colab": {}
      },
      "source": [
        "!rm -rf \"/content/gc\"\n",
        "!unzip \"/content/gdrive/My Drive/CS474 Final Project/GC/2000.zip\" > /dev/null\n",
        "!mv \"/content/users/guest/k/kac1995/dev/CS474-General-Conference-Downloader/gc\" \"/content/gc\""
      ],
      "execution_count": 0,
      "outputs": []
    },
    {
      "cell_type": "code",
      "metadata": {
        "id": "cN_UowwLoUzV",
        "colab_type": "code",
        "colab": {}
      },
      "source": [
        "# root directory has a structure like \"year/month/talk/[video|text]\"\n",
        "root_dir = \"/content/gc\""
      ],
      "execution_count": 0,
      "outputs": []
    },
    {
      "cell_type": "code",
      "metadata": {
        "id": "ZgRirH6MHIbf",
        "colab_type": "code",
        "outputId": "d1e0c533-b78f-4065-cbbf-7d8f2de5a3b0",
        "colab": {
          "base_uri": "https://localhost:8080/",
          "height": 1000
        }
      },
      "source": [
        "!pip3 install torch\n",
        "!pip3 install torchvision\n",
        "!pip3 install tqdm\n",
        "!sudo apt install libavdevice-dev libavfilter-dev > /dev/null # Required to get av to install\n",
        "!pip3 install av # Required for torchvision to work with videos.\n",
        "!pip install torchtext spacy\n",
        "!python -m spacy download en\n",
        "!pip3 install gensim"
      ],
      "execution_count": 2,
      "outputs": [
        {
          "output_type": "stream",
          "text": [
            "Requirement already satisfied: torch in /usr/local/lib/python3.6/dist-packages (1.3.1)\n",
            "Requirement already satisfied: numpy in /usr/local/lib/python3.6/dist-packages (from torch) (1.17.4)\n",
            "Requirement already satisfied: torchvision in /usr/local/lib/python3.6/dist-packages (0.4.2)\n",
            "Requirement already satisfied: six in /usr/local/lib/python3.6/dist-packages (from torchvision) (1.12.0)\n",
            "Requirement already satisfied: numpy in /usr/local/lib/python3.6/dist-packages (from torchvision) (1.17.4)\n",
            "Requirement already satisfied: torch==1.3.1 in /usr/local/lib/python3.6/dist-packages (from torchvision) (1.3.1)\n",
            "Requirement already satisfied: pillow>=4.1.1 in /usr/local/lib/python3.6/dist-packages (from torchvision) (4.3.0)\n",
            "Requirement already satisfied: olefile in /usr/local/lib/python3.6/dist-packages (from pillow>=4.1.1->torchvision) (0.46)\n",
            "Requirement already satisfied: tqdm in /usr/local/lib/python3.6/dist-packages (4.28.1)\n",
            "\n",
            "WARNING: apt does not have a stable CLI interface. Use with caution in scripts.\n",
            "\n",
            "Requirement already satisfied: av in /usr/local/lib/python3.6/dist-packages (6.2.0)\n",
            "Requirement already satisfied: torchtext in /usr/local/lib/python3.6/dist-packages (0.3.1)\n",
            "Requirement already satisfied: spacy in /usr/local/lib/python3.6/dist-packages (2.1.9)\n",
            "Requirement already satisfied: requests in /usr/local/lib/python3.6/dist-packages (from torchtext) (2.21.0)\n",
            "Requirement already satisfied: numpy in /usr/local/lib/python3.6/dist-packages (from torchtext) (1.17.4)\n",
            "Requirement already satisfied: tqdm in /usr/local/lib/python3.6/dist-packages (from torchtext) (4.28.1)\n",
            "Requirement already satisfied: torch in /usr/local/lib/python3.6/dist-packages (from torchtext) (1.3.1)\n",
            "Requirement already satisfied: preshed<2.1.0,>=2.0.1 in /usr/local/lib/python3.6/dist-packages (from spacy) (2.0.1)\n",
            "Requirement already satisfied: wasabi<1.1.0,>=0.2.0 in /usr/local/lib/python3.6/dist-packages (from spacy) (0.4.2)\n",
            "Requirement already satisfied: srsly<1.1.0,>=0.0.6 in /usr/local/lib/python3.6/dist-packages (from spacy) (0.2.0)\n",
            "Requirement already satisfied: cymem<2.1.0,>=2.0.2 in /usr/local/lib/python3.6/dist-packages (from spacy) (2.0.3)\n",
            "Requirement already satisfied: plac<1.0.0,>=0.9.6 in /usr/local/lib/python3.6/dist-packages (from spacy) (0.9.6)\n",
            "Requirement already satisfied: thinc<7.1.0,>=7.0.8 in /usr/local/lib/python3.6/dist-packages (from spacy) (7.0.8)\n",
            "Requirement already satisfied: blis<0.3.0,>=0.2.2 in /usr/local/lib/python3.6/dist-packages (from spacy) (0.2.4)\n",
            "Requirement already satisfied: murmurhash<1.1.0,>=0.28.0 in /usr/local/lib/python3.6/dist-packages (from spacy) (1.0.2)\n",
            "Requirement already satisfied: chardet<3.1.0,>=3.0.2 in /usr/local/lib/python3.6/dist-packages (from requests->torchtext) (3.0.4)\n",
            "Requirement already satisfied: idna<2.9,>=2.5 in /usr/local/lib/python3.6/dist-packages (from requests->torchtext) (2.8)\n",
            "Requirement already satisfied: urllib3<1.25,>=1.21.1 in /usr/local/lib/python3.6/dist-packages (from requests->torchtext) (1.24.3)\n",
            "Requirement already satisfied: certifi>=2017.4.17 in /usr/local/lib/python3.6/dist-packages (from requests->torchtext) (2019.11.28)\n",
            "Requirement already satisfied: en_core_web_sm==2.1.0 from https://github.com/explosion/spacy-models/releases/download/en_core_web_sm-2.1.0/en_core_web_sm-2.1.0.tar.gz#egg=en_core_web_sm==2.1.0 in /usr/local/lib/python3.6/dist-packages (2.1.0)\n",
            "\u001b[38;5;2m✔ Download and installation successful\u001b[0m\n",
            "You can now load the model via spacy.load('en_core_web_sm')\n",
            "\u001b[38;5;2m✔ Linking successful\u001b[0m\n",
            "/usr/local/lib/python3.6/dist-packages/en_core_web_sm -->\n",
            "/usr/local/lib/python3.6/dist-packages/spacy/data/en\n",
            "You can now load the model via spacy.load('en')\n",
            "Requirement already satisfied: gensim in /usr/local/lib/python3.6/dist-packages (3.6.0)\n",
            "Requirement already satisfied: numpy>=1.11.3 in /usr/local/lib/python3.6/dist-packages (from gensim) (1.17.4)\n",
            "Requirement already satisfied: six>=1.5.0 in /usr/local/lib/python3.6/dist-packages (from gensim) (1.12.0)\n",
            "Requirement already satisfied: scipy>=0.18.1 in /usr/local/lib/python3.6/dist-packages (from gensim) (1.3.3)\n",
            "Requirement already satisfied: smart-open>=1.2.1 in /usr/local/lib/python3.6/dist-packages (from gensim) (1.9.0)\n",
            "Requirement already satisfied: boto3 in /usr/local/lib/python3.6/dist-packages (from smart-open>=1.2.1->gensim) (1.10.36)\n",
            "Requirement already satisfied: boto>=2.32 in /usr/local/lib/python3.6/dist-packages (from smart-open>=1.2.1->gensim) (2.49.0)\n",
            "Requirement already satisfied: requests in /usr/local/lib/python3.6/dist-packages (from smart-open>=1.2.1->gensim) (2.21.0)\n",
            "Requirement already satisfied: s3transfer<0.3.0,>=0.2.0 in /usr/local/lib/python3.6/dist-packages (from boto3->smart-open>=1.2.1->gensim) (0.2.1)\n",
            "Requirement already satisfied: botocore<1.14.0,>=1.13.36 in /usr/local/lib/python3.6/dist-packages (from boto3->smart-open>=1.2.1->gensim) (1.13.36)\n",
            "Requirement already satisfied: jmespath<1.0.0,>=0.7.1 in /usr/local/lib/python3.6/dist-packages (from boto3->smart-open>=1.2.1->gensim) (0.9.4)\n",
            "Requirement already satisfied: certifi>=2017.4.17 in /usr/local/lib/python3.6/dist-packages (from requests->smart-open>=1.2.1->gensim) (2019.11.28)\n",
            "Requirement already satisfied: urllib3<1.25,>=1.21.1 in /usr/local/lib/python3.6/dist-packages (from requests->smart-open>=1.2.1->gensim) (1.24.3)\n",
            "Requirement already satisfied: chardet<3.1.0,>=3.0.2 in /usr/local/lib/python3.6/dist-packages (from requests->smart-open>=1.2.1->gensim) (3.0.4)\n",
            "Requirement already satisfied: idna<2.9,>=2.5 in /usr/local/lib/python3.6/dist-packages (from requests->smart-open>=1.2.1->gensim) (2.8)\n",
            "Requirement already satisfied: docutils<0.16,>=0.10 in /usr/local/lib/python3.6/dist-packages (from botocore<1.14.0,>=1.13.36->boto3->smart-open>=1.2.1->gensim) (0.15.2)\n",
            "Requirement already satisfied: python-dateutil<2.8.1,>=2.1; python_version >= \"2.7\" in /usr/local/lib/python3.6/dist-packages (from botocore<1.14.0,>=1.13.36->boto3->smart-open>=1.2.1->gensim) (2.6.1)\n"
          ],
          "name": "stdout"
        }
      ]
    },
    {
      "cell_type": "code",
      "metadata": {
        "id": "8p_UyQQ2HI4d",
        "colab_type": "code",
        "colab": {}
      },
      "source": [
        "import torch\n",
        "import torch.nn as nn\n",
        "import torch.nn.functional as F\n",
        "import torch.optim as optim\n",
        "from torch.utils.data import Dataset, DataLoader\n",
        "import torchvision\n",
        "from torchvision import transforms, utils, datasets\n",
        "import numpy as np\n",
        "import matplotlib.pyplot as plt\n",
        "from tqdm import tqdm\n",
        "import random\n",
        "import torchtext\n",
        "import spacy\n",
        "import gc\n",
        "import os\n",
        "import math\n",
        "import av\n",
        "import re\n",
        "import gensim.downloader as gensim_api\n",
        "from IPython.core.ultratb import AutoFormattedTB\n",
        "from torch.utils.data.sampler import SubsetRandomSampler\n",
        "\n",
        "__ITB__ = AutoFormattedTB(mode = 'Verbose',color_scheme='LightBg', tb_offset = 1)\n",
        "\n",
        "assert torch.cuda.is_available(), \"You need to request a GPU from Runtime > Change Runtime\""
      ],
      "execution_count": 0,
      "outputs": []
    },
    {
      "cell_type": "code",
      "metadata": {
        "id": "_FkduX1Wv_eK",
        "colab_type": "code",
        "outputId": "cc39c6f5-c8f6-400f-ed8f-5c9cafb745da",
        "colab": {
          "base_uri": "https://localhost:8080/",
          "height": 53
        }
      },
      "source": [
        "!pip install gputil\n",
        "import GPUtil as GPU\n",
        "\n",
        "def clean():\n",
        "  gc.collect()\n",
        "  torch.cuda.empty_cache()\n",
        "\n",
        "def check_gpu():\n",
        "  GPUs = GPU.getGPUs()\n",
        "  gpu = GPUs[0]\n",
        "  print(\"GPU RAM Free: {0:.0f}MB | Used: {1:.0f}MB | Util {2:3.0f}% | Total {3:.0f}MB\".format(gpu.memoryFree, gpu.memoryUsed, gpu.memoryUtil*100, gpu.memoryTotal))\n",
        "\n",
        "clean()\n",
        "check_gpu()"
      ],
      "execution_count": 4,
      "outputs": [
        {
          "output_type": "stream",
          "text": [
            "Requirement already satisfied: gputil in /usr/local/lib/python3.6/dist-packages (1.4.0)\n",
            "GPU RAM Free: 16270MB | Used: 10MB | Util   0% | Total 16280MB\n"
          ],
          "name": "stdout"
        }
      ]
    },
    {
      "cell_type": "code",
      "metadata": {
        "id": "pNvOPp1Jol5K",
        "colab_type": "code",
        "outputId": "21b58c5c-db61-41b8-ef6d-bdf70d9be34b",
        "colab": {
          "base_uri": "https://localhost:8080/",
          "height": 73
        }
      },
      "source": [
        "model_glove_wikipedia = gensim_api.load(\"glove-wiki-gigaword-100\")\n"
      ],
      "execution_count": 5,
      "outputs": [
        {
          "output_type": "stream",
          "text": [
            "/usr/local/lib/python3.6/dist-packages/smart_open/smart_open_lib.py:402: UserWarning: This function is deprecated, use smart_open.open instead. See the migration notes for details: https://github.com/RaRe-Technologies/smart_open/blob/master/README.rst#migrating-to-the-new-open-function\n",
            "  'See the migration notes for details: %s' % _MIGRATION_NOTES_URL\n"
          ],
          "name": "stderr"
        }
      ]
    },
    {
      "cell_type": "code",
      "metadata": {
        "id": "FDfXDVZUplq_",
        "colab_type": "code",
        "colab": {}
      },
      "source": [
        "embedding_length = len(model_glove_wikipedia[\"jesus\"])"
      ],
      "execution_count": 0,
      "outputs": []
    },
    {
      "cell_type": "code",
      "metadata": {
        "id": "gO0RMpJBKLAS",
        "colab_type": "code",
        "colab": {}
      },
      "source": [
        "sample_minutes = 1\n",
        "fps = 10\n",
        "sample_frames = sample_minutes * 60 * fps\n",
        "\n",
        "text_replacements = {\n",
        "    # end of paragraphs that may not have been done correctly\n",
        "    '\\.([^ ])': \". \\\\1\",\n",
        "    \"\\!([^ ])\": \"! \\\\1\",\n",
        "    \"\\?([^ ])\": \"? \\\\1\",\n",
        "    \"\\:([^ ])\": \": \\\\1\",\n",
        "    \n",
        "    # Some unicode chars that I know of\n",
        "    u\"\\u201c\": '\"',\n",
        "    u\"\\u201d\": '\"',\n",
        "    u\"\\u2018\": \"'\",\n",
        "    u\"\\u2019\": \"'\",\n",
        "    \"  +\": \" \"\n",
        "}\n",
        "\n",
        "class GeneralConferenceDataset(Dataset):\n",
        "  def __init__(self, root=root_dir, video_file=\"frames.mp4\", text_file=\"text.txt\", frames_per_item=sample_frames):\n",
        "    self.root_dir = root\n",
        "    self.video_file = video_file\n",
        "    self.text_file = text_file\n",
        "    self.frames_per_item = frames_per_item\n",
        "    self.years = self._discover_folders(root_dir)\n",
        "    self.months = self._discover_folders(self.years)\n",
        "    self.talks = self._discover_folders(self.months)\n",
        "    self.tokenizer = spacy.load('en').tokenizer\n",
        "    self.transforms = torchvision.transforms.Compose([\n",
        "        torchvision.transforms.Lambda(lambda img: img.transpose(0, 2)),\n",
        "        torchvision.transforms.ToPILImage(),\n",
        "        torchvision.transforms.Resize(224),                \n",
        "        torchvision.transforms.CenterCrop(224),\n",
        "        torchvision.transforms.ToTensor()\n",
        "    ])\n",
        "\n",
        "  def _discover_folders(self, parent):\n",
        "    if type(parent) != list: # we're gonna flatten lists, so this makes that easier\n",
        "      parent = [parent]\n",
        "    return [os.path.join(p, d.name) for p in parent for d in os.scandir(p) if d.is_dir()]\n",
        "\n",
        "  def _load_text(self, talk_dir, video_frames):\n",
        "    \"\"\"\n",
        "    Loads the text in the given talk as a list of word2vec vectors.\n",
        "\n",
        "    However, it does this by assuming that the temporal length is best measured by the number of word pieces, not the number of characters or english words\n",
        "    This is an assumption that we'll need to revisit in the future.\n",
        "    \"\"\"\n",
        "    with open(os.path.join(talk_dir, self.text_file), 'r') as f:\n",
        "      talk_text = f.read().lower()\n",
        "\n",
        "      # Because of the way that I downloaded the data, we need to separate sentences and replace crappy apostrophes.\n",
        "      for key in text_replacements:\n",
        "        talk_text = re.sub(key, text_replacements[key], talk_text)\n",
        "      \n",
        "      tokens = self.tokenizer(talk_text)\n",
        "      num_tokens = len(tokens)\n",
        "      desired_length = math.ceil((self.frames_per_item / video_frames) * num_tokens)\n",
        "      start_token = random.randint(0, num_tokens - desired_length)\n",
        "\n",
        "      token_sample = tokens[start_token:start_token + desired_length]\n",
        "      return token_sample\n",
        "\n",
        "  def __getitem__(self, index):\n",
        "    \"\"\"\n",
        "      Returns a random sample of the video at index, and the text we hope that it represents.\n",
        "    \"\"\"\n",
        "    # Load the video and get a sample of the frames. Video is of size [num_frames, h, w, c]\n",
        "    talk_dir = self.talks[index]\n",
        "    video, _, meta = torchvision.io.video.read_video(os.path.join(talk_dir, self.video_file), pts_unit=\"sec\", start_pts=5.0)\n",
        "    num_frames = video.size(0)\n",
        "    length = self.frames_per_item\n",
        "    start_frame = random.randint( 0, num_frames - length )\n",
        "    frame_sample = video[start_frame:start_frame + length]\n",
        "\n",
        "    # Apply some transforms to the frames (but the same transform for every frame in video)\n",
        "    frame_sample = torch.stack([self.transforms(i) for i in frame_sample])\n",
        "\n",
        "    # Now get a chunk of text of hopefully comparable spot.\n",
        "    text_sample = self._load_text(talk_dir, num_frames)\n",
        "    return frame_sample, text_sample\n",
        "\n",
        "  def __len__(self):\n",
        "    return len(self.talks)"
      ],
      "execution_count": 0,
      "outputs": []
    },
    {
      "cell_type": "code",
      "metadata": {
        "id": "W6HE1Qu6Nrme",
        "colab_type": "code",
        "colab": {}
      },
      "source": [
        "dataset = GeneralConferenceDataset()"
      ],
      "execution_count": 0,
      "outputs": []
    },
    {
      "cell_type": "code",
      "metadata": {
        "id": "X1AafyhsgGcd",
        "colab_type": "code",
        "colab": {}
      },
      "source": [
        "def imshow(inp, title=None):\n",
        "    \"\"\"Imshow for Tensor.\"\"\"\n",
        "    inp = inp.numpy().transpose((2, 1, 0))\n",
        "    # mean = np.array([0.485, 0.456, 0.406])\n",
        "    # std = np.array([0.229, 0.224, 0.225])\n",
        "    # inp = std * inp + mean\n",
        "    # inp = np.clip(inp, 0, 1)\n",
        "    plt.imshow(inp)\n",
        "    if title is not None:\n",
        "        plt.title(title)\n",
        "    plt.pause(0.001)  # pause a bit so that plots are updated"
      ],
      "execution_count": 0,
      "outputs": []
    },
    {
      "cell_type": "code",
      "metadata": {
        "id": "0ww24TWKNlCH",
        "colab_type": "code",
        "colab": {}
      },
      "source": [
        "class GeneralConferenceModel(nn.Module):\n",
        "  def __init__(self):\n",
        "    super(GeneralConferenceModel, self).__init__()\n",
        "    self.feature_extracter = torchvision.models.resnet50(pretrained=True)\n",
        "    for param in self.feature_extracter.parameters():\n",
        "      param.requires_grad = False\n",
        "    num_f = self.feature_extracter.fc.in_features\n",
        "    self.feature_extracter.fc = nn.Linear(num_f, 100)\n",
        "\n",
        "    self.net = nn.LSTM(input_size=100, hidden_size=100, num_layers=2, batch_first=True) # Parameters should be tweaked, probably\n",
        "\n",
        "  def forward(self, frames, hidden=None, num_chunks=20):\n",
        "    # Extract features\n",
        "    # print('Entering foward method:',frames.size())\n",
        "    chunk_size = len(frames) // num_chunks\n",
        "    features = []\n",
        "    for i in range(num_chunks):\n",
        "      frame_piece = frames[i*chunk_size:(i+1)*chunk_size]\n",
        "      frame_piece = frame_piece.cuda()\n",
        "      f = self.feature_extracter(frame_piece)\n",
        "      features.append(f)\n",
        "      frame_piece = frame_piece.cpu()\n",
        "    frame_features = torch.cat(features, dim=0)\n",
        "    # print('Features have been extracted:',frame_features.size())\n",
        "    # LSTM expects them with shape (batch, time_sequence, input_size)\n",
        "    frame_features = frame_features.unsqueeze(0)\n",
        "    embeddings, hidden = self.net(frame_features, hidden)\n",
        "    # print('Embeddings generated:',embeddings.size())\n",
        "    return embeddings, hidden"
      ],
      "execution_count": 0,
      "outputs": []
    },
    {
      "cell_type": "code",
      "metadata": {
        "id": "Kl3ELFRic6SK",
        "colab_type": "code",
        "colab": {}
      },
      "source": [
        "def translate_emb(embeddings):\n",
        "  results = []\n",
        "  for e in embeddings.numpy():\n",
        "    top_choices = model_glove_wikipedia.similar_by_vector(e)\n",
        "    words, weights = zip(*top_choices)\n",
        "    weights = np.asarray(weights)\n",
        "    weights /= np.sum(weights)\n",
        "    word = np.random.choice(words, p=weights)\n",
        "    results.append(word)\n",
        "  return results"
      ],
      "execution_count": 0,
      "outputs": []
    },
    {
      "cell_type": "code",
      "metadata": {
        "id": "8w5VJJINXSWA",
        "colab_type": "code",
        "colab": {}
      },
      "source": [
        "def make_emb(tokens):\n",
        "  # tokenizer = spacy.load('en').tokenizer\n",
        "  return [ model_glove_wikipedia[i] for i in tokens]"
      ],
      "execution_count": 0,
      "outputs": []
    },
    {
      "cell_type": "code",
      "metadata": {
        "id": "UGtAXxn2Yg79",
        "colab_type": "code",
        "colab": {
          "base_uri": "https://localhost:8080/",
          "height": 35
        },
        "outputId": "ce7a8095-b76a-4819-c904-087ceac6e4e7"
      },
      "source": [
        "tokenizer2 = spacy.load('en').tokenizer\n",
        "ts2 = tokenizer2(\"I'm going to be a dad.\".lower())\n",
        "# [ model_glove_wikipedia[i] for i in ts2 ]\n",
        "torch.stack([torch.tensor(model_glove_wikipedia[str(i)]) for i in ts2]).size()"
      ],
      "execution_count": 13,
      "outputs": [
        {
          "output_type": "execute_result",
          "data": {
            "text/plain": [
              "torch.Size([8, 100])"
            ]
          },
          "metadata": {
            "tags": []
          },
          "execution_count": 13
        }
      ]
    },
    {
      "cell_type": "code",
      "metadata": {
        "id": "z_dSy1KMN7-2",
        "colab_type": "code",
        "outputId": "40d212c9-ab00-4faa-a7ed-ef0bfb74138e",
        "colab": {
          "base_uri": "https://localhost:8080/",
          "height": 53
        }
      },
      "source": [
        "# clean() and check_gpu() are located at the bottom of the notebook\n",
        "check_gpu()\n",
        "clean()\n",
        "model = GeneralConferenceModel()\n",
        "model = model.cuda()\n",
        "optimizer = optim.Adam(model.parameters(), lr=0.0001)\n",
        "check_gpu()"
      ],
      "execution_count": 14,
      "outputs": [
        {
          "output_type": "stream",
          "text": [
            "GPU RAM Free: 16270MB | Used: 10MB | Util   0% | Total 16280MB\n",
            "GPU RAM Free: 15439MB | Used: 841MB | Util   5% | Total 16280MB\n"
          ],
          "name": "stdout"
        }
      ]
    },
    {
      "cell_type": "code",
      "metadata": {
        "id": "fQc0XggNVTUg",
        "colab_type": "code",
        "colab": {}
      },
      "source": [
        "class EmbeddingLookupModule(nn.Module):\n",
        "  def forward(self, l):\n",
        "    l = l.int().numpy()\n",
        "    # print(type(l))\n",
        "    # print(\"l size: {}\".format(l.shape))\n",
        "    res = torch.tensor(embeddings[l]).float().transpose(0,1)\n",
        "    # print(\"Looked up size: {}\".format(res.size()))\n",
        "    return res.cuda()"
      ],
      "execution_count": 0,
      "outputs": []
    },
    {
      "cell_type": "code",
      "metadata": {
        "id": "AXcgjeC8VM8G",
        "colab_type": "code",
        "colab": {}
      },
      "source": [
        "\n",
        "fat_grader = nn.Sequential(\n",
        "    EmbeddingLookupModule(),\n",
        "    nn.LSTM(input_size=100, hidden_size=200)\n",
        ")"
      ],
      "execution_count": 0,
      "outputs": []
    },
    {
      "cell_type": "code",
      "metadata": {
        "id": "gQc2I6amuySc",
        "colab_type": "code",
        "colab": {}
      },
      "source": [
        "# load siamese lstm\n",
        "grader = nn.LSTM(input_size=100, hidden_size=200)\n",
        "# grader = grader.load()\n",
        "grader = grader.cuda().eval()\n",
        "objective = nn.MSELoss()\n",
        "def compute_manhattan(h1, h2):\n",
        "  return torch.exp(-torch.sum(torch.abs(h1 - h2), axis=2))"
      ],
      "execution_count": 0,
      "outputs": []
    },
    {
      "cell_type": "code",
      "metadata": {
        "id": "e08ZuemxTfA2",
        "colab_type": "code",
        "colab": {}
      },
      "source": [
        "# Because in training the MaLSTM I unthinkingly saved out the entire sequential\n",
        "# model I have to recreate it in fat_grader, restore the params we want, \n",
        "# then pull out the LSTM portion of the fat_grader.\n",
        "grader_model_file = \"/content/gdrive/My Drive/CS474 Final Project/MaLSTM/e49_l0.17679482698440552.mod\"\n",
        "mk, uk = fat_grader.load_state_dict(torch.load(grader_model_file))\n",
        "grader = [ i for i in fat_grader.modules() ][2].cuda()\n",
        "assert len(mk) == len(uk) and len(uk) == 0"
      ],
      "execution_count": 0,
      "outputs": []
    },
    {
      "cell_type": "code",
      "metadata": {
        "id": "kQYVYSZAaT7y",
        "colab_type": "code",
        "colab": {}
      },
      "source": [
        "def train(num_epochs):\n",
        "  output_dir = \"/content/gdrive/My Drive/CS474 Final Project/GCM\"\n",
        "\n",
        "  min_loss = float(\"inf\")\n",
        "  losses = []\n",
        "  try:\n",
        "    for e in range(num_epochs):\n",
        "      for i in range(len(dataset)):\n",
        "        check_gpu()\n",
        "        gc.collect()\n",
        "        torch.cuda.empty_cache()\n",
        "        optimizer.zero_grad()\n",
        "\n",
        "        vid, text = dataset[i]\n",
        "        check_gpu()\n",
        "        text_hat = []\n",
        "        hidden = None\n",
        "        for j in range(6):\n",
        "          check_gpu()\n",
        "          t, hidden = model(vid[j*100:(j+1)*100], hidden)\n",
        "          text_hat.append(t.squeeze(0))\n",
        "        text_hat = torch.cat(text_hat, dim=0)\n",
        "        check_gpu()\n",
        "        print('Full group processed:',text_hat.size())\n",
        "        if i % 5 == 0:\n",
        "          to_translate = text_hat.clone().detach().cpu().squeeze(0).squeeze(0)\n",
        "          results = translate_emb(to_translate)\n",
        "          print(results)\n",
        "\n",
        "        # text = make_emb(text)\n",
        "        # print(text)\n",
        "        # print(\"Text hat: {}\".format(text_hat.size()), flush=True)\n",
        "        # print(\"text truth: {}\".format(text.size()), flush=True)\n",
        "        text = torch.stack([ torch.tensor(model_glove_wikipedia[str(i)]) if str(i) in model_glove_wikipedia.vocab else torch.zeros((100)) for i in text])\n",
        "        text_hat_size = text_hat.size()\n",
        "        text_size = text.size()\n",
        "        \n",
        "        text_hat = text_hat.view(text_hat_size[0], 1, text_hat_size[1]).cuda()\n",
        "        # print(\"Text hat: {}\".format(text_hat.size()), flush=True)\n",
        "        \n",
        "        text = text.view(text_size[0], 1, text_size[1]).cuda()\n",
        "        \n",
        "        # print(\"text truth: {}\".format(text.size()), flush=True)\n",
        "        _, (h_hat, _) = grader(text_hat)\n",
        "        _, (h_text, _) = grader(text)\n",
        "        dist = compute_manhattan(h_hat, h_text).squeeze(0)\n",
        "        all_are_similar = torch.ones(dist.shape).cuda()\n",
        "        loss = objective(dist, all_are_similar)\n",
        "        loss.backward()\n",
        "        optimizer.step()\n",
        "\n",
        "        if loss.item() < min_loss:\n",
        "          # Save out\n",
        "          print(\"Saving loss: {}\".format(loss.item()))\n",
        "          context = {\n",
        "              'epoch': e,\n",
        "              'losses': losses,\n",
        "              'optim': optimizer.state_dict(),\n",
        "              'model': model.state_dict()\n",
        "          }\n",
        "          torch.save(context, os.path.join(output_dir, \"e{}_l{}.mod\".format(e, loss.item())))\n",
        "          min_loss = loss.item()\n",
        "        losses.append((e, i, loss.item()))\n",
        "  except Exception:\n",
        "    __ITB__()\n",
        "    raise"
      ],
      "execution_count": 0,
      "outputs": []
    },
    {
      "cell_type": "code",
      "metadata": {
        "id": "p2Xr7n0YrsVH",
        "colab_type": "code",
        "outputId": "1937bdd8-e290-422a-ad2f-980647e3eb8d",
        "colab": {
          "base_uri": "https://localhost:8080/",
          "height": 1000
        }
      },
      "source": [
        "train(100)"
      ],
      "execution_count": 29,
      "outputs": [
        {
          "output_type": "stream",
          "text": [
            "GPU RAM Free: 15421MB | Used: 859MB | Util   5% | Total 16280MB\n",
            "GPU RAM Free: 15421MB | Used: 859MB | Util   5% | Total 16280MB\n",
            "GPU RAM Free: 15421MB | Used: 859MB | Util   5% | Total 16280MB\n",
            "Entering foward method: torch.Size([100, 3, 224, 224])\n",
            "Features have been extracted: torch.Size([100, 100])\n",
            "Embeddings generated: torch.Size([1, 100, 100])\n",
            "GPU RAM Free: 15347MB | Used: 933MB | Util   6% | Total 16280MB\n",
            "Entering foward method: torch.Size([100, 3, 224, 224])\n",
            "Features have been extracted: torch.Size([100, 100])\n",
            "Embeddings generated: torch.Size([1, 100, 100])\n",
            "GPU RAM Free: 15347MB | Used: 933MB | Util   6% | Total 16280MB\n",
            "Entering foward method: torch.Size([100, 3, 224, 224])\n",
            "Features have been extracted: torch.Size([100, 100])\n",
            "Embeddings generated: torch.Size([1, 100, 100])\n",
            "GPU RAM Free: 15347MB | Used: 933MB | Util   6% | Total 16280MB\n",
            "Entering foward method: torch.Size([100, 3, 224, 224])\n",
            "Features have been extracted: torch.Size([100, 100])\n",
            "Embeddings generated: torch.Size([1, 100, 100])\n",
            "GPU RAM Free: 15347MB | Used: 933MB | Util   6% | Total 16280MB\n",
            "Entering foward method: torch.Size([100, 3, 224, 224])\n",
            "Features have been extracted: torch.Size([100, 100])\n",
            "Embeddings generated: torch.Size([1, 100, 100])\n",
            "GPU RAM Free: 15347MB | Used: 933MB | Util   6% | Total 16280MB\n",
            "Entering foward method: torch.Size([100, 3, 224, 224])\n",
            "Features have been extracted: torch.Size([100, 100])\n",
            "Embeddings generated: torch.Size([1, 100, 100])\n",
            "GPU RAM Free: 15347MB | Used: 933MB | Util   6% | Total 16280MB\n",
            "Full group processed: torch.Size([600, 100])\n"
          ],
          "name": "stdout"
        },
        {
          "output_type": "stream",
          "text": [
            "/usr/local/lib/python3.6/dist-packages/gensim/matutils.py:737: FutureWarning: Conversion of the second argument of issubdtype from `int` to `np.signedinteger` is deprecated. In future, it will be treated as `np.int64 == np.dtype(int).type`.\n",
            "  if np.issubdtype(vec.dtype, np.int):\n"
          ],
          "name": "stderr"
        },
        {
          "output_type": "stream",
          "text": [
            "['present-day', 'governorate', 'modern-day', 'western', 'infiltrated', 'modern-day', 'present-day', 'infiltrated', 'connections', 'present-day', 'western', 'western', 'connections', 'present-day', 'periphery', 'empire', 'scandinavia', 'present-day', 'workings', 'present-day', 'scandinavia', 'western', 'present-day', 'connections', 'western', 'workings', 'western', 'western', 'periphery', 'infiltrated', 'modern-day', 'periphery', 'empire', 'periphery', 'modern-day', 'infiltrated', 'scandinavia', 'western', 'present-day', 'infiltrated', 'modern-day', 'present-day', 'western', 'underworld', 'modern-day', 'present-day', 'infiltrated', 'scandinavia', 'workings', 'infiltrated', 'modern-day', 'workings', 'workings', 'workings', 'connections', 'connections', 'present-day', 'infiltrated', 'underworld', 'western', 'modern-day', 'eastern', 'scandinavia', 'scandinavia', 'empire', 'workings', 'western', 'periphery', 'scandinavia', 'present-day', 'connections', 'modern-day', 'infiltrated', 'connections', 'present-day', 'present-day', 'periphery', 'connections', 'present-day', 'workings', 'penetrated', 'periphery', 'empire', 'modern-day', 'empire', 'modern-day', 'modern-day', 'modern-day', 'present-day', 'workings', 'periphery', 'underworld', 'present-day', 'periphery', 'linking', 'periphery', 'connections', 'connections', 'periphery', 'workings', 'scandinavia', 'scandinavia', 'scandinavia', 'western', 'western', 'periphery', 'workings', 'infiltrated', 'surrounding', 'present-day', 'underworld', 'workings', 'empire', 'present-day', 'infiltrated', 'scandinavia', 'scandinavia', 'eastern', 'periphery', 'present-day', 'western', 'present-day', 'workings', 'scandinavia', 'periphery', 'modern-day', 'empire', 'empire', 'underworld', 'connections', 'western', 'scandinavia', 'infiltrated', 'connections', 'scandinavia', 'modern-day', 'present-day', 'modern-day', 'present-day', 'connections', 'workings', 'western', 'periphery', 'empire', 'scandinavia', 'western', 'present-day', 'workings', 'modern-day', 'connections', 'scandinavia', 'empire', 'connections', 'connections', 'western', 'infiltrated', 'empire', 'empire', 'connections', 'present-day', 'western', 'scandinavia', 'modern-day', 'present-day', 'workings', 'scandinavia', 'influence', 'workings', 'western', 'underworld', 'infiltrated', 'western', 'present-day', 'connections', 'empire', 'empire', 'periphery', 'western', 'present-day', 'workings', 'present-day', 'linking', 'linking', 'empire', 'connections', 'infiltrated', 'surrounding', 'empire', 'western', 'underworld', 'western', 'connections', 'present-day', 'periphery', 'infiltrated', 'underworld', 'surrounding', 'infiltrated', 'periphery', 'present-day', 'periphery', 'present-day', 'linking', 'empire', 'present-day', 'empire', 'linking', 'workings', 'connections', 'infiltrated', 'scandinavia', 'workings', 'modern-day', 'scandinavia', 'underworld', 'connections', 'empire', 'empire', 'infiltrated', 'connections', 'western', 'modern-day', 'empire', 'scandinavia', 'infiltrated', 'present-day', 'modern-day', 'scandinavia', 'infiltrated', 'empire', 'connections', 'scandinavia', 'connections', 'periphery', 'workings', 'modern-day', 'empire', 'scandinavia', 'periphery', 'western', 'present-day', 'western', 'western', 'scandinavia', 'empire', 'workings', 'underworld', 'infiltrated', 'workings', 'periphery', 'governorate', 'present-day', 'infiltrated', 'linking', 'scandinavia', 'western', 'workings', 'western', 'scandinavia', 'periphery', 'infiltrated', 'linking', 'modern-day', 'connections', 'empire', 'periphery', 'connections', 'workings', 'periphery', 'periphery', 'scandinavia', 'scandinavia', 'scandinavia', 'connections', 'connections', 'western', 'infiltrated', 'connections', 'western', 'linking', 'infiltrated', 'connections', 'connections', 'modern-day', 'workings', 'western', 'workings', 'workings', 'surrounding', 'periphery', 'scandinavia', 'connections', 'scandinavia', 'scandinavia', 'western', 'infiltrated', 'workings', 'linking', 'linking', 'linking', 'linking', 'empire', 'eastern', 'connections', 'connections', 'present-day', 'workings', 'infiltrated', 'workings', 'present-day', 'workings', 'periphery', 'workings', 'infiltrated', 'workings', 'infiltrated', 'surrounding', 'western', 'present-day', 'surrounding', 'infiltrated', 'connections', 'present-day', 'connections', 'underworld', 'modern-day', 'connections', 'present-day', 'empire', 'linking', 'periphery', 'periphery', 'periphery', 'empire', 'present-day', 'connections', 'scandinavia', 'western', 'present-day', 'workings', 'empire', 'empire', 'workings', 'workings', 'workings', 'infiltrated', 'western', 'infiltrated', 'connections', 'western', 'infiltrated', 'modern-day', 'scandinavia', 'western', 'workings', 'connections', 'connections', 'modern-day', 'empire', 'scandinavia', 'present-day', 'surrounding', 'connections', 'present-day', 'western', 'infiltrated', 'western', 'infiltrated', 'periphery', 'periphery', 'present-day', 'scandinavia', 'infiltrated', 'infiltrated', 'modern-day', 'workings', 'surrounding', 'surrounding', 'infiltrated', 'underworld', 'empire', 'modern-day', 'infiltrated', 'modern-day', 'connections', 'western', 'infiltrated', 'present-day', 'connections', 'present-day', 'western', 'scandinavia', 'modern-day', 'workings', 'empire', 'workings', 'underworld', 'workings', 'scandinavia', 'western', 'scandinavia', 'modern-day', 'scandinavia', 'underworld', 'workings', 'periphery', 'surrounding', 'connections', 'periphery', 'western', 'periphery', 'scandinavia', 'present-day', 'empire', 'linking', 'infiltrated', 'surrounding', 'surrounding', 'underworld', 'infiltrated', 'present-day', 'empire', 'empire', 'present-day', 'scandinavia', 'connections', 'periphery', 'workings', 'workings', 'connections', 'linking', 'western', 'linking', 'scandinavia', 'scandinavia', 'periphery', 'connections', 'workings', 'present-day', 'scandinavia', 'modern-day', 'western', 'present-day', 'linking', 'workings', 'western', 'empire', 'scandinavia', 'empire', 'infiltrated', 'modern-day', 'eastern', 'scandinavia', 'workings', 'scandinavia', 'western', 'connections', 'periphery', 'surrounding', 'workings', 'western', 'modern-day', 'periphery', 'scandinavia', 'empire', 'modern-day', 'scandinavia', 'present-day', 'connections', 'scandinavia', 'workings', 'western', 'infiltrated', 'workings', 'modern-day', 'workings', 'connections', 'present-day', 'connections', 'periphery', 'periphery', 'present-day', 'connections', 'western', 'periphery', 'connections', 'workings', 'periphery', 'present-day', 'modern-day', 'infiltrated', 'surrounding', 'western', 'scandinavia', 'workings', 'workings', 'infiltrated', 'scandinavia', 'western', 'periphery', 'empire', 'infiltrated', 'periphery', 'underworld', 'empire', 'scandinavia', 'modern-day', 'present-day', 'western', 'periphery', 'workings', 'workings', 'connections', 'underworld', 'western', 'western', 'present-day', 'surrounding', 'empire', 'modern-day', 'modern-day', 'modern-day', 'linking', 'present-day', 'modern-day', 'workings', 'workings', 'western', 'modern-day', 'infiltrated', 'periphery', 'empire', 'workings', 'periphery', 'infiltrated', 'present-day', 'infiltrated', 'infiltrated', 'connections', 'modern-day', 'scandinavia', 'modern-day', 'linking', 'empire', 'connections', 'workings', 'periphery', 'scandinavia', 'connections', 'connections', 'modern-day', 'scandinavia', 'connections', 'western', 'linking', 'connections', 'workings', 'connections', 'empire', 'scandinavia', 'connections', 'western', 'empire', 'scandinavia', 'infiltrated', 'linking', 'periphery', 'linking', 'present-day', 'scandinavia', 'workings', 'linking', 'scandinavia', 'empire', 'modern-day', 'eastern', 'connections', 'scandinavia', 'present-day', 'western', 'workings', 'underworld', 'infiltrated', 'infiltrated', 'connections', 'workings', 'connections', 'scandinavia', 'underworld', 'present-day', 'western', 'infiltrated', 'connections', 'present-day', 'connections', 'periphery', 'workings', 'infiltrated', 'workings', 'present-day']\n",
            "Saving loss: 0.9962725639343262\n",
            "GPU RAM Free: 15345MB | Used: 935MB | Util   6% | Total 16280MB\n",
            "GPU RAM Free: 15421MB | Used: 859MB | Util   5% | Total 16280MB\n",
            "GPU RAM Free: 15421MB | Used: 859MB | Util   5% | Total 16280MB\n",
            "Entering foward method: torch.Size([100, 3, 224, 224])\n",
            "Features have been extracted: torch.Size([100, 100])\n",
            "Embeddings generated: torch.Size([1, 100, 100])\n",
            "GPU RAM Free: 15347MB | Used: 933MB | Util   6% | Total 16280MB\n",
            "Entering foward method: torch.Size([100, 3, 224, 224])\n",
            "Features have been extracted: torch.Size([100, 100])\n",
            "Embeddings generated: torch.Size([1, 100, 100])\n",
            "GPU RAM Free: 15347MB | Used: 933MB | Util   6% | Total 16280MB\n",
            "Entering foward method: torch.Size([100, 3, 224, 224])\n",
            "Features have been extracted: torch.Size([100, 100])\n",
            "Embeddings generated: torch.Size([1, 100, 100])\n",
            "GPU RAM Free: 15347MB | Used: 933MB | Util   6% | Total 16280MB\n",
            "Entering foward method: torch.Size([100, 3, 224, 224])\n",
            "Features have been extracted: torch.Size([100, 100])\n",
            "Embeddings generated: torch.Size([1, 100, 100])\n",
            "GPU RAM Free: 15347MB | Used: 933MB | Util   6% | Total 16280MB\n",
            "Entering foward method: torch.Size([100, 3, 224, 224])\n",
            "Features have been extracted: torch.Size([100, 100])\n",
            "Embeddings generated: torch.Size([1, 100, 100])\n",
            "GPU RAM Free: 15347MB | Used: 933MB | Util   6% | Total 16280MB\n",
            "Entering foward method: torch.Size([100, 3, 224, 224])\n",
            "Features have been extracted: torch.Size([100, 100])\n",
            "Embeddings generated: torch.Size([1, 100, 100])\n",
            "GPU RAM Free: 15347MB | Used: 933MB | Util   6% | Total 16280MB\n",
            "Full group processed: torch.Size([600, 100])\n",
            "Saving loss: 0.796779215335846\n",
            "GPU RAM Free: 15345MB | Used: 935MB | Util   6% | Total 16280MB\n",
            "GPU RAM Free: 15421MB | Used: 859MB | Util   5% | Total 16280MB\n",
            "GPU RAM Free: 15421MB | Used: 859MB | Util   5% | Total 16280MB\n",
            "Entering foward method: torch.Size([100, 3, 224, 224])\n",
            "Features have been extracted: torch.Size([100, 100])\n",
            "Embeddings generated: torch.Size([1, 100, 100])\n",
            "GPU RAM Free: 15347MB | Used: 933MB | Util   6% | Total 16280MB\n",
            "Entering foward method: torch.Size([100, 3, 224, 224])\n",
            "Features have been extracted: torch.Size([100, 100])\n",
            "Embeddings generated: torch.Size([1, 100, 100])\n",
            "GPU RAM Free: 15347MB | Used: 933MB | Util   6% | Total 16280MB\n",
            "Entering foward method: torch.Size([100, 3, 224, 224])\n",
            "Features have been extracted: torch.Size([100, 100])\n",
            "Embeddings generated: torch.Size([1, 100, 100])\n",
            "GPU RAM Free: 15347MB | Used: 933MB | Util   6% | Total 16280MB\n",
            "Entering foward method: torch.Size([100, 3, 224, 224])\n",
            "Features have been extracted: torch.Size([100, 100])\n",
            "Embeddings generated: torch.Size([1, 100, 100])\n",
            "GPU RAM Free: 15347MB | Used: 933MB | Util   6% | Total 16280MB\n",
            "Entering foward method: torch.Size([100, 3, 224, 224])\n",
            "Features have been extracted: torch.Size([100, 100])\n",
            "Embeddings generated: torch.Size([1, 100, 100])\n",
            "GPU RAM Free: 15347MB | Used: 933MB | Util   6% | Total 16280MB\n",
            "Entering foward method: torch.Size([100, 3, 224, 224])\n",
            "Features have been extracted: torch.Size([100, 100])\n",
            "Embeddings generated: torch.Size([1, 100, 100])\n",
            "GPU RAM Free: 15347MB | Used: 933MB | Util   6% | Total 16280MB\n",
            "Full group processed: torch.Size([600, 100])\n",
            "GPU RAM Free: 15345MB | Used: 935MB | Util   6% | Total 16280MB\n",
            "GPU RAM Free: 15421MB | Used: 859MB | Util   5% | Total 16280MB\n",
            "GPU RAM Free: 15421MB | Used: 859MB | Util   5% | Total 16280MB\n",
            "Entering foward method: torch.Size([100, 3, 224, 224])\n",
            "Features have been extracted: torch.Size([100, 100])\n",
            "Embeddings generated: torch.Size([1, 100, 100])\n",
            "GPU RAM Free: 15347MB | Used: 933MB | Util   6% | Total 16280MB\n",
            "Entering foward method: torch.Size([100, 3, 224, 224])\n",
            "Features have been extracted: torch.Size([100, 100])\n",
            "Embeddings generated: torch.Size([1, 100, 100])\n",
            "GPU RAM Free: 15347MB | Used: 933MB | Util   6% | Total 16280MB\n",
            "Entering foward method: torch.Size([100, 3, 224, 224])\n",
            "Features have been extracted: torch.Size([100, 100])\n",
            "Embeddings generated: torch.Size([1, 100, 100])\n",
            "GPU RAM Free: 15347MB | Used: 933MB | Util   6% | Total 16280MB\n",
            "Entering foward method: torch.Size([100, 3, 224, 224])\n",
            "Features have been extracted: torch.Size([100, 100])\n",
            "Embeddings generated: torch.Size([1, 100, 100])\n",
            "GPU RAM Free: 15347MB | Used: 933MB | Util   6% | Total 16280MB\n",
            "Entering foward method: torch.Size([100, 3, 224, 224])\n",
            "Features have been extracted: torch.Size([100, 100])\n",
            "Embeddings generated: torch.Size([1, 100, 100])\n",
            "GPU RAM Free: 15347MB | Used: 933MB | Util   6% | Total 16280MB\n",
            "Entering foward method: torch.Size([100, 3, 224, 224])\n",
            "Features have been extracted: torch.Size([100, 100])\n",
            "Embeddings generated: torch.Size([1, 100, 100])\n",
            "GPU RAM Free: 15347MB | Used: 933MB | Util   6% | Total 16280MB\n",
            "Full group processed: torch.Size([600, 100])\n",
            "GPU RAM Free: 15345MB | Used: 935MB | Util   6% | Total 16280MB\n",
            "GPU RAM Free: 15421MB | Used: 859MB | Util   5% | Total 16280MB\n",
            "GPU RAM Free: 15421MB | Used: 859MB | Util   5% | Total 16280MB\n",
            "Entering foward method: torch.Size([100, 3, 224, 224])\n",
            "Features have been extracted: torch.Size([100, 100])\n",
            "Embeddings generated: torch.Size([1, 100, 100])\n",
            "GPU RAM Free: 15347MB | Used: 933MB | Util   6% | Total 16280MB\n",
            "Entering foward method: torch.Size([100, 3, 224, 224])\n",
            "Features have been extracted: torch.Size([100, 100])\n",
            "Embeddings generated: torch.Size([1, 100, 100])\n",
            "GPU RAM Free: 15347MB | Used: 933MB | Util   6% | Total 16280MB\n",
            "Entering foward method: torch.Size([100, 3, 224, 224])\n",
            "Features have been extracted: torch.Size([100, 100])\n",
            "Embeddings generated: torch.Size([1, 100, 100])\n",
            "GPU RAM Free: 15347MB | Used: 933MB | Util   6% | Total 16280MB\n",
            "Entering foward method: torch.Size([100, 3, 224, 224])\n",
            "Features have been extracted: torch.Size([100, 100])\n",
            "Embeddings generated: torch.Size([1, 100, 100])\n",
            "GPU RAM Free: 15347MB | Used: 933MB | Util   6% | Total 16280MB\n",
            "Entering foward method: torch.Size([100, 3, 224, 224])\n",
            "Features have been extracted: torch.Size([100, 100])\n",
            "Embeddings generated: torch.Size([1, 100, 100])\n",
            "GPU RAM Free: 15347MB | Used: 933MB | Util   6% | Total 16280MB\n",
            "Entering foward method: torch.Size([100, 3, 224, 224])\n",
            "Features have been extracted: torch.Size([100, 100])\n",
            "Embeddings generated: torch.Size([1, 100, 100])\n",
            "GPU RAM Free: 15347MB | Used: 933MB | Util   6% | Total 16280MB\n",
            "Full group processed: torch.Size([600, 100])\n",
            "Saving loss: 0.6394187808036804\n",
            "GPU RAM Free: 15345MB | Used: 935MB | Util   6% | Total 16280MB\n",
            "GPU RAM Free: 15421MB | Used: 859MB | Util   5% | Total 16280MB\n",
            "GPU RAM Free: 15421MB | Used: 859MB | Util   5% | Total 16280MB\n",
            "Entering foward method: torch.Size([100, 3, 224, 224])\n",
            "Features have been extracted: torch.Size([100, 100])\n",
            "Embeddings generated: torch.Size([1, 100, 100])\n",
            "GPU RAM Free: 15347MB | Used: 933MB | Util   6% | Total 16280MB\n",
            "Entering foward method: torch.Size([100, 3, 224, 224])\n",
            "Features have been extracted: torch.Size([100, 100])\n",
            "Embeddings generated: torch.Size([1, 100, 100])\n",
            "GPU RAM Free: 15347MB | Used: 933MB | Util   6% | Total 16280MB\n",
            "Entering foward method: torch.Size([100, 3, 224, 224])\n",
            "Features have been extracted: torch.Size([100, 100])\n",
            "Embeddings generated: torch.Size([1, 100, 100])\n",
            "GPU RAM Free: 15347MB | Used: 933MB | Util   6% | Total 16280MB\n",
            "Entering foward method: torch.Size([100, 3, 224, 224])\n",
            "Features have been extracted: torch.Size([100, 100])\n",
            "Embeddings generated: torch.Size([1, 100, 100])\n",
            "GPU RAM Free: 15347MB | Used: 933MB | Util   6% | Total 16280MB\n",
            "Entering foward method: torch.Size([100, 3, 224, 224])\n",
            "Features have been extracted: torch.Size([100, 100])\n",
            "Embeddings generated: torch.Size([1, 100, 100])\n",
            "GPU RAM Free: 15347MB | Used: 933MB | Util   6% | Total 16280MB\n",
            "Entering foward method: torch.Size([100, 3, 224, 224])\n",
            "Features have been extracted: torch.Size([100, 100])\n",
            "Embeddings generated: torch.Size([1, 100, 100])\n",
            "GPU RAM Free: 15347MB | Used: 933MB | Util   6% | Total 16280MB\n",
            "Full group processed: torch.Size([600, 100])\n"
          ],
          "name": "stdout"
        },
        {
          "output_type": "stream",
          "text": [
            "/usr/local/lib/python3.6/dist-packages/gensim/matutils.py:737: FutureWarning: Conversion of the second argument of issubdtype from `int` to `np.signedinteger` is deprecated. In future, it will be treated as `np.int64 == np.dtype(int).type`.\n",
            "  if np.issubdtype(vec.dtype, np.int):\n"
          ],
          "name": "stderr"
        },
        {
          "output_type": "stream",
          "text": [
            "['between', 'present-day', 'infiltrated', 'influence', 'infiltrated', 'western', 'cities', 'empire', 'connections', 'cities', 'thriving', 'present-day', 'scandinavia', 'connections', 'scandinavia', 'empire', 'infiltrated', 'present-day', 'connections', 'scandinavia', 'connections', 'influence', 'present-day', 'western', 'influence', 'scandinavia', '19th', 'influence', 'influence', '19th', '19th', 'thriving', 'cities', 'present-day', '19th', 'empire', 'influence', 'thriving', 'thriving', 'workings', 'thriving', 'thriving', 'influence', 'influence', 'empire', 'connections', 'scandinavia', '19th', 'western', 'empire', 'connections', 'present-day', 'empire', 'connections', 'thriving', 'western', 'scandinavia', 'empire', 'workings', 'empire', 'thriving', '19th', 'present-day', 'western', 'connections', 'present-day', 'influence', 'cities', 'cities', 'cities', '19th', 'present-day', 'connections', 'western', 'influence', 'connections', 'present-day', 'connections', 'present-day', 'connections', 'empire', 'western', 'influence', 'western', 'connections', 'present-day', 'cities', '19th', 'western', 'influence', '1920s', 'present-day', 'present-day', '1920s', 'connections', '19th', 'present-day', 'scandinavia', 'empire', 'empire', 'present-day', 'workings', 'influence', '1920s', 'present-day', 'cities', 'influence', 'cities', 'influence', 'thriving', 'connections', 'empire', '19th', '19th', 'cities', 'cities', 'connections', '19th', 'cities', 'cities', 'connections', 'western', 'present-day', 'thriving', 'present-day', 'empire', 'western', 'western', '1920s', 'workings', 'influence', 'western', 'influence', 'connections', 'workings', 'present-day', '19th', 'western', 'thriving', 'scandinavia', 'scandinavia', 'workings', 'western', 'cities', 'empire', 'present-day', 'cities', 'western', 'thriving', 'connections', 'workings', 'thriving', 'thriving', 'western', 'influence', 'thriving', 'present-day', 'scandinavia', 'thriving', 'empire', 'connections', '1920s', 'empire', 'cities', 'thriving', '19th', 'workings', '19th', 'thriving', 'cities', 'present-day', 'influence', 'influence', '19th', 'cities', '19th', 'thriving', 'present-day', '19th', 'western', 'influence', 'thriving', '19th', 'present-day', 'workings', 'influence', 'scandinavia', 'western', '19th', 'empire', 'scandinavia', 'empire', 'western', '19th', 'empire', 'empire', 'present-day', 'connections', 'kingdom', 'cities', 'empire', 'empire', 'connections', 'present-day', 'scandinavia', 'workings', 'empire', 'present-day', 'western', 'western', 'present-day', 'connections', 'scandinavia', 'scandinavia', '19th', 'empire', 'influence', 'connections', 'connections', 'present-day', '19th', 'western', 'thriving', 'empire', 'connections', 'thriving', 'cities', 'connections', 'empire', 'connections', 'cities', 'empire', '19th', 'kingdom', 'scandinavia', 'scandinavia', '19th', 'scandinavia', 'connections', 'workings', 'cities', 'connections', 'influence', 'workings', 'influence', 'elite', 'western', 'thriving', '19th', 'influence', 'empire', 'scandinavia', 'thriving', 'empire', 'present-day', 'western', 'vast', 'thriving', 'kingdom', 'present-day', 'cities', '19th', 'thriving', '19th', 'empire', 'present-day', 'influence', 'influence', 'present-day', 'western', 'influence', 'thriving', 'present-day', 'western', 'scandinavia', 'workings', 'scandinavia', 'workings', '19th', 'present-day', 'scandinavia', 'cities', 'connections', 'influence', 'cities', 'workings', 'scandinavia', 'workings', 'scandinavia', '19th', 'thriving', 'empire', 'connections', 'thriving', 'western', 'influence', 'cities', '19th', 'influence', 'workings', 'thriving', '19th', '19th', 'connections', 'western', 'workings', 'influence', '19th', 'cities', 'western', 'connections', 'influence', 'scandinavia', 'elite', '19th', 'vast', 'cities', 'scandinavia', 'present-day', 'workings', 'influence', 'workings', 'scandinavia', '19th', '19th', 'scandinavia', 'cities', '19th', 'present-day', 'western', 'workings', '19th', 'workings', 'western', 'cities', 'influence', 'empire', 'cities', 'connections', '19th', 'empire', '19th', '19th', 'scandinavia', 'cities', 'empire', 'scandinavia', 'western', 'western', 'thriving', '19th', 'thriving', '1920s', 'thriving', 'workings', 'empire', 'thriving', 'empire', 'thriving', 'empire', 'vast', 'scandinavia', 'connections', 'influence', 'workings', 'empire', 'western', 'present-day', 'influence', 'empire', 'thriving', 'present-day', 'thriving', 'influence', 'empire', 'thriving', 'influence', 'thriving', 'present-day', 'cities', 'influence', 'connections', '19th', 'thriving', 'cities', 'scandinavia', 'influence', 'connections', 'thriving', 'influence', '19th', 'influence', 'workings', 'western', 'western', 'cities', 'western', 'thriving', 'influence', 'connections', '19th', 'connections', 'empire', 'present-day', 'western', 'connections', 'connections', 'cities', 'cities', 'empire', 'empire', '19th', 'scandinavia', 'present-day', 'thriving', 'scandinavia', 'elite', 'connections', 'thriving', 'connections', 'scandinavia', 'scandinavia', 'influence', 'empire', 'present-day', 'scandinavia', 'workings', 'thriving', 'cities', 'thriving', 'cities', 'empire', 'thriving', 'cities', 'thriving', 'empire', 'thriving', 'cities', 'influence', 'connections', 'western', 'influence', 'influence', 'present-day', 'influence', 'connections', 'elite', 'present-day', 'present-day', 'influence', 'western', 'western', 'present-day', 'influence', 'connections', 'cities', 'western', '19th', 'thriving', 'influence', 'influence', 'empire', 'present-day', 'scandinavia', 'scandinavia', 'scandinavia', 'western', '19th', 'cities', 'thriving', 'workings', 'scandinavia', 'empire', 'connections', 'western', 'cities', '19th', 'empire', 'connections', 'workings', 'connections', 'connections', 'western', 'thriving', 'influence', 'present-day', 'workings', 'western', 'empire', '19th', 'western', 'influence', 'empire', 'empire', 'connections', 'empire', 'influence', 'influence', 'scandinavia', 'connections', 'present-day', 'workings', 'scandinavia', '19th', 'connections', 'cities', 'thriving', 'thriving', 'thriving', '19th', 'workings', 'scandinavia', '19th', 'thriving', 'cities', '1920s', 'present-day', 'influence', 'scandinavia', 'empire', '1920s', '19th', 'thriving', 'empire', 'thriving', 'connections', '19th', 'connections', 'western', 'workings', 'cities', 'connections', 'cities', 'present-day', 'empire', 'present-day', 'connections', '19th', '19th', 'empire', 'present-day', 'scandinavia', 'western', '19th', 'empire', 'connections', 'present-day', 'connections', 'connections', 'western', 'present-day', 'empire', '19th', 'connections', 'western', 'present-day', 'connections', 'kingdom', 'influence', 'western', 'thriving', 'empire', 'scandinavia', 'cities', 'western', '19th', 'elite', 'present-day', 'western', '19th', 'scandinavia', 'influence', 'western', 'empire', 'western', '19th', 'thriving', '19th', 'workings', 'western', 'workings', 'influence', '19th', 'scandinavia', 'thriving', 'empire', 'present-day', 'elite', 'empire', 'thriving', '19th', 'present-day', 'connections', 'western', 'empire', 'present-day', 'present-day', 'connections', 'empire', 'workings']\n",
            "GPU RAM Free: 15345MB | Used: 935MB | Util   6% | Total 16280MB\n",
            "GPU RAM Free: 15421MB | Used: 859MB | Util   5% | Total 16280MB\n",
            "GPU RAM Free: 15421MB | Used: 859MB | Util   5% | Total 16280MB\n",
            "Entering foward method: torch.Size([100, 3, 224, 224])\n",
            "Features have been extracted: torch.Size([100, 100])\n",
            "Embeddings generated: torch.Size([1, 100, 100])\n",
            "GPU RAM Free: 15347MB | Used: 933MB | Util   6% | Total 16280MB\n",
            "Entering foward method: torch.Size([100, 3, 224, 224])\n",
            "Features have been extracted: torch.Size([100, 100])\n",
            "Embeddings generated: torch.Size([1, 100, 100])\n",
            "GPU RAM Free: 15347MB | Used: 933MB | Util   6% | Total 16280MB\n",
            "Entering foward method: torch.Size([100, 3, 224, 224])\n",
            "Features have been extracted: torch.Size([100, 100])\n",
            "Embeddings generated: torch.Size([1, 100, 100])\n",
            "GPU RAM Free: 15347MB | Used: 933MB | Util   6% | Total 16280MB\n",
            "Entering foward method: torch.Size([100, 3, 224, 224])\n",
            "Features have been extracted: torch.Size([100, 100])\n",
            "Embeddings generated: torch.Size([1, 100, 100])\n",
            "GPU RAM Free: 15347MB | Used: 933MB | Util   6% | Total 16280MB\n",
            "Entering foward method: torch.Size([100, 3, 224, 224])\n",
            "Features have been extracted: torch.Size([100, 100])\n",
            "Embeddings generated: torch.Size([1, 100, 100])\n",
            "GPU RAM Free: 15347MB | Used: 933MB | Util   6% | Total 16280MB\n",
            "Entering foward method: torch.Size([100, 3, 224, 224])\n",
            "Features have been extracted: torch.Size([100, 100])\n",
            "Embeddings generated: torch.Size([1, 100, 100])\n",
            "GPU RAM Free: 15347MB | Used: 933MB | Util   6% | Total 16280MB\n",
            "Full group processed: torch.Size([600, 100])\n",
            "GPU RAM Free: 15345MB | Used: 935MB | Util   6% | Total 16280MB\n",
            "\u001b[0;31m---------------------------------------------------------------------------\u001b[0m\n",
            "\u001b[0;31mValueError\u001b[0m                                Traceback (most recent call last)\n",
            "\u001b[0;32m<ipython-input-7-f758bd1af482>\u001b[0m in \u001b[0;36m__getitem__\u001b[0;34m(self=<__main__.GeneralConferenceDataset object>, index=7)\u001b[0m\n",
            "\u001b[1;32m     72\u001b[0m     \u001b[0mnum_frames\u001b[0m \u001b[0;34m=\u001b[0m \u001b[0mvideo\u001b[0m\u001b[0;34m.\u001b[0m\u001b[0msize\u001b[0m\u001b[0;34m(\u001b[0m\u001b[0;36m0\u001b[0m\u001b[0;34m)\u001b[0m\u001b[0;34m\u001b[0m\u001b[0;34m\u001b[0m\u001b[0m\n",
            "\u001b[1;32m     73\u001b[0m     \u001b[0mlength\u001b[0m \u001b[0;34m=\u001b[0m \u001b[0mself\u001b[0m\u001b[0;34m.\u001b[0m\u001b[0mframes_per_item\u001b[0m\u001b[0;34m\u001b[0m\u001b[0;34m\u001b[0m\u001b[0m\n",
            "\u001b[0;32m---> 74\u001b[0;31m     \u001b[0mstart_frame\u001b[0m \u001b[0;34m=\u001b[0m \u001b[0mrandom\u001b[0m\u001b[0;34m.\u001b[0m\u001b[0mrandint\u001b[0m\u001b[0;34m(\u001b[0m \u001b[0;36m0\u001b[0m\u001b[0;34m,\u001b[0m \u001b[0mnum_frames\u001b[0m \u001b[0;34m-\u001b[0m \u001b[0mlength\u001b[0m \u001b[0;34m)\u001b[0m\u001b[0;34m\u001b[0m\u001b[0;34m\u001b[0m\u001b[0m\n",
            "\u001b[0m        \u001b[0;36mstart_frame\u001b[0m \u001b[0;34m= \u001b[0;36mundefined\u001b[0m\u001b[0m\u001b[0;34m\n",
            "        \u001b[0m\u001b[0;36mglobal\u001b[0m \u001b[0;36mrandom.randint\u001b[0m \u001b[0;34m= <bound method Random.randint of <random.Random object at 0x252ea18>>\u001b[0m\u001b[0;34m\n",
            "        \u001b[0m\u001b[0;36mnum_frames\u001b[0m \u001b[0;34m= 0\u001b[0m\u001b[0;34m\n",
            "        \u001b[0m\u001b[0;36mlength\u001b[0m \u001b[0;34m= 600\u001b[0m\n",
            "\u001b[1;32m     75\u001b[0m     \u001b[0mframe_sample\u001b[0m \u001b[0;34m=\u001b[0m \u001b[0mvideo\u001b[0m\u001b[0;34m[\u001b[0m\u001b[0mstart_frame\u001b[0m\u001b[0;34m:\u001b[0m\u001b[0mstart_frame\u001b[0m \u001b[0;34m+\u001b[0m \u001b[0mlength\u001b[0m\u001b[0;34m]\u001b[0m\u001b[0;34m\u001b[0m\u001b[0;34m\u001b[0m\u001b[0m\n",
            "\u001b[1;32m     76\u001b[0m \u001b[0;34m\u001b[0m\u001b[0m\n",
            "\n",
            "\u001b[0;32m/usr/lib/python3.6/random.py\u001b[0m in \u001b[0;36mrandint\u001b[0;34m(self=<random.Random object>, a=0, b=-600)\u001b[0m\n",
            "\u001b[1;32m    219\u001b[0m         \"\"\"\n",
            "\u001b[1;32m    220\u001b[0m \u001b[0;34m\u001b[0m\u001b[0m\n",
            "\u001b[0;32m--> 221\u001b[0;31m         \u001b[0;32mreturn\u001b[0m \u001b[0mself\u001b[0m\u001b[0;34m.\u001b[0m\u001b[0mrandrange\u001b[0m\u001b[0;34m(\u001b[0m\u001b[0ma\u001b[0m\u001b[0;34m,\u001b[0m \u001b[0mb\u001b[0m\u001b[0;34m+\u001b[0m\u001b[0;36m1\u001b[0m\u001b[0;34m)\u001b[0m\u001b[0;34m\u001b[0m\u001b[0;34m\u001b[0m\u001b[0m\n",
            "\u001b[0m        \u001b[0;36mself.randrange\u001b[0m \u001b[0;34m= <bound method Random.randrange of <random.Random object at 0x252ea18>>\u001b[0m\u001b[0;34m\n",
            "        \u001b[0m\u001b[0;36ma\u001b[0m \u001b[0;34m= 0\u001b[0m\u001b[0;34m\n",
            "        \u001b[0m\u001b[0;36mb\u001b[0m \u001b[0;34m= -600\u001b[0m\n",
            "\u001b[1;32m    222\u001b[0m \u001b[0;34m\u001b[0m\u001b[0m\n",
            "\u001b[1;32m    223\u001b[0m     def _randbelow(self, n, int=int, maxsize=1<<BPF, type=type,\n",
            "\n",
            "\u001b[0;32m/usr/lib/python3.6/random.py\u001b[0m in \u001b[0;36mrandrange\u001b[0;34m(self=<random.Random object>, start=0, stop=-599, step=1, _int=<class 'int'>)\u001b[0m\n",
            "\u001b[1;32m    197\u001b[0m             \u001b[0;32mreturn\u001b[0m \u001b[0mistart\u001b[0m \u001b[0;34m+\u001b[0m \u001b[0mself\u001b[0m\u001b[0;34m.\u001b[0m\u001b[0m_randbelow\u001b[0m\u001b[0;34m(\u001b[0m\u001b[0mwidth\u001b[0m\u001b[0;34m)\u001b[0m\u001b[0;34m\u001b[0m\u001b[0;34m\u001b[0m\u001b[0m\n",
            "\u001b[1;32m    198\u001b[0m         \u001b[0;32mif\u001b[0m \u001b[0mstep\u001b[0m \u001b[0;34m==\u001b[0m \u001b[0;36m1\u001b[0m\u001b[0;34m:\u001b[0m\u001b[0;34m\u001b[0m\u001b[0;34m\u001b[0m\u001b[0m\n",
            "\u001b[0;32m--> 199\u001b[0;31m             \u001b[0;32mraise\u001b[0m \u001b[0mValueError\u001b[0m\u001b[0;34m(\u001b[0m\u001b[0;34m\"empty range for randrange() (%d,%d, %d)\"\u001b[0m \u001b[0;34m%\u001b[0m \u001b[0;34m(\u001b[0m\u001b[0mistart\u001b[0m\u001b[0;34m,\u001b[0m \u001b[0mistop\u001b[0m\u001b[0;34m,\u001b[0m \u001b[0mwidth\u001b[0m\u001b[0;34m)\u001b[0m\u001b[0;34m)\u001b[0m\u001b[0;34m\u001b[0m\u001b[0;34m\u001b[0m\u001b[0m\n",
            "\u001b[0m        \u001b[0;36mglobal\u001b[0m \u001b[0;36mValueError\u001b[0m \u001b[0;34m= \u001b[0;36mundefined\u001b[0m\u001b[0m\u001b[0;34m\n",
            "        \u001b[0m\u001b[0;36mistart\u001b[0m \u001b[0;34m= 0\u001b[0m\u001b[0;34m\n",
            "        \u001b[0m\u001b[0;36mistop\u001b[0m \u001b[0;34m= -599\u001b[0m\u001b[0;34m\n",
            "        \u001b[0m\u001b[0;36mwidth\u001b[0m \u001b[0;34m= -599\u001b[0m\n",
            "\u001b[1;32m    200\u001b[0m \u001b[0;34m\u001b[0m\u001b[0m\n",
            "\u001b[1;32m    201\u001b[0m         \u001b[0;31m# Non-unit step argument supplied.\u001b[0m\u001b[0;34m\u001b[0m\u001b[0;34m\u001b[0m\u001b[0;34m\u001b[0m\u001b[0m\n",
            "\n",
            "\u001b[0;31mValueError\u001b[0m: empty range for randrange() (0,-599, -599)\n"
          ],
          "name": "stdout"
        },
        {
          "output_type": "error",
          "ename": "ValueError",
          "evalue": "ignored",
          "traceback": [
            "\u001b[0;31m---------------------------------------------------------------------------\u001b[0m",
            "\u001b[0;31mValueError\u001b[0m                                Traceback (most recent call last)",
            "\u001b[0;32m<ipython-input-29-51afd2885487>\u001b[0m in \u001b[0;36m<module>\u001b[0;34m()\u001b[0m\n\u001b[0;32m----> 1\u001b[0;31m \u001b[0mtrain\u001b[0m\u001b[0;34m(\u001b[0m\u001b[0;36m100\u001b[0m\u001b[0;34m)\u001b[0m\u001b[0;34m\u001b[0m\u001b[0;34m\u001b[0m\u001b[0m\n\u001b[0m",
            "\u001b[0;32m<ipython-input-28-860a91de6ce9>\u001b[0m in \u001b[0;36mtrain\u001b[0;34m(num_epochs)\u001b[0m\n\u001b[1;32m     12\u001b[0m         \u001b[0moptimizer\u001b[0m\u001b[0;34m.\u001b[0m\u001b[0mzero_grad\u001b[0m\u001b[0;34m(\u001b[0m\u001b[0;34m)\u001b[0m\u001b[0;34m\u001b[0m\u001b[0;34m\u001b[0m\u001b[0m\n\u001b[1;32m     13\u001b[0m \u001b[0;34m\u001b[0m\u001b[0m\n\u001b[0;32m---> 14\u001b[0;31m         \u001b[0mvid\u001b[0m\u001b[0;34m,\u001b[0m \u001b[0mtext\u001b[0m \u001b[0;34m=\u001b[0m \u001b[0mdataset\u001b[0m\u001b[0;34m[\u001b[0m\u001b[0mi\u001b[0m\u001b[0;34m]\u001b[0m\u001b[0;34m\u001b[0m\u001b[0;34m\u001b[0m\u001b[0m\n\u001b[0m\u001b[1;32m     15\u001b[0m         \u001b[0mcheck_gpu\u001b[0m\u001b[0;34m(\u001b[0m\u001b[0;34m)\u001b[0m\u001b[0;34m\u001b[0m\u001b[0;34m\u001b[0m\u001b[0m\n\u001b[1;32m     16\u001b[0m         \u001b[0mtext_hat\u001b[0m \u001b[0;34m=\u001b[0m \u001b[0;34m[\u001b[0m\u001b[0;34m]\u001b[0m\u001b[0;34m\u001b[0m\u001b[0;34m\u001b[0m\u001b[0m\n",
            "\u001b[0;32m<ipython-input-7-f758bd1af482>\u001b[0m in \u001b[0;36m__getitem__\u001b[0;34m(self, index)\u001b[0m\n\u001b[1;32m     72\u001b[0m     \u001b[0mnum_frames\u001b[0m \u001b[0;34m=\u001b[0m \u001b[0mvideo\u001b[0m\u001b[0;34m.\u001b[0m\u001b[0msize\u001b[0m\u001b[0;34m(\u001b[0m\u001b[0;36m0\u001b[0m\u001b[0;34m)\u001b[0m\u001b[0;34m\u001b[0m\u001b[0;34m\u001b[0m\u001b[0m\n\u001b[1;32m     73\u001b[0m     \u001b[0mlength\u001b[0m \u001b[0;34m=\u001b[0m \u001b[0mself\u001b[0m\u001b[0;34m.\u001b[0m\u001b[0mframes_per_item\u001b[0m\u001b[0;34m\u001b[0m\u001b[0;34m\u001b[0m\u001b[0m\n\u001b[0;32m---> 74\u001b[0;31m     \u001b[0mstart_frame\u001b[0m \u001b[0;34m=\u001b[0m \u001b[0mrandom\u001b[0m\u001b[0;34m.\u001b[0m\u001b[0mrandint\u001b[0m\u001b[0;34m(\u001b[0m \u001b[0;36m0\u001b[0m\u001b[0;34m,\u001b[0m \u001b[0mnum_frames\u001b[0m \u001b[0;34m-\u001b[0m \u001b[0mlength\u001b[0m \u001b[0;34m)\u001b[0m\u001b[0;34m\u001b[0m\u001b[0;34m\u001b[0m\u001b[0m\n\u001b[0m\u001b[1;32m     75\u001b[0m     \u001b[0mframe_sample\u001b[0m \u001b[0;34m=\u001b[0m \u001b[0mvideo\u001b[0m\u001b[0;34m[\u001b[0m\u001b[0mstart_frame\u001b[0m\u001b[0;34m:\u001b[0m\u001b[0mstart_frame\u001b[0m \u001b[0;34m+\u001b[0m \u001b[0mlength\u001b[0m\u001b[0;34m]\u001b[0m\u001b[0;34m\u001b[0m\u001b[0;34m\u001b[0m\u001b[0m\n\u001b[1;32m     76\u001b[0m \u001b[0;34m\u001b[0m\u001b[0m\n",
            "\u001b[0;32m/usr/lib/python3.6/random.py\u001b[0m in \u001b[0;36mrandint\u001b[0;34m(self, a, b)\u001b[0m\n\u001b[1;32m    219\u001b[0m         \"\"\"\n\u001b[1;32m    220\u001b[0m \u001b[0;34m\u001b[0m\u001b[0m\n\u001b[0;32m--> 221\u001b[0;31m         \u001b[0;32mreturn\u001b[0m \u001b[0mself\u001b[0m\u001b[0;34m.\u001b[0m\u001b[0mrandrange\u001b[0m\u001b[0;34m(\u001b[0m\u001b[0ma\u001b[0m\u001b[0;34m,\u001b[0m \u001b[0mb\u001b[0m\u001b[0;34m+\u001b[0m\u001b[0;36m1\u001b[0m\u001b[0;34m)\u001b[0m\u001b[0;34m\u001b[0m\u001b[0;34m\u001b[0m\u001b[0m\n\u001b[0m\u001b[1;32m    222\u001b[0m \u001b[0;34m\u001b[0m\u001b[0m\n\u001b[1;32m    223\u001b[0m     def _randbelow(self, n, int=int, maxsize=1<<BPF, type=type,\n",
            "\u001b[0;32m/usr/lib/python3.6/random.py\u001b[0m in \u001b[0;36mrandrange\u001b[0;34m(self, start, stop, step, _int)\u001b[0m\n\u001b[1;32m    197\u001b[0m             \u001b[0;32mreturn\u001b[0m \u001b[0mistart\u001b[0m \u001b[0;34m+\u001b[0m \u001b[0mself\u001b[0m\u001b[0;34m.\u001b[0m\u001b[0m_randbelow\u001b[0m\u001b[0;34m(\u001b[0m\u001b[0mwidth\u001b[0m\u001b[0;34m)\u001b[0m\u001b[0;34m\u001b[0m\u001b[0;34m\u001b[0m\u001b[0m\n\u001b[1;32m    198\u001b[0m         \u001b[0;32mif\u001b[0m \u001b[0mstep\u001b[0m \u001b[0;34m==\u001b[0m \u001b[0;36m1\u001b[0m\u001b[0;34m:\u001b[0m\u001b[0;34m\u001b[0m\u001b[0;34m\u001b[0m\u001b[0m\n\u001b[0;32m--> 199\u001b[0;31m             \u001b[0;32mraise\u001b[0m \u001b[0mValueError\u001b[0m\u001b[0;34m(\u001b[0m\u001b[0;34m\"empty range for randrange() (%d,%d, %d)\"\u001b[0m \u001b[0;34m%\u001b[0m \u001b[0;34m(\u001b[0m\u001b[0mistart\u001b[0m\u001b[0;34m,\u001b[0m \u001b[0mistop\u001b[0m\u001b[0;34m,\u001b[0m \u001b[0mwidth\u001b[0m\u001b[0;34m)\u001b[0m\u001b[0;34m)\u001b[0m\u001b[0;34m\u001b[0m\u001b[0;34m\u001b[0m\u001b[0m\n\u001b[0m\u001b[1;32m    200\u001b[0m \u001b[0;34m\u001b[0m\u001b[0m\n\u001b[1;32m    201\u001b[0m         \u001b[0;31m# Non-unit step argument supplied.\u001b[0m\u001b[0;34m\u001b[0m\u001b[0;34m\u001b[0m\u001b[0;34m\u001b[0m\u001b[0m\n",
            "\u001b[0;31mValueError\u001b[0m: empty range for randrange() (0,-599, -599)"
          ]
        }
      ]
    },
    {
      "cell_type": "code",
      "metadata": {
        "id": "3pcwtP_a9pk_",
        "colab_type": "code",
        "colab": {}
      },
      "source": [
        ""
      ],
      "execution_count": 0,
      "outputs": []
    }
  ]
}